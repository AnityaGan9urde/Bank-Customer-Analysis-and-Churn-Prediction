{
 "cells": [
  {
   "cell_type": "markdown",
   "id": "4a8a5285",
   "metadata": {
    "papermill": {
     "duration": 0.05709,
     "end_time": "2021-12-01T09:05:44.283329",
     "exception": false,
     "start_time": "2021-12-01T09:05:44.226239",
     "status": "completed"
    },
    "tags": []
   },
   "source": [
    "# **BANK CUSTOMER CHURN PREDICTION**\n",
    "![Photo by <a href=\"https://unsplash.com/@clemono?utm_source=unsplash&utm_medium=referral&utm_content=creditCopyText\">Clem Onojeghuo</a> on <a href=\"https://unsplash.com/s/photos/churn?utm_source=unsplash&utm_medium=referral&utm_content=creditCopyText\">Unsplash</a>\n",
    "  ](https://images.unsplash.com/photo-1465125159090-b104362936e1?ixlib=rb-1.2.1&ixid=MnwxMjA3fDB8MHxwaG90by1wYWdlfHx8fGVufDB8fHx8&auto=format&fit=crop&w=1190&q=80)\n",
    "> Image credits: Clem Onojeghuo from Unsplash\n",
    "\n",
    "Churn prediction models have become a very important asset in determining the customer behaviour for a company. The churn rate drives decision making and makes the company analyse itself and the way they provide its services to the customer. Churn prediction consists of detecting which customers are likely to cancel a subscription to a service based on how they use the service. As it is more costlier to get new customers than to keep the old ones, Churn models have become very necessary.\n",
    "<br/>\n",
    "For a bank, predicting the churn rate is to determine which customers are closing their bank accounts and what factors are leading to their decisions. A Churn Prediction Model might be useful in this case to predict way before a person might close their account. The factors leading to customer churn are also very important to analyse closely and make important decisions in changing or modifying the current workings of the company or a service provider."
   ]
  },
  {
   "cell_type": "markdown",
   "id": "c0bf6256",
   "metadata": {
    "papermill": {
     "duration": 0.061236,
     "end_time": "2021-12-01T09:05:44.403310",
     "exception": false,
     "start_time": "2021-12-01T09:05:44.342074",
     "status": "completed"
    },
    "tags": []
   },
   "source": [
    ">To create a churn model I have selected the `churn-modelling` dataset. The dataset consists of various information on the customers and a target column called `'Exited'` that tells whether they have closed their bank accounts. Let's start!"
   ]
  },
  {
   "cell_type": "markdown",
   "id": "d4d2bf32",
   "metadata": {
    "papermill": {
     "duration": 0.053836,
     "end_time": "2021-12-01T09:05:44.513534",
     "exception": false,
     "start_time": "2021-12-01T09:05:44.459698",
     "status": "completed"
    },
    "tags": []
   },
   "source": [
    "# Contents:\n",
    "1. <a href='#imports'>Imports</a>\n",
    "2. <a href='#dataanalysis'>Data Analysis</a>\n",
    "   1. <a href='#datareading'>Data Reading</a>\n",
    "   2. <a href='#datacleaning'>Data Cleaning</a>\n",
    "   3. <a href='#datawrangling'>Data Wrangling with EDA</a>\n",
    "3. <a href='#modeltraining'>Model Training</a>\n",
    "   1. <a href='#lrmodel'>Training a Logistic Regression model as a base model</a>\n",
    "   2. <a href='#xgboost'>Training on XG-Boost</a>\n",
    "   3. <a href='#hyperparam'>Hyperparameter tuning for XG-Boost</a>\n",
    "4. <a href='#results'>Results</a>"
   ]
  },
  {
   "cell_type": "markdown",
   "id": "ecfd73a5",
   "metadata": {
    "papermill": {
     "duration": 0.053756,
     "end_time": "2021-12-01T09:05:44.621607",
     "exception": false,
     "start_time": "2021-12-01T09:05:44.567851",
     "status": "completed"
    },
    "tags": []
   },
   "source": [
    "# 1. <a id='imports'>Imports</a>\n",
    "### Let us start by importing our usual libraries."
   ]
  },
  {
   "cell_type": "code",
   "execution_count": 1,
   "id": "809e8a18",
   "metadata": {
    "_cell_guid": "b1076dfc-b9ad-4769-8c92-a6c4dae69d19",
    "_kg_hide-input": true,
    "_kg_hide-output": true,
    "_uuid": "8f2839f25d086af736a60e9eeb907d3b93b6e0e5",
    "execution": {
     "iopub.execute_input": "2021-12-01T09:05:44.745268Z",
     "iopub.status.busy": "2021-12-01T09:05:44.744739Z",
     "iopub.status.idle": "2021-12-01T09:05:44.756955Z",
     "shell.execute_reply": "2021-12-01T09:05:44.757876Z",
     "shell.execute_reply.started": "2021-12-01T07:51:44.535641Z"
    },
    "papermill": {
     "duration": 0.079767,
     "end_time": "2021-12-01T09:05:44.758184",
     "exception": false,
     "start_time": "2021-12-01T09:05:44.678417",
     "status": "completed"
    },
    "tags": []
   },
   "outputs": [
    {
     "name": "stdout",
     "output_type": "stream",
     "text": [
      "/kaggle/input/churn-modelling/Churn_Modelling.csv\n"
     ]
    }
   ],
   "source": [
    "import os\n",
    "for dirname, _, filenames in os.walk('/kaggle/input'):\n",
    "    for filename in filenames:\n",
    "        print(os.path.join(dirname, filename))"
   ]
  },
  {
   "cell_type": "code",
   "execution_count": 2,
   "id": "baf2dbcc",
   "metadata": {
    "execution": {
     "iopub.execute_input": "2021-12-01T09:05:44.876334Z",
     "iopub.status.busy": "2021-12-01T09:05:44.875076Z",
     "iopub.status.idle": "2021-12-01T09:05:45.981407Z",
     "shell.execute_reply": "2021-12-01T09:05:45.980882Z",
     "shell.execute_reply.started": "2021-12-01T07:51:44.565222Z"
    },
    "papermill": {
     "duration": 1.166856,
     "end_time": "2021-12-01T09:05:45.981550",
     "exception": false,
     "start_time": "2021-12-01T09:05:44.814694",
     "status": "completed"
    },
    "tags": []
   },
   "outputs": [],
   "source": [
    "import numpy as np\n",
    "import pandas as pd\n",
    "import matplotlib.pyplot as plt\n",
    "import seaborn as sns\n",
    "\n",
    "from sklearn.model_selection import train_test_split\n",
    "from sklearn.metrics import roc_auc_score, plot_roc_curve, plot_precision_recall_curve\n",
    "from sklearn.metrics import classification_report, confusion_matrix\n",
    "from sklearn.model_selection import GridSearchCV, cross_val_score, RepeatedStratifiedKFold\n",
    "\n",
    "from sklearn.linear_model import LogisticRegression\n",
    "from xgboost import XGBClassifier\n",
    "\n",
    "from numpy import mean\n",
    "\n",
    "import warnings\n",
    "warnings.filterwarnings('ignore')\n",
    "\n",
    "seed = 46"
   ]
  },
  {
   "cell_type": "markdown",
   "id": "f153752b",
   "metadata": {
    "papermill": {
     "duration": 0.056105,
     "end_time": "2021-12-01T09:05:46.092594",
     "exception": false,
     "start_time": "2021-12-01T09:05:46.036489",
     "status": "completed"
    },
    "tags": []
   },
   "source": [
    "# 2. <a id='dataanalysis'>Data Analysis</a>\n",
    "### We will start by analysing the data. First we will read the dataset and see for any missing values using pandas. Then we will go through the dataset and replace all the values which are not in the right format."
   ]
  },
  {
   "cell_type": "markdown",
   "id": "a93d0b34",
   "metadata": {
    "papermill": {
     "duration": 0.054355,
     "end_time": "2021-12-01T09:05:46.202038",
     "exception": false,
     "start_time": "2021-12-01T09:05:46.147683",
     "status": "completed"
    },
    "tags": []
   },
   "source": [
    "## 2.1. <a id='datareading'>Data Reading</a>"
   ]
  },
  {
   "cell_type": "code",
   "execution_count": 3,
   "id": "5cb8192b",
   "metadata": {
    "execution": {
     "iopub.execute_input": "2021-12-01T09:05:46.317848Z",
     "iopub.status.busy": "2021-12-01T09:05:46.317264Z",
     "iopub.status.idle": "2021-12-01T09:05:46.354092Z",
     "shell.execute_reply": "2021-12-01T09:05:46.353504Z",
     "shell.execute_reply.started": "2021-12-01T07:51:45.633147Z"
    },
    "papermill": {
     "duration": 0.096101,
     "end_time": "2021-12-01T09:05:46.354280",
     "exception": false,
     "start_time": "2021-12-01T09:05:46.258179",
     "status": "completed"
    },
    "tags": []
   },
   "outputs": [],
   "source": [
    "data = pd.read_csv('/kaggle/input/churn-modelling/Churn_Modelling.csv')"
   ]
  },
  {
   "cell_type": "code",
   "execution_count": 4,
   "id": "31fb4bce",
   "metadata": {
    "execution": {
     "iopub.execute_input": "2021-12-01T09:05:46.482279Z",
     "iopub.status.busy": "2021-12-01T09:05:46.481374Z",
     "iopub.status.idle": "2021-12-01T09:05:46.484930Z",
     "shell.execute_reply": "2021-12-01T09:05:46.485376Z",
     "shell.execute_reply.started": "2021-12-01T07:51:45.677946Z"
    },
    "papermill": {
     "duration": 0.066828,
     "end_time": "2021-12-01T09:05:46.485515",
     "exception": false,
     "start_time": "2021-12-01T09:05:46.418687",
     "status": "completed"
    },
    "tags": []
   },
   "outputs": [
    {
     "data": {
      "text/plain": [
       "10000"
      ]
     },
     "execution_count": 4,
     "metadata": {},
     "output_type": "execute_result"
    }
   ],
   "source": [
    "len(data)"
   ]
  },
  {
   "cell_type": "code",
   "execution_count": 5,
   "id": "57077622",
   "metadata": {
    "execution": {
     "iopub.execute_input": "2021-12-01T09:05:46.606010Z",
     "iopub.status.busy": "2021-12-01T09:05:46.605285Z",
     "iopub.status.idle": "2021-12-01T09:05:46.626059Z",
     "shell.execute_reply": "2021-12-01T09:05:46.626588Z",
     "shell.execute_reply.started": "2021-12-01T07:51:45.687037Z"
    },
    "papermill": {
     "duration": 0.085783,
     "end_time": "2021-12-01T09:05:46.626767",
     "exception": false,
     "start_time": "2021-12-01T09:05:46.540984",
     "status": "completed"
    },
    "tags": []
   },
   "outputs": [
    {
     "data": {
      "text/html": [
       "<div>\n",
       "<style scoped>\n",
       "    .dataframe tbody tr th:only-of-type {\n",
       "        vertical-align: middle;\n",
       "    }\n",
       "\n",
       "    .dataframe tbody tr th {\n",
       "        vertical-align: top;\n",
       "    }\n",
       "\n",
       "    .dataframe thead th {\n",
       "        text-align: right;\n",
       "    }\n",
       "</style>\n",
       "<table border=\"1\" class=\"dataframe\">\n",
       "  <thead>\n",
       "    <tr style=\"text-align: right;\">\n",
       "      <th></th>\n",
       "      <th>RowNumber</th>\n",
       "      <th>CustomerId</th>\n",
       "      <th>Surname</th>\n",
       "      <th>CreditScore</th>\n",
       "      <th>Geography</th>\n",
       "      <th>Gender</th>\n",
       "      <th>Age</th>\n",
       "      <th>Tenure</th>\n",
       "      <th>Balance</th>\n",
       "      <th>NumOfProducts</th>\n",
       "      <th>HasCrCard</th>\n",
       "      <th>IsActiveMember</th>\n",
       "      <th>EstimatedSalary</th>\n",
       "      <th>Exited</th>\n",
       "    </tr>\n",
       "  </thead>\n",
       "  <tbody>\n",
       "    <tr>\n",
       "      <th>0</th>\n",
       "      <td>1</td>\n",
       "      <td>15634602</td>\n",
       "      <td>Hargrave</td>\n",
       "      <td>619</td>\n",
       "      <td>France</td>\n",
       "      <td>Female</td>\n",
       "      <td>42</td>\n",
       "      <td>2</td>\n",
       "      <td>0.00</td>\n",
       "      <td>1</td>\n",
       "      <td>1</td>\n",
       "      <td>1</td>\n",
       "      <td>101348.88</td>\n",
       "      <td>1</td>\n",
       "    </tr>\n",
       "    <tr>\n",
       "      <th>1</th>\n",
       "      <td>2</td>\n",
       "      <td>15647311</td>\n",
       "      <td>Hill</td>\n",
       "      <td>608</td>\n",
       "      <td>Spain</td>\n",
       "      <td>Female</td>\n",
       "      <td>41</td>\n",
       "      <td>1</td>\n",
       "      <td>83807.86</td>\n",
       "      <td>1</td>\n",
       "      <td>0</td>\n",
       "      <td>1</td>\n",
       "      <td>112542.58</td>\n",
       "      <td>0</td>\n",
       "    </tr>\n",
       "    <tr>\n",
       "      <th>2</th>\n",
       "      <td>3</td>\n",
       "      <td>15619304</td>\n",
       "      <td>Onio</td>\n",
       "      <td>502</td>\n",
       "      <td>France</td>\n",
       "      <td>Female</td>\n",
       "      <td>42</td>\n",
       "      <td>8</td>\n",
       "      <td>159660.80</td>\n",
       "      <td>3</td>\n",
       "      <td>1</td>\n",
       "      <td>0</td>\n",
       "      <td>113931.57</td>\n",
       "      <td>1</td>\n",
       "    </tr>\n",
       "    <tr>\n",
       "      <th>3</th>\n",
       "      <td>4</td>\n",
       "      <td>15701354</td>\n",
       "      <td>Boni</td>\n",
       "      <td>699</td>\n",
       "      <td>France</td>\n",
       "      <td>Female</td>\n",
       "      <td>39</td>\n",
       "      <td>1</td>\n",
       "      <td>0.00</td>\n",
       "      <td>2</td>\n",
       "      <td>0</td>\n",
       "      <td>0</td>\n",
       "      <td>93826.63</td>\n",
       "      <td>0</td>\n",
       "    </tr>\n",
       "    <tr>\n",
       "      <th>4</th>\n",
       "      <td>5</td>\n",
       "      <td>15737888</td>\n",
       "      <td>Mitchell</td>\n",
       "      <td>850</td>\n",
       "      <td>Spain</td>\n",
       "      <td>Female</td>\n",
       "      <td>43</td>\n",
       "      <td>2</td>\n",
       "      <td>125510.82</td>\n",
       "      <td>1</td>\n",
       "      <td>1</td>\n",
       "      <td>1</td>\n",
       "      <td>79084.10</td>\n",
       "      <td>0</td>\n",
       "    </tr>\n",
       "  </tbody>\n",
       "</table>\n",
       "</div>"
      ],
      "text/plain": [
       "   RowNumber  CustomerId   Surname  CreditScore Geography  Gender  Age  \\\n",
       "0          1    15634602  Hargrave          619    France  Female   42   \n",
       "1          2    15647311      Hill          608     Spain  Female   41   \n",
       "2          3    15619304      Onio          502    France  Female   42   \n",
       "3          4    15701354      Boni          699    France  Female   39   \n",
       "4          5    15737888  Mitchell          850     Spain  Female   43   \n",
       "\n",
       "   Tenure    Balance  NumOfProducts  HasCrCard  IsActiveMember  \\\n",
       "0       2       0.00              1          1               1   \n",
       "1       1   83807.86              1          0               1   \n",
       "2       8  159660.80              3          1               0   \n",
       "3       1       0.00              2          0               0   \n",
       "4       2  125510.82              1          1               1   \n",
       "\n",
       "   EstimatedSalary  Exited  \n",
       "0        101348.88       1  \n",
       "1        112542.58       0  \n",
       "2        113931.57       1  \n",
       "3         93826.63       0  \n",
       "4         79084.10       0  "
      ]
     },
     "execution_count": 5,
     "metadata": {},
     "output_type": "execute_result"
    }
   ],
   "source": [
    "data.head()"
   ]
  },
  {
   "cell_type": "code",
   "execution_count": 6,
   "id": "dc7dd691",
   "metadata": {
    "execution": {
     "iopub.execute_input": "2021-12-01T09:05:46.757887Z",
     "iopub.status.busy": "2021-12-01T09:05:46.756963Z",
     "iopub.status.idle": "2021-12-01T09:05:46.760318Z",
     "shell.execute_reply": "2021-12-01T09:05:46.760818Z",
     "shell.execute_reply.started": "2021-12-01T07:51:45.717760Z"
    },
    "papermill": {
     "duration": 0.076101,
     "end_time": "2021-12-01T09:05:46.760958",
     "exception": false,
     "start_time": "2021-12-01T09:05:46.684857",
     "status": "completed"
    },
    "tags": []
   },
   "outputs": [
    {
     "data": {
      "text/html": [
       "<div>\n",
       "<style scoped>\n",
       "    .dataframe tbody tr th:only-of-type {\n",
       "        vertical-align: middle;\n",
       "    }\n",
       "\n",
       "    .dataframe tbody tr th {\n",
       "        vertical-align: top;\n",
       "    }\n",
       "\n",
       "    .dataframe thead th {\n",
       "        text-align: right;\n",
       "    }\n",
       "</style>\n",
       "<table border=\"1\" class=\"dataframe\">\n",
       "  <thead>\n",
       "    <tr style=\"text-align: right;\">\n",
       "      <th></th>\n",
       "      <th>RowNumber</th>\n",
       "      <th>CustomerId</th>\n",
       "      <th>Surname</th>\n",
       "      <th>CreditScore</th>\n",
       "      <th>Geography</th>\n",
       "      <th>Gender</th>\n",
       "      <th>Age</th>\n",
       "      <th>Tenure</th>\n",
       "      <th>Balance</th>\n",
       "      <th>NumOfProducts</th>\n",
       "      <th>HasCrCard</th>\n",
       "      <th>IsActiveMember</th>\n",
       "      <th>EstimatedSalary</th>\n",
       "      <th>Exited</th>\n",
       "    </tr>\n",
       "  </thead>\n",
       "  <tbody>\n",
       "    <tr>\n",
       "      <th>9995</th>\n",
       "      <td>9996</td>\n",
       "      <td>15606229</td>\n",
       "      <td>Obijiaku</td>\n",
       "      <td>771</td>\n",
       "      <td>France</td>\n",
       "      <td>Male</td>\n",
       "      <td>39</td>\n",
       "      <td>5</td>\n",
       "      <td>0.00</td>\n",
       "      <td>2</td>\n",
       "      <td>1</td>\n",
       "      <td>0</td>\n",
       "      <td>96270.64</td>\n",
       "      <td>0</td>\n",
       "    </tr>\n",
       "    <tr>\n",
       "      <th>9996</th>\n",
       "      <td>9997</td>\n",
       "      <td>15569892</td>\n",
       "      <td>Johnstone</td>\n",
       "      <td>516</td>\n",
       "      <td>France</td>\n",
       "      <td>Male</td>\n",
       "      <td>35</td>\n",
       "      <td>10</td>\n",
       "      <td>57369.61</td>\n",
       "      <td>1</td>\n",
       "      <td>1</td>\n",
       "      <td>1</td>\n",
       "      <td>101699.77</td>\n",
       "      <td>0</td>\n",
       "    </tr>\n",
       "    <tr>\n",
       "      <th>9997</th>\n",
       "      <td>9998</td>\n",
       "      <td>15584532</td>\n",
       "      <td>Liu</td>\n",
       "      <td>709</td>\n",
       "      <td>France</td>\n",
       "      <td>Female</td>\n",
       "      <td>36</td>\n",
       "      <td>7</td>\n",
       "      <td>0.00</td>\n",
       "      <td>1</td>\n",
       "      <td>0</td>\n",
       "      <td>1</td>\n",
       "      <td>42085.58</td>\n",
       "      <td>1</td>\n",
       "    </tr>\n",
       "    <tr>\n",
       "      <th>9998</th>\n",
       "      <td>9999</td>\n",
       "      <td>15682355</td>\n",
       "      <td>Sabbatini</td>\n",
       "      <td>772</td>\n",
       "      <td>Germany</td>\n",
       "      <td>Male</td>\n",
       "      <td>42</td>\n",
       "      <td>3</td>\n",
       "      <td>75075.31</td>\n",
       "      <td>2</td>\n",
       "      <td>1</td>\n",
       "      <td>0</td>\n",
       "      <td>92888.52</td>\n",
       "      <td>1</td>\n",
       "    </tr>\n",
       "    <tr>\n",
       "      <th>9999</th>\n",
       "      <td>10000</td>\n",
       "      <td>15628319</td>\n",
       "      <td>Walker</td>\n",
       "      <td>792</td>\n",
       "      <td>France</td>\n",
       "      <td>Female</td>\n",
       "      <td>28</td>\n",
       "      <td>4</td>\n",
       "      <td>130142.79</td>\n",
       "      <td>1</td>\n",
       "      <td>1</td>\n",
       "      <td>0</td>\n",
       "      <td>38190.78</td>\n",
       "      <td>0</td>\n",
       "    </tr>\n",
       "  </tbody>\n",
       "</table>\n",
       "</div>"
      ],
      "text/plain": [
       "      RowNumber  CustomerId    Surname  CreditScore Geography  Gender  Age  \\\n",
       "9995       9996    15606229   Obijiaku          771    France    Male   39   \n",
       "9996       9997    15569892  Johnstone          516    France    Male   35   \n",
       "9997       9998    15584532        Liu          709    France  Female   36   \n",
       "9998       9999    15682355  Sabbatini          772   Germany    Male   42   \n",
       "9999      10000    15628319     Walker          792    France  Female   28   \n",
       "\n",
       "      Tenure    Balance  NumOfProducts  HasCrCard  IsActiveMember  \\\n",
       "9995       5       0.00              2          1               0   \n",
       "9996      10   57369.61              1          1               1   \n",
       "9997       7       0.00              1          0               1   \n",
       "9998       3   75075.31              2          1               0   \n",
       "9999       4  130142.79              1          1               0   \n",
       "\n",
       "      EstimatedSalary  Exited  \n",
       "9995         96270.64       0  \n",
       "9996        101699.77       0  \n",
       "9997         42085.58       1  \n",
       "9998         92888.52       1  \n",
       "9999         38190.78       0  "
      ]
     },
     "execution_count": 6,
     "metadata": {},
     "output_type": "execute_result"
    }
   ],
   "source": [
    "data.tail()"
   ]
  },
  {
   "cell_type": "markdown",
   "id": "dd220987",
   "metadata": {
    "papermill": {
     "duration": 0.05632,
     "end_time": "2021-12-01T09:05:46.877605",
     "exception": false,
     "start_time": "2021-12-01T09:05:46.821285",
     "status": "completed"
    },
    "tags": []
   },
   "source": [
    ">#### Creating a copy so that we can revert back to the original dataset whenever necessary."
   ]
  },
  {
   "cell_type": "code",
   "execution_count": 7,
   "id": "89809ee0",
   "metadata": {
    "execution": {
     "iopub.execute_input": "2021-12-01T09:05:46.994695Z",
     "iopub.status.busy": "2021-12-01T09:05:46.994059Z",
     "iopub.status.idle": "2021-12-01T09:05:46.998644Z",
     "shell.execute_reply": "2021-12-01T09:05:46.998175Z",
     "shell.execute_reply.started": "2021-12-01T07:51:45.736846Z"
    },
    "papermill": {
     "duration": 0.063951,
     "end_time": "2021-12-01T09:05:46.998763",
     "exception": false,
     "start_time": "2021-12-01T09:05:46.934812",
     "status": "completed"
    },
    "tags": []
   },
   "outputs": [],
   "source": [
    "df = data.copy()"
   ]
  },
  {
   "cell_type": "markdown",
   "id": "29e66cde",
   "metadata": {
    "papermill": {
     "duration": 0.094214,
     "end_time": "2021-12-01T09:05:47.151407",
     "exception": false,
     "start_time": "2021-12-01T09:05:47.057193",
     "status": "completed"
    },
    "tags": []
   },
   "source": [
    "## 2.2. <a id='datacleaning'>Data Cleaning</a>\n",
    "### Let's first see if the target classes have equal number of entries or not."
   ]
  },
  {
   "cell_type": "code",
   "execution_count": 8,
   "id": "ee0d13d5",
   "metadata": {
    "execution": {
     "iopub.execute_input": "2021-12-01T09:05:47.352011Z",
     "iopub.status.busy": "2021-12-01T09:05:47.351205Z",
     "iopub.status.idle": "2021-12-01T09:05:47.359440Z",
     "shell.execute_reply": "2021-12-01T09:05:47.360180Z",
     "shell.execute_reply.started": "2021-12-01T07:51:45.745688Z"
    },
    "papermill": {
     "duration": 0.106909,
     "end_time": "2021-12-01T09:05:47.360381",
     "exception": false,
     "start_time": "2021-12-01T09:05:47.253472",
     "status": "completed"
    },
    "tags": []
   },
   "outputs": [
    {
     "data": {
      "text/plain": [
       "0    7963\n",
       "1    2037\n",
       "Name: Exited, dtype: int64"
      ]
     },
     "execution_count": 8,
     "metadata": {},
     "output_type": "execute_result"
    }
   ],
   "source": [
    "df['Exited'].value_counts()"
   ]
  },
  {
   "cell_type": "markdown",
   "id": "cd9942f5",
   "metadata": {
    "papermill": {
     "duration": 0.092728,
     "end_time": "2021-12-01T09:05:47.545133",
     "exception": false,
     "start_time": "2021-12-01T09:05:47.452405",
     "status": "completed"
    },
    "tags": []
   },
   "source": [
    "<a id=\"imb\"></a>"
   ]
  },
  {
   "cell_type": "code",
   "execution_count": 9,
   "id": "c06641a3",
   "metadata": {
    "execution": {
     "iopub.execute_input": "2021-12-01T09:05:47.707672Z",
     "iopub.status.busy": "2021-12-01T09:05:47.706803Z",
     "iopub.status.idle": "2021-12-01T09:05:47.725336Z",
     "shell.execute_reply": "2021-12-01T09:05:47.725949Z",
     "shell.execute_reply.started": "2021-12-01T07:51:45.759015Z"
    },
    "papermill": {
     "duration": 0.088675,
     "end_time": "2021-12-01T09:05:47.726135",
     "exception": false,
     "start_time": "2021-12-01T09:05:47.637460",
     "status": "completed"
    },
    "tags": []
   },
   "outputs": [
    {
     "name": "stdout",
     "output_type": "stream",
     "text": [
      "Class imbalance percentage: 25.580811252040686%\n"
     ]
    }
   ],
   "source": [
    "print('Class imbalance percentage: {}%'.format(len(df[df['Exited']==1])/(len(df[df['Exited']==0]))*100))"
   ]
  },
  {
   "cell_type": "markdown",
   "id": "2b5e76ad",
   "metadata": {
    "papermill": {
     "duration": 0.055752,
     "end_time": "2021-12-01T09:05:47.839623",
     "exception": false,
     "start_time": "2021-12-01T09:05:47.783871",
     "status": "completed"
    },
    "tags": []
   },
   "source": [
    "> #### The class 0 has around 6000 more values than the class 1 making this dataset skewed and the classes imbalanced."
   ]
  },
  {
   "cell_type": "code",
   "execution_count": 10,
   "id": "4097f43e",
   "metadata": {
    "execution": {
     "iopub.execute_input": "2021-12-01T09:05:47.960390Z",
     "iopub.status.busy": "2021-12-01T09:05:47.959766Z",
     "iopub.status.idle": "2021-12-01T09:05:47.963772Z",
     "shell.execute_reply": "2021-12-01T09:05:47.963041Z",
     "shell.execute_reply.started": "2021-12-01T07:51:45.780862Z"
    },
    "papermill": {
     "duration": 0.067983,
     "end_time": "2021-12-01T09:05:47.963915",
     "exception": false,
     "start_time": "2021-12-01T09:05:47.895932",
     "status": "completed"
    },
    "tags": []
   },
   "outputs": [
    {
     "name": "stdout",
     "output_type": "stream",
     "text": [
      "Index(['RowNumber', 'CustomerId', 'Surname', 'CreditScore', 'Geography',\n",
      "       'Gender', 'Age', 'Tenure', 'Balance', 'NumOfProducts', 'HasCrCard',\n",
      "       'IsActiveMember', 'EstimatedSalary', 'Exited'],\n",
      "      dtype='object')\n"
     ]
    }
   ],
   "source": [
    "print(df.columns)"
   ]
  },
  {
   "cell_type": "code",
   "execution_count": 11,
   "id": "58fece48",
   "metadata": {
    "execution": {
     "iopub.execute_input": "2021-12-01T09:05:48.099008Z",
     "iopub.status.busy": "2021-12-01T09:05:48.098138Z",
     "iopub.status.idle": "2021-12-01T09:05:48.105394Z",
     "shell.execute_reply": "2021-12-01T09:05:48.104789Z",
     "shell.execute_reply.started": "2021-12-01T07:51:45.787714Z"
    },
    "papermill": {
     "duration": 0.080449,
     "end_time": "2021-12-01T09:05:48.105521",
     "exception": false,
     "start_time": "2021-12-01T09:05:48.025072",
     "status": "completed"
    },
    "tags": []
   },
   "outputs": [
    {
     "data": {
      "text/plain": [
       "RowNumber          0\n",
       "CustomerId         0\n",
       "Surname            0\n",
       "CreditScore        0\n",
       "Geography          0\n",
       "Gender             0\n",
       "Age                0\n",
       "Tenure             0\n",
       "Balance            0\n",
       "NumOfProducts      0\n",
       "HasCrCard          0\n",
       "IsActiveMember     0\n",
       "EstimatedSalary    0\n",
       "Exited             0\n",
       "dtype: int64"
      ]
     },
     "execution_count": 11,
     "metadata": {},
     "output_type": "execute_result"
    }
   ],
   "source": [
    "df.isnull().sum()"
   ]
  },
  {
   "cell_type": "markdown",
   "id": "72285e9f",
   "metadata": {
    "papermill": {
     "duration": 0.057322,
     "end_time": "2021-12-01T09:05:48.221369",
     "exception": false,
     "start_time": "2021-12-01T09:05:48.164047",
     "status": "completed"
    },
    "tags": []
   },
   "source": [
    ">#### No missing values found so we move on to the next step."
   ]
  },
  {
   "cell_type": "markdown",
   "id": "480ac010",
   "metadata": {
    "papermill": {
     "duration": 0.056802,
     "end_time": "2021-12-01T09:05:48.334679",
     "exception": false,
     "start_time": "2021-12-01T09:05:48.277877",
     "status": "completed"
    },
    "tags": []
   },
   "source": [
    "## 2.3. <a id='datawrangling'>Data Wrangling with EDA</a>\n",
    "### Here, we will conduct some Exploratory Data Analysis to determine which features are necessary and which are just useless. We will also convert categorical features into numerical ones to make it easier for the model to understand our data."
   ]
  },
  {
   "cell_type": "markdown",
   "id": "73862d5f",
   "metadata": {
    "papermill": {
     "duration": 0.056365,
     "end_time": "2021-12-01T09:05:48.448448",
     "exception": false,
     "start_time": "2021-12-01T09:05:48.392083",
     "status": "completed"
    },
    "tags": []
   },
   "source": [
    "> #### Features: CreditScore, Geography, Gender, Age, Tenure, Balance, NumOfProducts, HasCrCard, IsActiveMember, EstimatedSalary\n",
    "\n",
    "> #### Target: Exited"
   ]
  },
  {
   "cell_type": "markdown",
   "id": "ec8647c0",
   "metadata": {
    "papermill": {
     "duration": 0.056428,
     "end_time": "2021-12-01T09:05:48.561252",
     "exception": false,
     "start_time": "2021-12-01T09:05:48.504824",
     "status": "completed"
    },
    "tags": []
   },
   "source": [
    "#### Heatmap for our data:"
   ]
  },
  {
   "cell_type": "code",
   "execution_count": 12,
   "id": "87d8aa79",
   "metadata": {
    "execution": {
     "iopub.execute_input": "2021-12-01T09:05:48.680756Z",
     "iopub.status.busy": "2021-12-01T09:05:48.680171Z",
     "iopub.status.idle": "2021-12-01T09:05:49.404831Z",
     "shell.execute_reply": "2021-12-01T09:05:49.405260Z",
     "shell.execute_reply.started": "2021-12-01T07:51:45.803015Z"
    },
    "papermill": {
     "duration": 0.788147,
     "end_time": "2021-12-01T09:05:49.405409",
     "exception": false,
     "start_time": "2021-12-01T09:05:48.617262",
     "status": "completed"
    },
    "tags": []
   },
   "outputs": [
    {
     "data": {
      "text/plain": [
       "<AxesSubplot:>"
      ]
     },
     "execution_count": 12,
     "metadata": {},
     "output_type": "execute_result"
    },
    {
     "data": {
      "image/png": "[encoded data removed]",
      "text/plain": [
       "<Figure size 864x864 with 2 Axes>"
      ]
     },
     "metadata": {
      "needs_background": "light"
     },
     "output_type": "display_data"
    }
   ],
   "source": [
    "plt.figure(figsize=(12,12))\n",
    "churn_corr = df.corr()\n",
    "matrix = np.triu(churn_corr)\n",
    "churn_corr_top = churn_corr.index\n",
    "sns.heatmap(df[churn_corr_top].corr(), annot=True, vmin=1.0, vmax=-1.0, mask=matrix, cmap=\"cool\", alpha=0.55)"
   ]
  },
  {
   "cell_type": "markdown",
   "id": "6b997ec2",
   "metadata": {
    "papermill": {
     "duration": 0.061673,
     "end_time": "2021-12-01T09:05:49.525581",
     "exception": false,
     "start_time": "2021-12-01T09:05:49.463908",
     "status": "completed"
    },
    "tags": []
   },
   "source": [
    "#### Class Imbalance shown visually:"
   ]
  },
  {
   "cell_type": "code",
   "execution_count": 13,
   "id": "2c416374",
   "metadata": {
    "execution": {
     "iopub.execute_input": "2021-12-01T09:05:49.653262Z",
     "iopub.status.busy": "2021-12-01T09:05:49.652679Z",
     "iopub.status.idle": "2021-12-01T09:05:49.782407Z",
     "shell.execute_reply": "2021-12-01T09:05:49.781646Z",
     "shell.execute_reply.started": "2021-12-01T07:51:46.558726Z"
    },
    "papermill": {
     "duration": 0.198035,
     "end_time": "2021-12-01T09:05:49.782564",
     "exception": false,
     "start_time": "2021-12-01T09:05:49.584529",
     "status": "completed"
    },
    "tags": []
   },
   "outputs": [
    {
     "data": {
      "text/plain": [
       "<AxesSubplot:xlabel='count', ylabel='Exited'>"
      ]
     },
     "execution_count": 13,
     "metadata": {},
     "output_type": "execute_result"
    },
    {
     "data": {
      "image/png": "[encoded data removed]",
      "text/plain": [
       "<Figure size 1080x216 with 1 Axes>"
      ]
     },
     "metadata": {
      "needs_background": "light"
     },
     "output_type": "display_data"
    }
   ],
   "source": [
    "plt.figure(figsize=(15, 3))\n",
    "sns.countplot(y=df['Exited'], data=df, palette=\"cool\", alpha=0.55, saturation=1)"
   ]
  },
  {
   "cell_type": "markdown",
   "id": "92099064",
   "metadata": {
    "papermill": {
     "duration": 0.062604,
     "end_time": "2021-12-01T09:05:49.909699",
     "exception": false,
     "start_time": "2021-12-01T09:05:49.847095",
     "status": "completed"
    },
    "tags": []
   },
   "source": [
    "### `Credit Scores`:\n",
    "#### Distribution plot for credit scores:"
   ]
  },
  {
   "cell_type": "code",
   "execution_count": 14,
   "id": "00a00295",
   "metadata": {
    "execution": {
     "iopub.execute_input": "2021-12-01T09:05:50.148546Z",
     "iopub.status.busy": "2021-12-01T09:05:50.147473Z",
     "iopub.status.idle": "2021-12-01T09:05:50.528148Z",
     "shell.execute_reply": "2021-12-01T09:05:50.528638Z",
     "shell.execute_reply.started": "2021-12-01T07:51:46.689371Z"
    },
    "papermill": {
     "duration": 0.556535,
     "end_time": "2021-12-01T09:05:50.528794",
     "exception": false,
     "start_time": "2021-12-01T09:05:49.972259",
     "status": "completed"
    },
    "tags": []
   },
   "outputs": [
    {
     "data": {
      "image/png": "[encoded data removed]",
      "text/plain": [
       "<Figure size 1080x360 with 1 Axes>"
      ]
     },
     "metadata": {
      "needs_background": "light"
     },
     "output_type": "display_data"
    }
   ],
   "source": [
    "plt.figure(figsize=(15,5))\n",
    "sns.distplot(x=data[\"CreditScore\"], color=\"violet\", axlabel=\"Credit Scores\")\n",
    "plt.show()"
   ]
  },
  {
   "cell_type": "markdown",
   "id": "e2c65750",
   "metadata": {
    "papermill": {
     "duration": 0.059949,
     "end_time": "2021-12-01T09:05:50.650937",
     "exception": false,
     "start_time": "2021-12-01T09:05:50.590988",
     "status": "completed"
    },
    "tags": []
   },
   "source": [
    ">#### Here I have divided the Credit score column in 5 parts by using `pd.cut()`. The table below shows the 5 bands and the exiting value mean for those bands."
   ]
  },
  {
   "cell_type": "code",
   "execution_count": 15,
   "id": "7a9fe738",
   "metadata": {
    "execution": {
     "iopub.execute_input": "2021-12-01T09:05:50.781175Z",
     "iopub.status.busy": "2021-12-01T09:05:50.780146Z",
     "iopub.status.idle": "2021-12-01T09:05:50.802450Z",
     "shell.execute_reply": "2021-12-01T09:05:50.801966Z",
     "shell.execute_reply.started": "2021-12-01T07:51:47.188469Z"
    },
    "papermill": {
     "duration": 0.090788,
     "end_time": "2021-12-01T09:05:50.802578",
     "exception": false,
     "start_time": "2021-12-01T09:05:50.711790",
     "status": "completed"
    },
    "tags": []
   },
   "outputs": [
    {
     "data": {
      "text/html": [
       "<div>\n",
       "<style scoped>\n",
       "    .dataframe tbody tr th:only-of-type {\n",
       "        vertical-align: middle;\n",
       "    }\n",
       "\n",
       "    .dataframe tbody tr th {\n",
       "        vertical-align: top;\n",
       "    }\n",
       "\n",
       "    .dataframe thead th {\n",
       "        text-align: right;\n",
       "    }\n",
       "</style>\n",
       "<table border=\"1\" class=\"dataframe\">\n",
       "  <thead>\n",
       "    <tr style=\"text-align: right;\">\n",
       "      <th></th>\n",
       "      <th>CreditScoreBand</th>\n",
       "      <th>Exited</th>\n",
       "    </tr>\n",
       "  </thead>\n",
       "  <tbody>\n",
       "    <tr>\n",
       "      <th>0</th>\n",
       "      <td>(349.5, 450.0]</td>\n",
       "      <td>0.322751</td>\n",
       "    </tr>\n",
       "    <tr>\n",
       "      <th>1</th>\n",
       "      <td>(450.0, 550.0]</td>\n",
       "      <td>0.214385</td>\n",
       "    </tr>\n",
       "    <tr>\n",
       "      <th>2</th>\n",
       "      <td>(550.0, 650.0]</td>\n",
       "      <td>0.207780</td>\n",
       "    </tr>\n",
       "    <tr>\n",
       "      <th>3</th>\n",
       "      <td>(650.0, 750.0]</td>\n",
       "      <td>0.192496</td>\n",
       "    </tr>\n",
       "    <tr>\n",
       "      <th>4</th>\n",
       "      <td>(750.0, 850.0]</td>\n",
       "      <td>0.195870</td>\n",
       "    </tr>\n",
       "  </tbody>\n",
       "</table>\n",
       "</div>"
      ],
      "text/plain": [
       "  CreditScoreBand    Exited\n",
       "0  (349.5, 450.0]  0.322751\n",
       "1  (450.0, 550.0]  0.214385\n",
       "2  (550.0, 650.0]  0.207780\n",
       "3  (650.0, 750.0]  0.192496\n",
       "4  (750.0, 850.0]  0.195870"
      ]
     },
     "execution_count": 15,
     "metadata": {},
     "output_type": "execute_result"
    }
   ],
   "source": [
    "df['CreditScoreBand'] = pd.cut(df['CreditScore'], 5)\n",
    "df[['CreditScoreBand', 'Exited']].groupby(['CreditScoreBand'], as_index=False).mean().sort_values(by='CreditScoreBand', ascending=True)"
   ]
  },
  {
   "cell_type": "code",
   "execution_count": 16,
   "id": "30110815",
   "metadata": {
    "execution": {
     "iopub.execute_input": "2021-12-01T09:05:50.928477Z",
     "iopub.status.busy": "2021-12-01T09:05:50.927551Z",
     "iopub.status.idle": "2021-12-01T09:05:50.930296Z",
     "shell.execute_reply": "2021-12-01T09:05:50.929822Z",
     "shell.execute_reply.started": "2021-12-01T07:51:47.215368Z"
    },
    "papermill": {
     "duration": 0.066717,
     "end_time": "2021-12-01T09:05:50.930419",
     "exception": false,
     "start_time": "2021-12-01T09:05:50.863702",
     "status": "completed"
    },
    "tags": []
   },
   "outputs": [],
   "source": [
    "df_ = [df] #making a list so that 'for loops' can be easily implemented"
   ]
  },
  {
   "cell_type": "markdown",
   "id": "3e32ba0b",
   "metadata": {
    "papermill": {
     "duration": 0.060433,
     "end_time": "2021-12-01T09:05:51.051312",
     "exception": false,
     "start_time": "2021-12-01T09:05:50.990879",
     "status": "completed"
    },
    "tags": []
   },
   "source": [
    ">#### Here what I have done is that I have replaced each Credit score band with a value (from 0 to 4) so that now only these values will be displayed instead of the actual credit scores in the table. "
   ]
  },
  {
   "cell_type": "code",
   "execution_count": 17,
   "id": "26fd0190",
   "metadata": {
    "execution": {
     "iopub.execute_input": "2021-12-01T09:05:51.199706Z",
     "iopub.status.busy": "2021-12-01T09:05:51.198633Z",
     "iopub.status.idle": "2021-12-01T09:05:51.224369Z",
     "shell.execute_reply": "2021-12-01T09:05:51.223788Z",
     "shell.execute_reply.started": "2021-12-01T07:51:47.223575Z"
    },
    "papermill": {
     "duration": 0.107736,
     "end_time": "2021-12-01T09:05:51.224533",
     "exception": false,
     "start_time": "2021-12-01T09:05:51.116797",
     "status": "completed"
    },
    "tags": []
   },
   "outputs": [
    {
     "data": {
      "text/html": [
       "<div>\n",
       "<style scoped>\n",
       "    .dataframe tbody tr th:only-of-type {\n",
       "        vertical-align: middle;\n",
       "    }\n",
       "\n",
       "    .dataframe tbody tr th {\n",
       "        vertical-align: top;\n",
       "    }\n",
       "\n",
       "    .dataframe thead th {\n",
       "        text-align: right;\n",
       "    }\n",
       "</style>\n",
       "<table border=\"1\" class=\"dataframe\">\n",
       "  <thead>\n",
       "    <tr style=\"text-align: right;\">\n",
       "      <th></th>\n",
       "      <th>RowNumber</th>\n",
       "      <th>CustomerId</th>\n",
       "      <th>Surname</th>\n",
       "      <th>CreditScore</th>\n",
       "      <th>Geography</th>\n",
       "      <th>Gender</th>\n",
       "      <th>Age</th>\n",
       "      <th>Tenure</th>\n",
       "      <th>Balance</th>\n",
       "      <th>NumOfProducts</th>\n",
       "      <th>HasCrCard</th>\n",
       "      <th>IsActiveMember</th>\n",
       "      <th>EstimatedSalary</th>\n",
       "      <th>Exited</th>\n",
       "      <th>CreditScoreBand</th>\n",
       "    </tr>\n",
       "  </thead>\n",
       "  <tbody>\n",
       "    <tr>\n",
       "      <th>0</th>\n",
       "      <td>1</td>\n",
       "      <td>15634602</td>\n",
       "      <td>Hargrave</td>\n",
       "      <td>2</td>\n",
       "      <td>France</td>\n",
       "      <td>Female</td>\n",
       "      <td>42</td>\n",
       "      <td>2</td>\n",
       "      <td>0.00</td>\n",
       "      <td>1</td>\n",
       "      <td>1</td>\n",
       "      <td>1</td>\n",
       "      <td>101348.88</td>\n",
       "      <td>1</td>\n",
       "      <td>(550.0, 650.0]</td>\n",
       "    </tr>\n",
       "    <tr>\n",
       "      <th>1</th>\n",
       "      <td>2</td>\n",
       "      <td>15647311</td>\n",
       "      <td>Hill</td>\n",
       "      <td>2</td>\n",
       "      <td>Spain</td>\n",
       "      <td>Female</td>\n",
       "      <td>41</td>\n",
       "      <td>1</td>\n",
       "      <td>83807.86</td>\n",
       "      <td>1</td>\n",
       "      <td>0</td>\n",
       "      <td>1</td>\n",
       "      <td>112542.58</td>\n",
       "      <td>0</td>\n",
       "      <td>(550.0, 650.0]</td>\n",
       "    </tr>\n",
       "    <tr>\n",
       "      <th>2</th>\n",
       "      <td>3</td>\n",
       "      <td>15619304</td>\n",
       "      <td>Onio</td>\n",
       "      <td>1</td>\n",
       "      <td>France</td>\n",
       "      <td>Female</td>\n",
       "      <td>42</td>\n",
       "      <td>8</td>\n",
       "      <td>159660.80</td>\n",
       "      <td>3</td>\n",
       "      <td>1</td>\n",
       "      <td>0</td>\n",
       "      <td>113931.57</td>\n",
       "      <td>1</td>\n",
       "      <td>(450.0, 550.0]</td>\n",
       "    </tr>\n",
       "    <tr>\n",
       "      <th>3</th>\n",
       "      <td>4</td>\n",
       "      <td>15701354</td>\n",
       "      <td>Boni</td>\n",
       "      <td>3</td>\n",
       "      <td>France</td>\n",
       "      <td>Female</td>\n",
       "      <td>39</td>\n",
       "      <td>1</td>\n",
       "      <td>0.00</td>\n",
       "      <td>2</td>\n",
       "      <td>0</td>\n",
       "      <td>0</td>\n",
       "      <td>93826.63</td>\n",
       "      <td>0</td>\n",
       "      <td>(650.0, 750.0]</td>\n",
       "    </tr>\n",
       "    <tr>\n",
       "      <th>4</th>\n",
       "      <td>5</td>\n",
       "      <td>15737888</td>\n",
       "      <td>Mitchell</td>\n",
       "      <td>4</td>\n",
       "      <td>Spain</td>\n",
       "      <td>Female</td>\n",
       "      <td>43</td>\n",
       "      <td>2</td>\n",
       "      <td>125510.82</td>\n",
       "      <td>1</td>\n",
       "      <td>1</td>\n",
       "      <td>1</td>\n",
       "      <td>79084.10</td>\n",
       "      <td>0</td>\n",
       "      <td>(750.0, 850.0]</td>\n",
       "    </tr>\n",
       "  </tbody>\n",
       "</table>\n",
       "</div>"
      ],
      "text/plain": [
       "   RowNumber  CustomerId   Surname  CreditScore Geography  Gender  Age  \\\n",
       "0          1    15634602  Hargrave            2    France  Female   42   \n",
       "1          2    15647311      Hill            2     Spain  Female   41   \n",
       "2          3    15619304      Onio            1    France  Female   42   \n",
       "3          4    15701354      Boni            3    France  Female   39   \n",
       "4          5    15737888  Mitchell            4     Spain  Female   43   \n",
       "\n",
       "   Tenure    Balance  NumOfProducts  HasCrCard  IsActiveMember  \\\n",
       "0       2       0.00              1          1               1   \n",
       "1       1   83807.86              1          0               1   \n",
       "2       8  159660.80              3          1               0   \n",
       "3       1       0.00              2          0               0   \n",
       "4       2  125510.82              1          1               1   \n",
       "\n",
       "   EstimatedSalary  Exited CreditScoreBand  \n",
       "0        101348.88       1  (550.0, 650.0]  \n",
       "1        112542.58       0  (550.0, 650.0]  \n",
       "2        113931.57       1  (450.0, 550.0]  \n",
       "3         93826.63       0  (650.0, 750.0]  \n",
       "4         79084.10       0  (750.0, 850.0]  "
      ]
     },
     "execution_count": 17,
     "metadata": {},
     "output_type": "execute_result"
    }
   ],
   "source": [
    "for dataset in df_:    \n",
    "    dataset.loc[(dataset['CreditScore'] > 349.5) & (dataset['CreditScore'] <= 450.0), 'CreditScore'] = 0\n",
    "    dataset.loc[(dataset['CreditScore'] > 450.0) & (dataset['CreditScore'] <= 550.0), 'CreditScore'] = 1\n",
    "    dataset.loc[(dataset['CreditScore'] > 550.0) & (dataset['CreditScore'] <= 650.0), 'CreditScore'] = 2\n",
    "    dataset.loc[(dataset['CreditScore'] > 650.0) & (dataset['CreditScore'] <= 750.0), 'CreditScore'] = 3\n",
    "    dataset.loc[(dataset['CreditScore'] > 750.0) & (dataset['CreditScore'] <= 850.0), 'CreditScore'] = 4\n",
    "df.head()"
   ]
  },
  {
   "cell_type": "markdown",
   "id": "d8994cb7",
   "metadata": {
    "papermill": {
     "duration": 0.064296,
     "end_time": "2021-12-01T09:05:51.367571",
     "exception": false,
     "start_time": "2021-12-01T09:05:51.303275",
     "status": "completed"
    },
    "tags": []
   },
   "source": [
    ">#### Now, let's drop the CreditScoreBand column which has now done its purpose."
   ]
  },
  {
   "cell_type": "code",
   "execution_count": 18,
   "id": "2de3c353",
   "metadata": {
    "execution": {
     "iopub.execute_input": "2021-12-01T09:05:51.496918Z",
     "iopub.status.busy": "2021-12-01T09:05:51.495970Z",
     "iopub.status.idle": "2021-12-01T09:05:51.498942Z",
     "shell.execute_reply": "2021-12-01T09:05:51.498472Z",
     "shell.execute_reply.started": "2021-12-01T07:51:47.256930Z"
    },
    "papermill": {
     "duration": 0.069615,
     "end_time": "2021-12-01T09:05:51.499071",
     "exception": false,
     "start_time": "2021-12-01T09:05:51.429456",
     "status": "completed"
    },
    "tags": []
   },
   "outputs": [],
   "source": [
    "df = df.drop(['CreditScoreBand'], axis=1)\n",
    "df_ = [df]"
   ]
  },
  {
   "cell_type": "markdown",
   "id": "47ddad15",
   "metadata": {
    "papermill": {
     "duration": 0.060537,
     "end_time": "2021-12-01T09:05:51.624718",
     "exception": false,
     "start_time": "2021-12-01T09:05:51.564181",
     "status": "completed"
    },
    "tags": []
   },
   "source": [
    "#### Thus, we have replaced the continuous distribution of the Credit scores into 5 discrete values. Similarly we will conduct such modifications on all the continuous features."
   ]
  },
  {
   "cell_type": "code",
   "execution_count": 19,
   "id": "0e099bc9",
   "metadata": {
    "execution": {
     "iopub.execute_input": "2021-12-01T09:05:51.790531Z",
     "iopub.status.busy": "2021-12-01T09:05:51.779828Z",
     "iopub.status.idle": "2021-12-01T09:05:52.258850Z",
     "shell.execute_reply": "2021-12-01T09:05:52.259302Z",
     "shell.execute_reply.started": "2021-12-01T07:51:47.265451Z"
    },
    "papermill": {
     "duration": 0.570524,
     "end_time": "2021-12-01T09:05:52.259461",
     "exception": false,
     "start_time": "2021-12-01T09:05:51.688937",
     "status": "completed"
    },
    "tags": []
   },
   "outputs": [
    {
     "data": {
      "image/png": "[encoded data removed]",
      "text/plain": [
       "<Figure size 1080x360 with 2 Axes>"
      ]
     },
     "metadata": {
      "needs_background": "light"
     },
     "output_type": "display_data"
    }
   ],
   "source": [
    "fig, ax = plt.subplots(1, 2)\n",
    "sns.distplot(x=data[\"CreditScore\"], color=\"violet\", axlabel=\"Credit Scores\", ax=ax[0])\n",
    "sns.distplot(x=df[\"CreditScore\"], color=\"violet\", axlabel=\"Credit Scores\", ax=ax[1])\n",
    "fig.set_figheight(5)\n",
    "fig.set_figwidth(15)\n",
    "plt.show()"
   ]
  },
  {
   "cell_type": "markdown",
   "id": "ef2908e0",
   "metadata": {
    "papermill": {
     "duration": 0.062323,
     "end_time": "2021-12-01T09:05:52.385094",
     "exception": false,
     "start_time": "2021-12-01T09:05:52.322771",
     "status": "completed"
    },
    "tags": []
   },
   "source": [
    "### `Geography`\n",
    "#### Plot for Geography with Exited:"
   ]
  },
  {
   "cell_type": "code",
   "execution_count": 20,
   "id": "3734044a",
   "metadata": {
    "execution": {
     "iopub.execute_input": "2021-12-01T09:05:52.523150Z",
     "iopub.status.busy": "2021-12-01T09:05:52.522348Z",
     "iopub.status.idle": "2021-12-01T09:05:52.672142Z",
     "shell.execute_reply": "2021-12-01T09:05:52.672606Z",
     "shell.execute_reply.started": "2021-12-01T07:51:47.763373Z"
    },
    "papermill": {
     "duration": 0.224515,
     "end_time": "2021-12-01T09:05:52.672757",
     "exception": false,
     "start_time": "2021-12-01T09:05:52.448242",
     "status": "completed"
    },
    "tags": []
   },
   "outputs": [
    {
     "data": {
      "image/png": "[encoded data removed]",
      "text/plain": [
       "<Figure size 1080x360 with 1 Axes>"
      ]
     },
     "metadata": {
      "needs_background": "light"
     },
     "output_type": "display_data"
    }
   ],
   "source": [
    "plt.figure(figsize=(15, 5))\n",
    "sns.countplot(y=\"Geography\", hue=\"Exited\", data=data, palette=\"cool\", alpha=0.55)\n",
    "plt.show()"
   ]
  },
  {
   "cell_type": "markdown",
   "id": "5f49464e",
   "metadata": {
    "papermill": {
     "duration": 0.062822,
     "end_time": "2021-12-01T09:05:52.799130",
     "exception": false,
     "start_time": "2021-12-01T09:05:52.736308",
     "status": "completed"
    },
    "tags": []
   },
   "source": [
    "#### Here, we can conduct One Hot Encoding and replace the categories: France, Germany and Spain into numbers. But, I went on a more raw approach."
   ]
  },
  {
   "cell_type": "code",
   "execution_count": 21,
   "id": "a5086bb0",
   "metadata": {
    "execution": {
     "iopub.execute_input": "2021-12-01T09:05:52.943328Z",
     "iopub.status.busy": "2021-12-01T09:05:52.942537Z",
     "iopub.status.idle": "2021-12-01T09:05:52.945868Z",
     "shell.execute_reply": "2021-12-01T09:05:52.946387Z",
     "shell.execute_reply.started": "2021-12-01T07:51:47.951453Z"
    },
    "papermill": {
     "duration": 0.084744,
     "end_time": "2021-12-01T09:05:52.946531",
     "exception": false,
     "start_time": "2021-12-01T09:05:52.861787",
     "status": "completed"
    },
    "tags": []
   },
   "outputs": [
    {
     "data": {
      "text/html": [
       "<div>\n",
       "<style scoped>\n",
       "    .dataframe tbody tr th:only-of-type {\n",
       "        vertical-align: middle;\n",
       "    }\n",
       "\n",
       "    .dataframe tbody tr th {\n",
       "        vertical-align: top;\n",
       "    }\n",
       "\n",
       "    .dataframe thead th {\n",
       "        text-align: right;\n",
       "    }\n",
       "</style>\n",
       "<table border=\"1\" class=\"dataframe\">\n",
       "  <thead>\n",
       "    <tr style=\"text-align: right;\">\n",
       "      <th></th>\n",
       "      <th>RowNumber</th>\n",
       "      <th>CustomerId</th>\n",
       "      <th>Surname</th>\n",
       "      <th>CreditScore</th>\n",
       "      <th>Geography</th>\n",
       "      <th>Gender</th>\n",
       "      <th>Age</th>\n",
       "      <th>Tenure</th>\n",
       "      <th>Balance</th>\n",
       "      <th>NumOfProducts</th>\n",
       "      <th>HasCrCard</th>\n",
       "      <th>IsActiveMember</th>\n",
       "      <th>EstimatedSalary</th>\n",
       "      <th>Exited</th>\n",
       "    </tr>\n",
       "  </thead>\n",
       "  <tbody>\n",
       "    <tr>\n",
       "      <th>0</th>\n",
       "      <td>1</td>\n",
       "      <td>15634602</td>\n",
       "      <td>Hargrave</td>\n",
       "      <td>2</td>\n",
       "      <td>0</td>\n",
       "      <td>Female</td>\n",
       "      <td>42</td>\n",
       "      <td>2</td>\n",
       "      <td>0.00</td>\n",
       "      <td>1</td>\n",
       "      <td>1</td>\n",
       "      <td>1</td>\n",
       "      <td>101348.88</td>\n",
       "      <td>1</td>\n",
       "    </tr>\n",
       "    <tr>\n",
       "      <th>1</th>\n",
       "      <td>2</td>\n",
       "      <td>15647311</td>\n",
       "      <td>Hill</td>\n",
       "      <td>2</td>\n",
       "      <td>2</td>\n",
       "      <td>Female</td>\n",
       "      <td>41</td>\n",
       "      <td>1</td>\n",
       "      <td>83807.86</td>\n",
       "      <td>1</td>\n",
       "      <td>0</td>\n",
       "      <td>1</td>\n",
       "      <td>112542.58</td>\n",
       "      <td>0</td>\n",
       "    </tr>\n",
       "    <tr>\n",
       "      <th>2</th>\n",
       "      <td>3</td>\n",
       "      <td>15619304</td>\n",
       "      <td>Onio</td>\n",
       "      <td>1</td>\n",
       "      <td>0</td>\n",
       "      <td>Female</td>\n",
       "      <td>42</td>\n",
       "      <td>8</td>\n",
       "      <td>159660.80</td>\n",
       "      <td>3</td>\n",
       "      <td>1</td>\n",
       "      <td>0</td>\n",
       "      <td>113931.57</td>\n",
       "      <td>1</td>\n",
       "    </tr>\n",
       "    <tr>\n",
       "      <th>3</th>\n",
       "      <td>4</td>\n",
       "      <td>15701354</td>\n",
       "      <td>Boni</td>\n",
       "      <td>3</td>\n",
       "      <td>0</td>\n",
       "      <td>Female</td>\n",
       "      <td>39</td>\n",
       "      <td>1</td>\n",
       "      <td>0.00</td>\n",
       "      <td>2</td>\n",
       "      <td>0</td>\n",
       "      <td>0</td>\n",
       "      <td>93826.63</td>\n",
       "      <td>0</td>\n",
       "    </tr>\n",
       "    <tr>\n",
       "      <th>4</th>\n",
       "      <td>5</td>\n",
       "      <td>15737888</td>\n",
       "      <td>Mitchell</td>\n",
       "      <td>4</td>\n",
       "      <td>2</td>\n",
       "      <td>Female</td>\n",
       "      <td>43</td>\n",
       "      <td>2</td>\n",
       "      <td>125510.82</td>\n",
       "      <td>1</td>\n",
       "      <td>1</td>\n",
       "      <td>1</td>\n",
       "      <td>79084.10</td>\n",
       "      <td>0</td>\n",
       "    </tr>\n",
       "  </tbody>\n",
       "</table>\n",
       "</div>"
      ],
      "text/plain": [
       "   RowNumber  CustomerId   Surname  CreditScore  Geography  Gender  Age  \\\n",
       "0          1    15634602  Hargrave            2          0  Female   42   \n",
       "1          2    15647311      Hill            2          2  Female   41   \n",
       "2          3    15619304      Onio            1          0  Female   42   \n",
       "3          4    15701354      Boni            3          0  Female   39   \n",
       "4          5    15737888  Mitchell            4          2  Female   43   \n",
       "\n",
       "   Tenure    Balance  NumOfProducts  HasCrCard  IsActiveMember  \\\n",
       "0       2       0.00              1          1               1   \n",
       "1       1   83807.86              1          0               1   \n",
       "2       8  159660.80              3          1               0   \n",
       "3       1       0.00              2          0               0   \n",
       "4       2  125510.82              1          1               1   \n",
       "\n",
       "   EstimatedSalary  Exited  \n",
       "0        101348.88       1  \n",
       "1        112542.58       0  \n",
       "2        113931.57       1  \n",
       "3         93826.63       0  \n",
       "4         79084.10       0  "
      ]
     },
     "execution_count": 21,
     "metadata": {},
     "output_type": "execute_result"
    }
   ],
   "source": [
    "for dataset in df_:\n",
    "    dataset['Geography'] = dataset['Geography'].map( {'France': 0, 'Germany': 1, 'Spain': 2} ).astype(int)\n",
    "\n",
    "df.head()"
   ]
  },
  {
   "cell_type": "markdown",
   "id": "61d7a62f",
   "metadata": {
    "papermill": {
     "duration": 0.064193,
     "end_time": "2021-12-01T09:05:53.077675",
     "exception": false,
     "start_time": "2021-12-01T09:05:53.013482",
     "status": "completed"
    },
    "tags": []
   },
   "source": [
    "### `Gender`:\n",
    "#### Plot for Gender:"
   ]
  },
  {
   "cell_type": "code",
   "execution_count": 22,
   "id": "5cd0d219",
   "metadata": {
    "execution": {
     "iopub.execute_input": "2021-12-01T09:05:53.223085Z",
     "iopub.status.busy": "2021-12-01T09:05:53.222155Z",
     "iopub.status.idle": "2021-12-01T09:05:53.321990Z",
     "shell.execute_reply": "2021-12-01T09:05:53.321497Z",
     "shell.execute_reply.started": "2021-12-01T07:51:47.971888Z"
    },
    "papermill": {
     "duration": 0.181311,
     "end_time": "2021-12-01T09:05:53.322108",
     "exception": false,
     "start_time": "2021-12-01T09:05:53.140797",
     "status": "completed"
    },
    "tags": []
   },
   "outputs": [
    {
     "data": {
      "image/png": "[encoded data removed]",
      "text/plain": [
       "<Figure size 1080x216 with 1 Axes>"
      ]
     },
     "metadata": {
      "needs_background": "light"
     },
     "output_type": "display_data"
    }
   ],
   "source": [
    "plt.figure(figsize=(15,3))\n",
    "sns.countplot(y=df['Gender'], orient=\"v\", data=df, palette=\"cool\", alpha=0.55)\n",
    "plt.show()"
   ]
  },
  {
   "cell_type": "markdown",
   "id": "d420c48a",
   "metadata": {
    "papermill": {
     "duration": 0.064132,
     "end_time": "2021-12-01T09:05:53.450121",
     "exception": false,
     "start_time": "2021-12-01T09:05:53.385989",
     "status": "completed"
    },
    "tags": []
   },
   "source": [
    "#### Exiting rate based on the gender:"
   ]
  },
  {
   "cell_type": "code",
   "execution_count": 23,
   "id": "523f876e",
   "metadata": {
    "execution": {
     "iopub.execute_input": "2021-12-01T09:05:53.585246Z",
     "iopub.status.busy": "2021-12-01T09:05:53.584383Z",
     "iopub.status.idle": "2021-12-01T09:05:53.710034Z",
     "shell.execute_reply": "2021-12-01T09:05:53.710492Z",
     "shell.execute_reply.started": "2021-12-01T07:51:48.094449Z"
    },
    "papermill": {
     "duration": 0.196334,
     "end_time": "2021-12-01T09:05:53.710644",
     "exception": false,
     "start_time": "2021-12-01T09:05:53.514310",
     "status": "completed"
    },
    "tags": []
   },
   "outputs": [
    {
     "data": {
      "image/png": "[encoded data removed]",
      "text/plain": [
       "<Figure size 1080x360 with 1 Axes>"
      ]
     },
     "metadata": {
      "needs_background": "light"
     },
     "output_type": "display_data"
    }
   ],
   "source": [
    "plt.figure(figsize=(15,5))\n",
    "sns.countplot(y=\"Exited\", hue=\"Gender\", data=data, orient=\"v\", palette=\"cool\", alpha=0.55)\n",
    "plt.show()"
   ]
  },
  {
   "cell_type": "code",
   "execution_count": 24,
   "id": "37165a76",
   "metadata": {
    "execution": {
     "iopub.execute_input": "2021-12-01T09:05:53.862862Z",
     "iopub.status.busy": "2021-12-01T09:05:53.861941Z",
     "iopub.status.idle": "2021-12-01T09:05:53.865973Z",
     "shell.execute_reply": "2021-12-01T09:05:53.865546Z",
     "shell.execute_reply.started": "2021-12-01T07:51:48.266666Z"
    },
    "papermill": {
     "duration": 0.090329,
     "end_time": "2021-12-01T09:05:53.866112",
     "exception": false,
     "start_time": "2021-12-01T09:05:53.775783",
     "status": "completed"
    },
    "tags": []
   },
   "outputs": [
    {
     "data": {
      "text/html": [
       "<div>\n",
       "<style scoped>\n",
       "    .dataframe tbody tr th:only-of-type {\n",
       "        vertical-align: middle;\n",
       "    }\n",
       "\n",
       "    .dataframe tbody tr th {\n",
       "        vertical-align: top;\n",
       "    }\n",
       "\n",
       "    .dataframe thead th {\n",
       "        text-align: right;\n",
       "    }\n",
       "</style>\n",
       "<table border=\"1\" class=\"dataframe\">\n",
       "  <thead>\n",
       "    <tr style=\"text-align: right;\">\n",
       "      <th></th>\n",
       "      <th>RowNumber</th>\n",
       "      <th>CustomerId</th>\n",
       "      <th>Surname</th>\n",
       "      <th>CreditScore</th>\n",
       "      <th>Geography</th>\n",
       "      <th>Gender</th>\n",
       "      <th>Age</th>\n",
       "      <th>Tenure</th>\n",
       "      <th>Balance</th>\n",
       "      <th>NumOfProducts</th>\n",
       "      <th>HasCrCard</th>\n",
       "      <th>IsActiveMember</th>\n",
       "      <th>EstimatedSalary</th>\n",
       "      <th>Exited</th>\n",
       "    </tr>\n",
       "  </thead>\n",
       "  <tbody>\n",
       "    <tr>\n",
       "      <th>0</th>\n",
       "      <td>1</td>\n",
       "      <td>15634602</td>\n",
       "      <td>Hargrave</td>\n",
       "      <td>2</td>\n",
       "      <td>0</td>\n",
       "      <td>1</td>\n",
       "      <td>42</td>\n",
       "      <td>2</td>\n",
       "      <td>0.00</td>\n",
       "      <td>1</td>\n",
       "      <td>1</td>\n",
       "      <td>1</td>\n",
       "      <td>101348.88</td>\n",
       "      <td>1</td>\n",
       "    </tr>\n",
       "    <tr>\n",
       "      <th>1</th>\n",
       "      <td>2</td>\n",
       "      <td>15647311</td>\n",
       "      <td>Hill</td>\n",
       "      <td>2</td>\n",
       "      <td>2</td>\n",
       "      <td>1</td>\n",
       "      <td>41</td>\n",
       "      <td>1</td>\n",
       "      <td>83807.86</td>\n",
       "      <td>1</td>\n",
       "      <td>0</td>\n",
       "      <td>1</td>\n",
       "      <td>112542.58</td>\n",
       "      <td>0</td>\n",
       "    </tr>\n",
       "    <tr>\n",
       "      <th>2</th>\n",
       "      <td>3</td>\n",
       "      <td>15619304</td>\n",
       "      <td>Onio</td>\n",
       "      <td>1</td>\n",
       "      <td>0</td>\n",
       "      <td>1</td>\n",
       "      <td>42</td>\n",
       "      <td>8</td>\n",
       "      <td>159660.80</td>\n",
       "      <td>3</td>\n",
       "      <td>1</td>\n",
       "      <td>0</td>\n",
       "      <td>113931.57</td>\n",
       "      <td>1</td>\n",
       "    </tr>\n",
       "    <tr>\n",
       "      <th>3</th>\n",
       "      <td>4</td>\n",
       "      <td>15701354</td>\n",
       "      <td>Boni</td>\n",
       "      <td>3</td>\n",
       "      <td>0</td>\n",
       "      <td>1</td>\n",
       "      <td>39</td>\n",
       "      <td>1</td>\n",
       "      <td>0.00</td>\n",
       "      <td>2</td>\n",
       "      <td>0</td>\n",
       "      <td>0</td>\n",
       "      <td>93826.63</td>\n",
       "      <td>0</td>\n",
       "    </tr>\n",
       "    <tr>\n",
       "      <th>4</th>\n",
       "      <td>5</td>\n",
       "      <td>15737888</td>\n",
       "      <td>Mitchell</td>\n",
       "      <td>4</td>\n",
       "      <td>2</td>\n",
       "      <td>1</td>\n",
       "      <td>43</td>\n",
       "      <td>2</td>\n",
       "      <td>125510.82</td>\n",
       "      <td>1</td>\n",
       "      <td>1</td>\n",
       "      <td>1</td>\n",
       "      <td>79084.10</td>\n",
       "      <td>0</td>\n",
       "    </tr>\n",
       "  </tbody>\n",
       "</table>\n",
       "</div>"
      ],
      "text/plain": [
       "   RowNumber  CustomerId   Surname  CreditScore  Geography  Gender  Age  \\\n",
       "0          1    15634602  Hargrave            2          0       1   42   \n",
       "1          2    15647311      Hill            2          2       1   41   \n",
       "2          3    15619304      Onio            1          0       1   42   \n",
       "3          4    15701354      Boni            3          0       1   39   \n",
       "4          5    15737888  Mitchell            4          2       1   43   \n",
       "\n",
       "   Tenure    Balance  NumOfProducts  HasCrCard  IsActiveMember  \\\n",
       "0       2       0.00              1          1               1   \n",
       "1       1   83807.86              1          0               1   \n",
       "2       8  159660.80              3          1               0   \n",
       "3       1       0.00              2          0               0   \n",
       "4       2  125510.82              1          1               1   \n",
       "\n",
       "   EstimatedSalary  Exited  \n",
       "0        101348.88       1  \n",
       "1        112542.58       0  \n",
       "2        113931.57       1  \n",
       "3         93826.63       0  \n",
       "4         79084.10       0  "
      ]
     },
     "execution_count": 24,
     "metadata": {},
     "output_type": "execute_result"
    }
   ],
   "source": [
    "for dataset in df_:\n",
    "    dataset['Gender'] = dataset['Gender'].map( {'Female': 1, 'Male': 0} ).astype(int)\n",
    "df.head()"
   ]
  },
  {
   "cell_type": "markdown",
   "id": "df7de6de",
   "metadata": {
    "papermill": {
     "duration": 0.065775,
     "end_time": "2021-12-01T09:05:53.999740",
     "exception": false,
     "start_time": "2021-12-01T09:05:53.933965",
     "status": "completed"
    },
    "tags": []
   },
   "source": [
    "### `Age`:\n",
    "#### Distribution plot for age of the customers:"
   ]
  },
  {
   "cell_type": "code",
   "execution_count": 25,
   "id": "560b702f",
   "metadata": {
    "execution": {
     "iopub.execute_input": "2021-12-01T09:05:54.133341Z",
     "iopub.status.busy": "2021-12-01T09:05:54.132524Z",
     "iopub.status.idle": "2021-12-01T09:05:54.352590Z",
     "shell.execute_reply": "2021-12-01T09:05:54.353037Z",
     "shell.execute_reply.started": "2021-12-01T07:51:48.287045Z"
    },
    "papermill": {
     "duration": 0.288156,
     "end_time": "2021-12-01T09:05:54.353185",
     "exception": false,
     "start_time": "2021-12-01T09:05:54.065029",
     "status": "completed"
    },
    "tags": []
   },
   "outputs": [
    {
     "data": {
      "image/png": "[encoded data removed]",
      "text/plain": [
       "<Figure size 864x576 with 1 Axes>"
      ]
     },
     "metadata": {
      "needs_background": "light"
     },
     "output_type": "display_data"
    }
   ],
   "source": [
    "plt.figure(figsize=(12,8))\n",
    "sns.distplot(x=data[\"Age\"], bins=30, axlabel=\"Age\", color='violet')\n",
    "plt.show()"
   ]
  },
  {
   "cell_type": "code",
   "execution_count": 26,
   "id": "dc90507d",
   "metadata": {
    "execution": {
     "iopub.execute_input": "2021-12-01T09:05:54.492765Z",
     "iopub.status.busy": "2021-12-01T09:05:54.491921Z",
     "iopub.status.idle": "2021-12-01T09:05:54.509979Z",
     "shell.execute_reply": "2021-12-01T09:05:54.510582Z",
     "shell.execute_reply.started": "2021-12-01T07:51:48.542807Z"
    },
    "papermill": {
     "duration": 0.091176,
     "end_time": "2021-12-01T09:05:54.510756",
     "exception": false,
     "start_time": "2021-12-01T09:05:54.419580",
     "status": "completed"
    },
    "tags": []
   },
   "outputs": [
    {
     "data": {
      "text/html": [
       "<div>\n",
       "<style scoped>\n",
       "    .dataframe tbody tr th:only-of-type {\n",
       "        vertical-align: middle;\n",
       "    }\n",
       "\n",
       "    .dataframe tbody tr th {\n",
       "        vertical-align: top;\n",
       "    }\n",
       "\n",
       "    .dataframe thead th {\n",
       "        text-align: right;\n",
       "    }\n",
       "</style>\n",
       "<table border=\"1\" class=\"dataframe\">\n",
       "  <thead>\n",
       "    <tr style=\"text-align: right;\">\n",
       "      <th></th>\n",
       "      <th>AgeBand</th>\n",
       "      <th>Exited</th>\n",
       "    </tr>\n",
       "  </thead>\n",
       "  <tbody>\n",
       "    <tr>\n",
       "      <th>0</th>\n",
       "      <td>(17.926, 32.8]</td>\n",
       "      <td>0.076344</td>\n",
       "    </tr>\n",
       "    <tr>\n",
       "      <th>1</th>\n",
       "      <td>(32.8, 47.6]</td>\n",
       "      <td>0.188182</td>\n",
       "    </tr>\n",
       "    <tr>\n",
       "      <th>2</th>\n",
       "      <td>(47.6, 62.4]</td>\n",
       "      <td>0.529978</td>\n",
       "    </tr>\n",
       "    <tr>\n",
       "      <th>3</th>\n",
       "      <td>(62.4, 77.2]</td>\n",
       "      <td>0.214925</td>\n",
       "    </tr>\n",
       "    <tr>\n",
       "      <th>4</th>\n",
       "      <td>(77.2, 92.0]</td>\n",
       "      <td>0.041667</td>\n",
       "    </tr>\n",
       "  </tbody>\n",
       "</table>\n",
       "</div>"
      ],
      "text/plain": [
       "          AgeBand    Exited\n",
       "0  (17.926, 32.8]  0.076344\n",
       "1    (32.8, 47.6]  0.188182\n",
       "2    (47.6, 62.4]  0.529978\n",
       "3    (62.4, 77.2]  0.214925\n",
       "4    (77.2, 92.0]  0.041667"
      ]
     },
     "execution_count": 26,
     "metadata": {},
     "output_type": "execute_result"
    }
   ],
   "source": [
    "df['AgeBand'] = pd.cut(df['Age'], 5)\n",
    "df[['AgeBand', 'Exited']].groupby(['AgeBand'], as_index=False).mean().sort_values(by='AgeBand', ascending=True)"
   ]
  },
  {
   "cell_type": "code",
   "execution_count": 27,
   "id": "04f7af1c",
   "metadata": {
    "execution": {
     "iopub.execute_input": "2021-12-01T09:05:54.654972Z",
     "iopub.status.busy": "2021-12-01T09:05:54.654022Z",
     "iopub.status.idle": "2021-12-01T09:05:54.672988Z",
     "shell.execute_reply": "2021-12-01T09:05:54.672569Z",
     "shell.execute_reply.started": "2021-12-01T07:51:48.567728Z"
    },
    "papermill": {
     "duration": 0.091907,
     "end_time": "2021-12-01T09:05:54.673104",
     "exception": false,
     "start_time": "2021-12-01T09:05:54.581197",
     "status": "completed"
    },
    "tags": []
   },
   "outputs": [
    {
     "data": {
      "text/html": [
       "<div>\n",
       "<style scoped>\n",
       "    .dataframe tbody tr th:only-of-type {\n",
       "        vertical-align: middle;\n",
       "    }\n",
       "\n",
       "    .dataframe tbody tr th {\n",
       "        vertical-align: top;\n",
       "    }\n",
       "\n",
       "    .dataframe thead th {\n",
       "        text-align: right;\n",
       "    }\n",
       "</style>\n",
       "<table border=\"1\" class=\"dataframe\">\n",
       "  <thead>\n",
       "    <tr style=\"text-align: right;\">\n",
       "      <th></th>\n",
       "      <th>RowNumber</th>\n",
       "      <th>CustomerId</th>\n",
       "      <th>Surname</th>\n",
       "      <th>CreditScore</th>\n",
       "      <th>Geography</th>\n",
       "      <th>Gender</th>\n",
       "      <th>Age</th>\n",
       "      <th>Tenure</th>\n",
       "      <th>Balance</th>\n",
       "      <th>NumOfProducts</th>\n",
       "      <th>HasCrCard</th>\n",
       "      <th>IsActiveMember</th>\n",
       "      <th>EstimatedSalary</th>\n",
       "      <th>Exited</th>\n",
       "      <th>AgeBand</th>\n",
       "    </tr>\n",
       "  </thead>\n",
       "  <tbody>\n",
       "    <tr>\n",
       "      <th>0</th>\n",
       "      <td>1</td>\n",
       "      <td>15634602</td>\n",
       "      <td>Hargrave</td>\n",
       "      <td>2</td>\n",
       "      <td>0</td>\n",
       "      <td>1</td>\n",
       "      <td>1</td>\n",
       "      <td>2</td>\n",
       "      <td>0.00</td>\n",
       "      <td>1</td>\n",
       "      <td>1</td>\n",
       "      <td>1</td>\n",
       "      <td>101348.88</td>\n",
       "      <td>1</td>\n",
       "      <td>(32.8, 47.6]</td>\n",
       "    </tr>\n",
       "    <tr>\n",
       "      <th>1</th>\n",
       "      <td>2</td>\n",
       "      <td>15647311</td>\n",
       "      <td>Hill</td>\n",
       "      <td>2</td>\n",
       "      <td>2</td>\n",
       "      <td>1</td>\n",
       "      <td>1</td>\n",
       "      <td>1</td>\n",
       "      <td>83807.86</td>\n",
       "      <td>1</td>\n",
       "      <td>0</td>\n",
       "      <td>1</td>\n",
       "      <td>112542.58</td>\n",
       "      <td>0</td>\n",
       "      <td>(32.8, 47.6]</td>\n",
       "    </tr>\n",
       "    <tr>\n",
       "      <th>2</th>\n",
       "      <td>3</td>\n",
       "      <td>15619304</td>\n",
       "      <td>Onio</td>\n",
       "      <td>1</td>\n",
       "      <td>0</td>\n",
       "      <td>1</td>\n",
       "      <td>1</td>\n",
       "      <td>8</td>\n",
       "      <td>159660.80</td>\n",
       "      <td>3</td>\n",
       "      <td>1</td>\n",
       "      <td>0</td>\n",
       "      <td>113931.57</td>\n",
       "      <td>1</td>\n",
       "      <td>(32.8, 47.6]</td>\n",
       "    </tr>\n",
       "    <tr>\n",
       "      <th>3</th>\n",
       "      <td>4</td>\n",
       "      <td>15701354</td>\n",
       "      <td>Boni</td>\n",
       "      <td>3</td>\n",
       "      <td>0</td>\n",
       "      <td>1</td>\n",
       "      <td>1</td>\n",
       "      <td>1</td>\n",
       "      <td>0.00</td>\n",
       "      <td>2</td>\n",
       "      <td>0</td>\n",
       "      <td>0</td>\n",
       "      <td>93826.63</td>\n",
       "      <td>0</td>\n",
       "      <td>(32.8, 47.6]</td>\n",
       "    </tr>\n",
       "    <tr>\n",
       "      <th>4</th>\n",
       "      <td>5</td>\n",
       "      <td>15737888</td>\n",
       "      <td>Mitchell</td>\n",
       "      <td>4</td>\n",
       "      <td>2</td>\n",
       "      <td>1</td>\n",
       "      <td>1</td>\n",
       "      <td>2</td>\n",
       "      <td>125510.82</td>\n",
       "      <td>1</td>\n",
       "      <td>1</td>\n",
       "      <td>1</td>\n",
       "      <td>79084.10</td>\n",
       "      <td>0</td>\n",
       "      <td>(32.8, 47.6]</td>\n",
       "    </tr>\n",
       "  </tbody>\n",
       "</table>\n",
       "</div>"
      ],
      "text/plain": [
       "   RowNumber  CustomerId   Surname  CreditScore  Geography  Gender  Age  \\\n",
       "0          1    15634602  Hargrave            2          0       1    1   \n",
       "1          2    15647311      Hill            2          2       1    1   \n",
       "2          3    15619304      Onio            1          0       1    1   \n",
       "3          4    15701354      Boni            3          0       1    1   \n",
       "4          5    15737888  Mitchell            4          2       1    1   \n",
       "\n",
       "   Tenure    Balance  NumOfProducts  HasCrCard  IsActiveMember  \\\n",
       "0       2       0.00              1          1               1   \n",
       "1       1   83807.86              1          0               1   \n",
       "2       8  159660.80              3          1               0   \n",
       "3       1       0.00              2          0               0   \n",
       "4       2  125510.82              1          1               1   \n",
       "\n",
       "   EstimatedSalary  Exited       AgeBand  \n",
       "0        101348.88       1  (32.8, 47.6]  \n",
       "1        112542.58       0  (32.8, 47.6]  \n",
       "2        113931.57       1  (32.8, 47.6]  \n",
       "3         93826.63       0  (32.8, 47.6]  \n",
       "4         79084.10       0  (32.8, 47.6]  "
      ]
     },
     "execution_count": 27,
     "metadata": {},
     "output_type": "execute_result"
    }
   ],
   "source": [
    "for dataset in df_:    \n",
    "    dataset.loc[(dataset['Age'] > 17.926) & (dataset['Age'] <= 32.8), 'Age'] = 0\n",
    "    dataset.loc[(dataset['Age'] > 32.8) & (dataset['Age'] <= 47.6), 'Age'] = 1\n",
    "    dataset.loc[(dataset['Age'] > 47.6) & (dataset['Age'] <= 62.4), 'Age'] = 2\n",
    "    dataset.loc[(dataset['Age'] > 62.4) & (dataset['Age'] <= 77.2), 'Age'] = 3\n",
    "    dataset.loc[ dataset['Age'] > 77.2, 'Age'] = 4\n",
    "df.head()"
   ]
  },
  {
   "cell_type": "code",
   "execution_count": 28,
   "id": "80601122",
   "metadata": {
    "execution": {
     "iopub.execute_input": "2021-12-01T09:05:54.824131Z",
     "iopub.status.busy": "2021-12-01T09:05:54.823182Z",
     "iopub.status.idle": "2021-12-01T09:05:54.826999Z",
     "shell.execute_reply": "2021-12-01T09:05:54.827549Z",
     "shell.execute_reply.started": "2021-12-01T07:51:48.611051Z"
    },
    "papermill": {
     "duration": 0.086848,
     "end_time": "2021-12-01T09:05:54.827705",
     "exception": false,
     "start_time": "2021-12-01T09:05:54.740857",
     "status": "completed"
    },
    "tags": []
   },
   "outputs": [
    {
     "data": {
      "text/html": [
       "<div>\n",
       "<style scoped>\n",
       "    .dataframe tbody tr th:only-of-type {\n",
       "        vertical-align: middle;\n",
       "    }\n",
       "\n",
       "    .dataframe tbody tr th {\n",
       "        vertical-align: top;\n",
       "    }\n",
       "\n",
       "    .dataframe thead th {\n",
       "        text-align: right;\n",
       "    }\n",
       "</style>\n",
       "<table border=\"1\" class=\"dataframe\">\n",
       "  <thead>\n",
       "    <tr style=\"text-align: right;\">\n",
       "      <th></th>\n",
       "      <th>RowNumber</th>\n",
       "      <th>CustomerId</th>\n",
       "      <th>Surname</th>\n",
       "      <th>CreditScore</th>\n",
       "      <th>Geography</th>\n",
       "      <th>Gender</th>\n",
       "      <th>Age</th>\n",
       "      <th>Tenure</th>\n",
       "      <th>Balance</th>\n",
       "      <th>NumOfProducts</th>\n",
       "      <th>HasCrCard</th>\n",
       "      <th>IsActiveMember</th>\n",
       "      <th>EstimatedSalary</th>\n",
       "      <th>Exited</th>\n",
       "    </tr>\n",
       "  </thead>\n",
       "  <tbody>\n",
       "    <tr>\n",
       "      <th>0</th>\n",
       "      <td>1</td>\n",
       "      <td>15634602</td>\n",
       "      <td>Hargrave</td>\n",
       "      <td>2</td>\n",
       "      <td>0</td>\n",
       "      <td>1</td>\n",
       "      <td>1</td>\n",
       "      <td>2</td>\n",
       "      <td>0.00</td>\n",
       "      <td>1</td>\n",
       "      <td>1</td>\n",
       "      <td>1</td>\n",
       "      <td>101348.88</td>\n",
       "      <td>1</td>\n",
       "    </tr>\n",
       "    <tr>\n",
       "      <th>1</th>\n",
       "      <td>2</td>\n",
       "      <td>15647311</td>\n",
       "      <td>Hill</td>\n",
       "      <td>2</td>\n",
       "      <td>2</td>\n",
       "      <td>1</td>\n",
       "      <td>1</td>\n",
       "      <td>1</td>\n",
       "      <td>83807.86</td>\n",
       "      <td>1</td>\n",
       "      <td>0</td>\n",
       "      <td>1</td>\n",
       "      <td>112542.58</td>\n",
       "      <td>0</td>\n",
       "    </tr>\n",
       "    <tr>\n",
       "      <th>2</th>\n",
       "      <td>3</td>\n",
       "      <td>15619304</td>\n",
       "      <td>Onio</td>\n",
       "      <td>1</td>\n",
       "      <td>0</td>\n",
       "      <td>1</td>\n",
       "      <td>1</td>\n",
       "      <td>8</td>\n",
       "      <td>159660.80</td>\n",
       "      <td>3</td>\n",
       "      <td>1</td>\n",
       "      <td>0</td>\n",
       "      <td>113931.57</td>\n",
       "      <td>1</td>\n",
       "    </tr>\n",
       "    <tr>\n",
       "      <th>3</th>\n",
       "      <td>4</td>\n",
       "      <td>15701354</td>\n",
       "      <td>Boni</td>\n",
       "      <td>3</td>\n",
       "      <td>0</td>\n",
       "      <td>1</td>\n",
       "      <td>1</td>\n",
       "      <td>1</td>\n",
       "      <td>0.00</td>\n",
       "      <td>2</td>\n",
       "      <td>0</td>\n",
       "      <td>0</td>\n",
       "      <td>93826.63</td>\n",
       "      <td>0</td>\n",
       "    </tr>\n",
       "    <tr>\n",
       "      <th>4</th>\n",
       "      <td>5</td>\n",
       "      <td>15737888</td>\n",
       "      <td>Mitchell</td>\n",
       "      <td>4</td>\n",
       "      <td>2</td>\n",
       "      <td>1</td>\n",
       "      <td>1</td>\n",
       "      <td>2</td>\n",
       "      <td>125510.82</td>\n",
       "      <td>1</td>\n",
       "      <td>1</td>\n",
       "      <td>1</td>\n",
       "      <td>79084.10</td>\n",
       "      <td>0</td>\n",
       "    </tr>\n",
       "  </tbody>\n",
       "</table>\n",
       "</div>"
      ],
      "text/plain": [
       "   RowNumber  CustomerId   Surname  CreditScore  Geography  Gender  Age  \\\n",
       "0          1    15634602  Hargrave            2          0       1    1   \n",
       "1          2    15647311      Hill            2          2       1    1   \n",
       "2          3    15619304      Onio            1          0       1    1   \n",
       "3          4    15701354      Boni            3          0       1    1   \n",
       "4          5    15737888  Mitchell            4          2       1    1   \n",
       "\n",
       "   Tenure    Balance  NumOfProducts  HasCrCard  IsActiveMember  \\\n",
       "0       2       0.00              1          1               1   \n",
       "1       1   83807.86              1          0               1   \n",
       "2       8  159660.80              3          1               0   \n",
       "3       1       0.00              2          0               0   \n",
       "4       2  125510.82              1          1               1   \n",
       "\n",
       "   EstimatedSalary  Exited  \n",
       "0        101348.88       1  \n",
       "1        112542.58       0  \n",
       "2        113931.57       1  \n",
       "3         93826.63       0  \n",
       "4         79084.10       0  "
      ]
     },
     "execution_count": 28,
     "metadata": {},
     "output_type": "execute_result"
    }
   ],
   "source": [
    "df = df.drop(['AgeBand'], axis=1)\n",
    "df.head()"
   ]
  },
  {
   "cell_type": "markdown",
   "id": "e7e23741",
   "metadata": {
    "papermill": {
     "duration": 0.068001,
     "end_time": "2021-12-01T09:05:54.967705",
     "exception": false,
     "start_time": "2021-12-01T09:05:54.899704",
     "status": "completed"
    },
    "tags": []
   },
   "source": [
    "### `Tenure`:\n",
    ">#### Tenure has 11 unique values that are just number of years from 0 to 10. Hence, I kept it as it is."
   ]
  },
  {
   "cell_type": "code",
   "execution_count": 29,
   "id": "cbd9dfac",
   "metadata": {
    "execution": {
     "iopub.execute_input": "2021-12-01T09:05:55.118268Z",
     "iopub.status.busy": "2021-12-01T09:05:55.117431Z",
     "iopub.status.idle": "2021-12-01T09:05:55.122220Z",
     "shell.execute_reply": "2021-12-01T09:05:55.121797Z",
     "shell.execute_reply.started": "2021-12-01T07:51:48.634471Z"
    },
    "papermill": {
     "duration": 0.086435,
     "end_time": "2021-12-01T09:05:55.122365",
     "exception": false,
     "start_time": "2021-12-01T09:05:55.035930",
     "status": "completed"
    },
    "tags": []
   },
   "outputs": [
    {
     "data": {
      "text/plain": [
       "11"
      ]
     },
     "execution_count": 29,
     "metadata": {},
     "output_type": "execute_result"
    }
   ],
   "source": [
    "df['Tenure'].nunique()"
   ]
  },
  {
   "cell_type": "code",
   "execution_count": 30,
   "id": "799116f8",
   "metadata": {
    "execution": {
     "iopub.execute_input": "2021-12-01T09:05:55.261847Z",
     "iopub.status.busy": "2021-12-01T09:05:55.261004Z",
     "iopub.status.idle": "2021-12-01T09:05:55.265568Z",
     "shell.execute_reply": "2021-12-01T09:05:55.265944Z",
     "shell.execute_reply.started": "2021-12-01T07:51:48.643287Z"
    },
    "papermill": {
     "duration": 0.075921,
     "end_time": "2021-12-01T09:05:55.266079",
     "exception": false,
     "start_time": "2021-12-01T09:05:55.190158",
     "status": "completed"
    },
    "tags": []
   },
   "outputs": [
    {
     "data": {
      "text/plain": [
       "array([ 2,  1,  8,  7,  4,  6,  3, 10,  5,  9,  0])"
      ]
     },
     "execution_count": 30,
     "metadata": {},
     "output_type": "execute_result"
    }
   ],
   "source": [
    "df['Tenure'].unique()"
   ]
  },
  {
   "cell_type": "markdown",
   "id": "d8333d43",
   "metadata": {
    "papermill": {
     "duration": 0.066678,
     "end_time": "2021-12-01T09:05:55.400676",
     "exception": false,
     "start_time": "2021-12-01T09:05:55.333998",
     "status": "completed"
    },
    "tags": []
   },
   "source": [
    "### `Bank Balance`:\n",
    "#### Distribution plot for customer bank balance:"
   ]
  },
  {
   "cell_type": "code",
   "execution_count": 31,
   "id": "225cc15d",
   "metadata": {
    "execution": {
     "iopub.execute_input": "2021-12-01T09:05:55.564020Z",
     "iopub.status.busy": "2021-12-01T09:05:55.563133Z",
     "iopub.status.idle": "2021-12-01T09:05:55.756703Z",
     "shell.execute_reply": "2021-12-01T09:05:55.757118Z",
     "shell.execute_reply.started": "2021-12-01T07:51:48.652402Z"
    },
    "papermill": {
     "duration": 0.287276,
     "end_time": "2021-12-01T09:05:55.757292",
     "exception": false,
     "start_time": "2021-12-01T09:05:55.470016",
     "status": "completed"
    },
    "tags": []
   },
   "outputs": [
    {
     "data": {
      "image/png": "[encoded data removed]",
      "text/plain": [
       "<Figure size 864x576 with 1 Axes>"
      ]
     },
     "metadata": {
      "needs_background": "light"
     },
     "output_type": "display_data"
    }
   ],
   "source": [
    "plt.figure(figsize=(12, 8))\n",
    "sns.distplot(x=data[\"Balance\"], axlabel=\"Bank Balance\", color=\"violet\")\n",
    "plt.show()"
   ]
  },
  {
   "cell_type": "code",
   "execution_count": 32,
   "id": "200c4276",
   "metadata": {
    "execution": {
     "iopub.execute_input": "2021-12-01T09:05:55.900858Z",
     "iopub.status.busy": "2021-12-01T09:05:55.900014Z",
     "iopub.status.idle": "2021-12-01T09:05:55.915094Z",
     "shell.execute_reply": "2021-12-01T09:05:55.914614Z",
     "shell.execute_reply.started": "2021-12-01T07:51:48.907849Z"
    },
    "papermill": {
     "duration": 0.089198,
     "end_time": "2021-12-01T09:05:55.915204",
     "exception": false,
     "start_time": "2021-12-01T09:05:55.826006",
     "status": "completed"
    },
    "tags": []
   },
   "outputs": [
    {
     "data": {
      "text/html": [
       "<div>\n",
       "<style scoped>\n",
       "    .dataframe tbody tr th:only-of-type {\n",
       "        vertical-align: middle;\n",
       "    }\n",
       "\n",
       "    .dataframe tbody tr th {\n",
       "        vertical-align: top;\n",
       "    }\n",
       "\n",
       "    .dataframe thead th {\n",
       "        text-align: right;\n",
       "    }\n",
       "</style>\n",
       "<table border=\"1\" class=\"dataframe\">\n",
       "  <thead>\n",
       "    <tr style=\"text-align: right;\">\n",
       "      <th></th>\n",
       "      <th>BalanceBand</th>\n",
       "      <th>Exited</th>\n",
       "    </tr>\n",
       "  </thead>\n",
       "  <tbody>\n",
       "    <tr>\n",
       "      <th>0</th>\n",
       "      <td>(-250.898, 50179.618]</td>\n",
       "      <td>0.142470</td>\n",
       "    </tr>\n",
       "    <tr>\n",
       "      <th>1</th>\n",
       "      <td>(50179.618, 100359.236]</td>\n",
       "      <td>0.199609</td>\n",
       "    </tr>\n",
       "    <tr>\n",
       "      <th>2</th>\n",
       "      <td>(100359.236, 150538.854]</td>\n",
       "      <td>0.257837</td>\n",
       "    </tr>\n",
       "    <tr>\n",
       "      <th>3</th>\n",
       "      <td>(150538.854, 200718.472]</td>\n",
       "      <td>0.217486</td>\n",
       "    </tr>\n",
       "    <tr>\n",
       "      <th>4</th>\n",
       "      <td>(200718.472, 250898.09]</td>\n",
       "      <td>0.593750</td>\n",
       "    </tr>\n",
       "  </tbody>\n",
       "</table>\n",
       "</div>"
      ],
      "text/plain": [
       "                BalanceBand    Exited\n",
       "0     (-250.898, 50179.618]  0.142470\n",
       "1   (50179.618, 100359.236]  0.199609\n",
       "2  (100359.236, 150538.854]  0.257837\n",
       "3  (150538.854, 200718.472]  0.217486\n",
       "4   (200718.472, 250898.09]  0.593750"
      ]
     },
     "execution_count": 32,
     "metadata": {},
     "output_type": "execute_result"
    }
   ],
   "source": [
    "df['BalanceBand'] = pd.cut(df['Balance'], 5)\n",
    "df[['BalanceBand', 'Exited']].groupby(['BalanceBand'], as_index=False).mean().sort_values(by='BalanceBand', ascending=True)"
   ]
  },
  {
   "cell_type": "code",
   "execution_count": 33,
   "id": "b0343277",
   "metadata": {
    "execution": {
     "iopub.execute_input": "2021-12-01T09:05:56.059590Z",
     "iopub.status.busy": "2021-12-01T09:05:56.058807Z",
     "iopub.status.idle": "2021-12-01T09:05:56.061643Z",
     "shell.execute_reply": "2021-12-01T09:05:56.061196Z",
     "shell.execute_reply.started": "2021-12-01T07:51:48.943178Z"
    },
    "papermill": {
     "duration": 0.075445,
     "end_time": "2021-12-01T09:05:56.061757",
     "exception": false,
     "start_time": "2021-12-01T09:05:55.986312",
     "status": "completed"
    },
    "tags": []
   },
   "outputs": [],
   "source": [
    "df_ = [df]"
   ]
  },
  {
   "cell_type": "code",
   "execution_count": 34,
   "id": "c5cf820b",
   "metadata": {
    "execution": {
     "iopub.execute_input": "2021-12-01T09:05:56.209004Z",
     "iopub.status.busy": "2021-12-01T09:05:56.208008Z",
     "iopub.status.idle": "2021-12-01T09:05:56.228911Z",
     "shell.execute_reply": "2021-12-01T09:05:56.228488Z",
     "shell.execute_reply.started": "2021-12-01T07:51:48.949248Z"
    },
    "papermill": {
     "duration": 0.098661,
     "end_time": "2021-12-01T09:05:56.229032",
     "exception": false,
     "start_time": "2021-12-01T09:05:56.130371",
     "status": "completed"
    },
    "tags": []
   },
   "outputs": [
    {
     "data": {
      "text/html": [
       "<div>\n",
       "<style scoped>\n",
       "    .dataframe tbody tr th:only-of-type {\n",
       "        vertical-align: middle;\n",
       "    }\n",
       "\n",
       "    .dataframe tbody tr th {\n",
       "        vertical-align: top;\n",
       "    }\n",
       "\n",
       "    .dataframe thead th {\n",
       "        text-align: right;\n",
       "    }\n",
       "</style>\n",
       "<table border=\"1\" class=\"dataframe\">\n",
       "  <thead>\n",
       "    <tr style=\"text-align: right;\">\n",
       "      <th></th>\n",
       "      <th>RowNumber</th>\n",
       "      <th>CustomerId</th>\n",
       "      <th>Surname</th>\n",
       "      <th>CreditScore</th>\n",
       "      <th>Geography</th>\n",
       "      <th>Gender</th>\n",
       "      <th>Age</th>\n",
       "      <th>Tenure</th>\n",
       "      <th>Balance</th>\n",
       "      <th>NumOfProducts</th>\n",
       "      <th>HasCrCard</th>\n",
       "      <th>IsActiveMember</th>\n",
       "      <th>EstimatedSalary</th>\n",
       "      <th>Exited</th>\n",
       "      <th>BalanceBand</th>\n",
       "    </tr>\n",
       "  </thead>\n",
       "  <tbody>\n",
       "    <tr>\n",
       "      <th>0</th>\n",
       "      <td>1</td>\n",
       "      <td>15634602</td>\n",
       "      <td>Hargrave</td>\n",
       "      <td>2</td>\n",
       "      <td>0</td>\n",
       "      <td>1</td>\n",
       "      <td>1</td>\n",
       "      <td>2</td>\n",
       "      <td>0</td>\n",
       "      <td>1</td>\n",
       "      <td>1</td>\n",
       "      <td>1</td>\n",
       "      <td>101348.88</td>\n",
       "      <td>1</td>\n",
       "      <td>(-250.898, 50179.618]</td>\n",
       "    </tr>\n",
       "    <tr>\n",
       "      <th>1</th>\n",
       "      <td>2</td>\n",
       "      <td>15647311</td>\n",
       "      <td>Hill</td>\n",
       "      <td>2</td>\n",
       "      <td>2</td>\n",
       "      <td>1</td>\n",
       "      <td>1</td>\n",
       "      <td>1</td>\n",
       "      <td>1</td>\n",
       "      <td>1</td>\n",
       "      <td>0</td>\n",
       "      <td>1</td>\n",
       "      <td>112542.58</td>\n",
       "      <td>0</td>\n",
       "      <td>(50179.618, 100359.236]</td>\n",
       "    </tr>\n",
       "    <tr>\n",
       "      <th>2</th>\n",
       "      <td>3</td>\n",
       "      <td>15619304</td>\n",
       "      <td>Onio</td>\n",
       "      <td>1</td>\n",
       "      <td>0</td>\n",
       "      <td>1</td>\n",
       "      <td>1</td>\n",
       "      <td>8</td>\n",
       "      <td>3</td>\n",
       "      <td>3</td>\n",
       "      <td>1</td>\n",
       "      <td>0</td>\n",
       "      <td>113931.57</td>\n",
       "      <td>1</td>\n",
       "      <td>(150538.854, 200718.472]</td>\n",
       "    </tr>\n",
       "    <tr>\n",
       "      <th>3</th>\n",
       "      <td>4</td>\n",
       "      <td>15701354</td>\n",
       "      <td>Boni</td>\n",
       "      <td>3</td>\n",
       "      <td>0</td>\n",
       "      <td>1</td>\n",
       "      <td>1</td>\n",
       "      <td>1</td>\n",
       "      <td>0</td>\n",
       "      <td>2</td>\n",
       "      <td>0</td>\n",
       "      <td>0</td>\n",
       "      <td>93826.63</td>\n",
       "      <td>0</td>\n",
       "      <td>(-250.898, 50179.618]</td>\n",
       "    </tr>\n",
       "    <tr>\n",
       "      <th>4</th>\n",
       "      <td>5</td>\n",
       "      <td>15737888</td>\n",
       "      <td>Mitchell</td>\n",
       "      <td>4</td>\n",
       "      <td>2</td>\n",
       "      <td>1</td>\n",
       "      <td>1</td>\n",
       "      <td>2</td>\n",
       "      <td>2</td>\n",
       "      <td>1</td>\n",
       "      <td>1</td>\n",
       "      <td>1</td>\n",
       "      <td>79084.10</td>\n",
       "      <td>0</td>\n",
       "      <td>(100359.236, 150538.854]</td>\n",
       "    </tr>\n",
       "  </tbody>\n",
       "</table>\n",
       "</div>"
      ],
      "text/plain": [
       "   RowNumber  CustomerId   Surname  CreditScore  Geography  Gender  Age  \\\n",
       "0          1    15634602  Hargrave            2          0       1    1   \n",
       "1          2    15647311      Hill            2          2       1    1   \n",
       "2          3    15619304      Onio            1          0       1    1   \n",
       "3          4    15701354      Boni            3          0       1    1   \n",
       "4          5    15737888  Mitchell            4          2       1    1   \n",
       "\n",
       "   Tenure  Balance  NumOfProducts  HasCrCard  IsActiveMember  EstimatedSalary  \\\n",
       "0       2        0              1          1               1        101348.88   \n",
       "1       1        1              1          0               1        112542.58   \n",
       "2       8        3              3          1               0        113931.57   \n",
       "3       1        0              2          0               0         93826.63   \n",
       "4       2        2              1          1               1         79084.10   \n",
       "\n",
       "   Exited               BalanceBand  \n",
       "0       1     (-250.898, 50179.618]  \n",
       "1       0   (50179.618, 100359.236]  \n",
       "2       1  (150538.854, 200718.472]  \n",
       "3       0     (-250.898, 50179.618]  \n",
       "4       0  (100359.236, 150538.854]  "
      ]
     },
     "execution_count": 34,
     "metadata": {},
     "output_type": "execute_result"
    }
   ],
   "source": [
    "for dataset in df_:    \n",
    "    dataset.loc[dataset['Balance'] <= 50179.618, 'Balance'] = 0\n",
    "    dataset.loc[(dataset['Balance'] > 50179.618) & (dataset['Balance'] <= 100359.236), 'Balance'] = 1\n",
    "    dataset.loc[(dataset['Balance'] > 100359.236) & (dataset['Balance'] <= 150538.854), 'Balance'] = 2\n",
    "    dataset.loc[(dataset['Balance'] > 150538.854) & (dataset['Balance'] <= 200718.472), 'Balance'] = 3\n",
    "    dataset.loc[(dataset['Balance'] > 200718.472) & (dataset['Balance'] <=  250898.09), 'Balance'] = 4\n",
    "    df['Balance'] = df['Balance'].astype(int)\n",
    "df.head()"
   ]
  },
  {
   "cell_type": "code",
   "execution_count": 35,
   "id": "3d7b1301",
   "metadata": {
    "execution": {
     "iopub.execute_input": "2021-12-01T09:05:56.375602Z",
     "iopub.status.busy": "2021-12-01T09:05:56.374579Z",
     "iopub.status.idle": "2021-12-01T09:05:56.378676Z",
     "shell.execute_reply": "2021-12-01T09:05:56.378253Z",
     "shell.execute_reply.started": "2021-12-01T07:51:48.979436Z"
    },
    "papermill": {
     "duration": 0.078752,
     "end_time": "2021-12-01T09:05:56.378790",
     "exception": false,
     "start_time": "2021-12-01T09:05:56.300038",
     "status": "completed"
    },
    "tags": []
   },
   "outputs": [],
   "source": [
    "df = df.drop(['BalanceBand'], axis=1)\n",
    "df_ = [df]"
   ]
  },
  {
   "cell_type": "markdown",
   "id": "c67f8d92",
   "metadata": {
    "papermill": {
     "duration": 0.069924,
     "end_time": "2021-12-01T09:05:56.519130",
     "exception": false,
     "start_time": "2021-12-01T09:05:56.449206",
     "status": "completed"
    },
    "tags": []
   },
   "source": [
    "### `Estimated Salary`:\n",
    "#### Distribution plot for customer salary:"
   ]
  },
  {
   "cell_type": "code",
   "execution_count": 36,
   "id": "5de4aa02",
   "metadata": {
    "execution": {
     "iopub.execute_input": "2021-12-01T09:05:56.685349Z",
     "iopub.status.busy": "2021-12-01T09:05:56.684265Z",
     "iopub.status.idle": "2021-12-01T09:05:56.866864Z",
     "shell.execute_reply": "2021-12-01T09:05:56.867456Z",
     "shell.execute_reply.started": "2021-12-01T07:51:48.987577Z"
    },
    "papermill": {
     "duration": 0.278911,
     "end_time": "2021-12-01T09:05:56.867641",
     "exception": false,
     "start_time": "2021-12-01T09:05:56.588730",
     "status": "completed"
    },
    "tags": []
   },
   "outputs": [
    {
     "data": {
      "image/png": "[encoded data removed]",
      "text/plain": [
       "<Figure size 864x360 with 1 Axes>"
      ]
     },
     "metadata": {
      "needs_background": "light"
     },
     "output_type": "display_data"
    }
   ],
   "source": [
    "plt.figure(figsize=(12, 5))\n",
    "sns.distplot(x=data[\"EstimatedSalary\"], color=\"violet\")\n",
    "plt.show()"
   ]
  },
  {
   "cell_type": "code",
   "execution_count": 37,
   "id": "f2927886",
   "metadata": {
    "execution": {
     "iopub.execute_input": "2021-12-01T09:05:57.015911Z",
     "iopub.status.busy": "2021-12-01T09:05:57.015020Z",
     "iopub.status.idle": "2021-12-01T09:05:57.031488Z",
     "shell.execute_reply": "2021-12-01T09:05:57.031894Z",
     "shell.execute_reply.started": "2021-12-01T07:51:49.197557Z"
    },
    "papermill": {
     "duration": 0.092958,
     "end_time": "2021-12-01T09:05:57.032052",
     "exception": false,
     "start_time": "2021-12-01T09:05:56.939094",
     "status": "completed"
    },
    "tags": []
   },
   "outputs": [
    {
     "data": {
      "text/html": [
       "<div>\n",
       "<style scoped>\n",
       "    .dataframe tbody tr th:only-of-type {\n",
       "        vertical-align: middle;\n",
       "    }\n",
       "\n",
       "    .dataframe tbody tr th {\n",
       "        vertical-align: top;\n",
       "    }\n",
       "\n",
       "    .dataframe thead th {\n",
       "        text-align: right;\n",
       "    }\n",
       "</style>\n",
       "<table border=\"1\" class=\"dataframe\">\n",
       "  <thead>\n",
       "    <tr style=\"text-align: right;\">\n",
       "      <th></th>\n",
       "      <th>EstimatedSalaryBand</th>\n",
       "      <th>Exited</th>\n",
       "    </tr>\n",
       "  </thead>\n",
       "  <tbody>\n",
       "    <tr>\n",
       "      <th>0</th>\n",
       "      <td>(-188.401, 50006.805]</td>\n",
       "      <td>0.199348</td>\n",
       "    </tr>\n",
       "    <tr>\n",
       "      <th>1</th>\n",
       "      <td>(50006.805, 100002.03]</td>\n",
       "      <td>0.198660</td>\n",
       "    </tr>\n",
       "    <tr>\n",
       "      <th>2</th>\n",
       "      <td>(100002.03, 149997.255]</td>\n",
       "      <td>0.202348</td>\n",
       "    </tr>\n",
       "    <tr>\n",
       "      <th>3</th>\n",
       "      <td>(149997.255, 199992.48]</td>\n",
       "      <td>0.214664</td>\n",
       "    </tr>\n",
       "  </tbody>\n",
       "</table>\n",
       "</div>"
      ],
      "text/plain": [
       "       EstimatedSalaryBand    Exited\n",
       "0    (-188.401, 50006.805]  0.199348\n",
       "1   (50006.805, 100002.03]  0.198660\n",
       "2  (100002.03, 149997.255]  0.202348\n",
       "3  (149997.255, 199992.48]  0.214664"
      ]
     },
     "execution_count": 37,
     "metadata": {},
     "output_type": "execute_result"
    }
   ],
   "source": [
    "df['EstimatedSalaryBand'] = pd.cut(df['EstimatedSalary'], 4)\n",
    "df[['EstimatedSalaryBand', 'Exited']].groupby(['EstimatedSalaryBand'], as_index=False).mean().sort_values(by='EstimatedSalaryBand', ascending=True)"
   ]
  },
  {
   "cell_type": "code",
   "execution_count": 38,
   "id": "41933dec",
   "metadata": {
    "execution": {
     "iopub.execute_input": "2021-12-01T09:05:57.185883Z",
     "iopub.status.busy": "2021-12-01T09:05:57.184984Z",
     "iopub.status.idle": "2021-12-01T09:05:57.202539Z",
     "shell.execute_reply": "2021-12-01T09:05:57.202080Z",
     "shell.execute_reply.started": "2021-12-01T07:51:49.219675Z"
    },
    "papermill": {
     "duration": 0.096284,
     "end_time": "2021-12-01T09:05:57.202674",
     "exception": false,
     "start_time": "2021-12-01T09:05:57.106390",
     "status": "completed"
    },
    "tags": []
   },
   "outputs": [
    {
     "data": {
      "text/html": [
       "<div>\n",
       "<style scoped>\n",
       "    .dataframe tbody tr th:only-of-type {\n",
       "        vertical-align: middle;\n",
       "    }\n",
       "\n",
       "    .dataframe tbody tr th {\n",
       "        vertical-align: top;\n",
       "    }\n",
       "\n",
       "    .dataframe thead th {\n",
       "        text-align: right;\n",
       "    }\n",
       "</style>\n",
       "<table border=\"1\" class=\"dataframe\">\n",
       "  <thead>\n",
       "    <tr style=\"text-align: right;\">\n",
       "      <th></th>\n",
       "      <th>RowNumber</th>\n",
       "      <th>CustomerId</th>\n",
       "      <th>Surname</th>\n",
       "      <th>CreditScore</th>\n",
       "      <th>Geography</th>\n",
       "      <th>Gender</th>\n",
       "      <th>Age</th>\n",
       "      <th>Tenure</th>\n",
       "      <th>Balance</th>\n",
       "      <th>NumOfProducts</th>\n",
       "      <th>HasCrCard</th>\n",
       "      <th>IsActiveMember</th>\n",
       "      <th>EstimatedSalary</th>\n",
       "      <th>Exited</th>\n",
       "      <th>EstimatedSalaryBand</th>\n",
       "    </tr>\n",
       "  </thead>\n",
       "  <tbody>\n",
       "    <tr>\n",
       "      <th>0</th>\n",
       "      <td>1</td>\n",
       "      <td>15634602</td>\n",
       "      <td>Hargrave</td>\n",
       "      <td>2</td>\n",
       "      <td>0</td>\n",
       "      <td>1</td>\n",
       "      <td>1</td>\n",
       "      <td>2</td>\n",
       "      <td>0</td>\n",
       "      <td>1</td>\n",
       "      <td>1</td>\n",
       "      <td>1</td>\n",
       "      <td>2</td>\n",
       "      <td>1</td>\n",
       "      <td>(100002.03, 149997.255]</td>\n",
       "    </tr>\n",
       "    <tr>\n",
       "      <th>1</th>\n",
       "      <td>2</td>\n",
       "      <td>15647311</td>\n",
       "      <td>Hill</td>\n",
       "      <td>2</td>\n",
       "      <td>2</td>\n",
       "      <td>1</td>\n",
       "      <td>1</td>\n",
       "      <td>1</td>\n",
       "      <td>1</td>\n",
       "      <td>1</td>\n",
       "      <td>0</td>\n",
       "      <td>1</td>\n",
       "      <td>2</td>\n",
       "      <td>0</td>\n",
       "      <td>(100002.03, 149997.255]</td>\n",
       "    </tr>\n",
       "    <tr>\n",
       "      <th>2</th>\n",
       "      <td>3</td>\n",
       "      <td>15619304</td>\n",
       "      <td>Onio</td>\n",
       "      <td>1</td>\n",
       "      <td>0</td>\n",
       "      <td>1</td>\n",
       "      <td>1</td>\n",
       "      <td>8</td>\n",
       "      <td>3</td>\n",
       "      <td>3</td>\n",
       "      <td>1</td>\n",
       "      <td>0</td>\n",
       "      <td>2</td>\n",
       "      <td>1</td>\n",
       "      <td>(100002.03, 149997.255]</td>\n",
       "    </tr>\n",
       "    <tr>\n",
       "      <th>3</th>\n",
       "      <td>4</td>\n",
       "      <td>15701354</td>\n",
       "      <td>Boni</td>\n",
       "      <td>3</td>\n",
       "      <td>0</td>\n",
       "      <td>1</td>\n",
       "      <td>1</td>\n",
       "      <td>1</td>\n",
       "      <td>0</td>\n",
       "      <td>2</td>\n",
       "      <td>0</td>\n",
       "      <td>0</td>\n",
       "      <td>1</td>\n",
       "      <td>0</td>\n",
       "      <td>(50006.805, 100002.03]</td>\n",
       "    </tr>\n",
       "    <tr>\n",
       "      <th>4</th>\n",
       "      <td>5</td>\n",
       "      <td>15737888</td>\n",
       "      <td>Mitchell</td>\n",
       "      <td>4</td>\n",
       "      <td>2</td>\n",
       "      <td>1</td>\n",
       "      <td>1</td>\n",
       "      <td>2</td>\n",
       "      <td>2</td>\n",
       "      <td>1</td>\n",
       "      <td>1</td>\n",
       "      <td>1</td>\n",
       "      <td>1</td>\n",
       "      <td>0</td>\n",
       "      <td>(50006.805, 100002.03]</td>\n",
       "    </tr>\n",
       "  </tbody>\n",
       "</table>\n",
       "</div>"
      ],
      "text/plain": [
       "   RowNumber  CustomerId   Surname  CreditScore  Geography  Gender  Age  \\\n",
       "0          1    15634602  Hargrave            2          0       1    1   \n",
       "1          2    15647311      Hill            2          2       1    1   \n",
       "2          3    15619304      Onio            1          0       1    1   \n",
       "3          4    15701354      Boni            3          0       1    1   \n",
       "4          5    15737888  Mitchell            4          2       1    1   \n",
       "\n",
       "   Tenure  Balance  NumOfProducts  HasCrCard  IsActiveMember  EstimatedSalary  \\\n",
       "0       2        0              1          1               1                2   \n",
       "1       1        1              1          0               1                2   \n",
       "2       8        3              3          1               0                2   \n",
       "3       1        0              2          0               0                1   \n",
       "4       2        2              1          1               1                1   \n",
       "\n",
       "   Exited      EstimatedSalaryBand  \n",
       "0       1  (100002.03, 149997.255]  \n",
       "1       0  (100002.03, 149997.255]  \n",
       "2       1  (100002.03, 149997.255]  \n",
       "3       0   (50006.805, 100002.03]  \n",
       "4       0   (50006.805, 100002.03]  "
      ]
     },
     "execution_count": 38,
     "metadata": {},
     "output_type": "execute_result"
    }
   ],
   "source": [
    "for dataset in df_:    \n",
    "    dataset.loc[(dataset['EstimatedSalary'] > -188.401) & (dataset['EstimatedSalary'] <= 50006.805), 'EstimatedSalary'] = 0\n",
    "    dataset.loc[(dataset['EstimatedSalary'] > 50006.805) & (dataset['EstimatedSalary'] <= 100002.03), 'EstimatedSalary'] = 1\n",
    "    dataset.loc[(dataset['EstimatedSalary'] > 100002.03) & (dataset['EstimatedSalary'] <= 149997.255), 'EstimatedSalary'] = 2\n",
    "    dataset.loc[(dataset['EstimatedSalary'] > 149997.255) & (dataset['EstimatedSalary'] <= 199992.48), 'EstimatedSalary'] = 3\n",
    "    df['EstimatedSalary'] = df['EstimatedSalary'].astype(int)\n",
    "df.head()"
   ]
  },
  {
   "cell_type": "code",
   "execution_count": 39,
   "id": "6fef773a",
   "metadata": {
    "execution": {
     "iopub.execute_input": "2021-12-01T09:05:57.350948Z",
     "iopub.status.busy": "2021-12-01T09:05:57.350031Z",
     "iopub.status.idle": "2021-12-01T09:05:57.363473Z",
     "shell.execute_reply": "2021-12-01T09:05:57.363873Z",
     "shell.execute_reply.started": "2021-12-01T07:51:49.246987Z"
    },
    "papermill": {
     "duration": 0.090344,
     "end_time": "2021-12-01T09:05:57.364015",
     "exception": false,
     "start_time": "2021-12-01T09:05:57.273671",
     "status": "completed"
    },
    "tags": []
   },
   "outputs": [
    {
     "data": {
      "text/html": [
       "<div>\n",
       "<style scoped>\n",
       "    .dataframe tbody tr th:only-of-type {\n",
       "        vertical-align: middle;\n",
       "    }\n",
       "\n",
       "    .dataframe tbody tr th {\n",
       "        vertical-align: top;\n",
       "    }\n",
       "\n",
       "    .dataframe thead th {\n",
       "        text-align: right;\n",
       "    }\n",
       "</style>\n",
       "<table border=\"1\" class=\"dataframe\">\n",
       "  <thead>\n",
       "    <tr style=\"text-align: right;\">\n",
       "      <th></th>\n",
       "      <th>RowNumber</th>\n",
       "      <th>CustomerId</th>\n",
       "      <th>Surname</th>\n",
       "      <th>CreditScore</th>\n",
       "      <th>Geography</th>\n",
       "      <th>Gender</th>\n",
       "      <th>Age</th>\n",
       "      <th>Tenure</th>\n",
       "      <th>Balance</th>\n",
       "      <th>NumOfProducts</th>\n",
       "      <th>HasCrCard</th>\n",
       "      <th>IsActiveMember</th>\n",
       "      <th>EstimatedSalary</th>\n",
       "      <th>Exited</th>\n",
       "    </tr>\n",
       "  </thead>\n",
       "  <tbody>\n",
       "    <tr>\n",
       "      <th>0</th>\n",
       "      <td>1</td>\n",
       "      <td>15634602</td>\n",
       "      <td>Hargrave</td>\n",
       "      <td>2</td>\n",
       "      <td>0</td>\n",
       "      <td>1</td>\n",
       "      <td>1</td>\n",
       "      <td>2</td>\n",
       "      <td>0</td>\n",
       "      <td>1</td>\n",
       "      <td>1</td>\n",
       "      <td>1</td>\n",
       "      <td>2</td>\n",
       "      <td>1</td>\n",
       "    </tr>\n",
       "    <tr>\n",
       "      <th>1</th>\n",
       "      <td>2</td>\n",
       "      <td>15647311</td>\n",
       "      <td>Hill</td>\n",
       "      <td>2</td>\n",
       "      <td>2</td>\n",
       "      <td>1</td>\n",
       "      <td>1</td>\n",
       "      <td>1</td>\n",
       "      <td>1</td>\n",
       "      <td>1</td>\n",
       "      <td>0</td>\n",
       "      <td>1</td>\n",
       "      <td>2</td>\n",
       "      <td>0</td>\n",
       "    </tr>\n",
       "    <tr>\n",
       "      <th>2</th>\n",
       "      <td>3</td>\n",
       "      <td>15619304</td>\n",
       "      <td>Onio</td>\n",
       "      <td>1</td>\n",
       "      <td>0</td>\n",
       "      <td>1</td>\n",
       "      <td>1</td>\n",
       "      <td>8</td>\n",
       "      <td>3</td>\n",
       "      <td>3</td>\n",
       "      <td>1</td>\n",
       "      <td>0</td>\n",
       "      <td>2</td>\n",
       "      <td>1</td>\n",
       "    </tr>\n",
       "    <tr>\n",
       "      <th>3</th>\n",
       "      <td>4</td>\n",
       "      <td>15701354</td>\n",
       "      <td>Boni</td>\n",
       "      <td>3</td>\n",
       "      <td>0</td>\n",
       "      <td>1</td>\n",
       "      <td>1</td>\n",
       "      <td>1</td>\n",
       "      <td>0</td>\n",
       "      <td>2</td>\n",
       "      <td>0</td>\n",
       "      <td>0</td>\n",
       "      <td>1</td>\n",
       "      <td>0</td>\n",
       "    </tr>\n",
       "    <tr>\n",
       "      <th>4</th>\n",
       "      <td>5</td>\n",
       "      <td>15737888</td>\n",
       "      <td>Mitchell</td>\n",
       "      <td>4</td>\n",
       "      <td>2</td>\n",
       "      <td>1</td>\n",
       "      <td>1</td>\n",
       "      <td>2</td>\n",
       "      <td>2</td>\n",
       "      <td>1</td>\n",
       "      <td>1</td>\n",
       "      <td>1</td>\n",
       "      <td>1</td>\n",
       "      <td>0</td>\n",
       "    </tr>\n",
       "  </tbody>\n",
       "</table>\n",
       "</div>"
      ],
      "text/plain": [
       "   RowNumber  CustomerId   Surname  CreditScore  Geography  Gender  Age  \\\n",
       "0          1    15634602  Hargrave            2          0       1    1   \n",
       "1          2    15647311      Hill            2          2       1    1   \n",
       "2          3    15619304      Onio            1          0       1    1   \n",
       "3          4    15701354      Boni            3          0       1    1   \n",
       "4          5    15737888  Mitchell            4          2       1    1   \n",
       "\n",
       "   Tenure  Balance  NumOfProducts  HasCrCard  IsActiveMember  EstimatedSalary  \\\n",
       "0       2        0              1          1               1                2   \n",
       "1       1        1              1          0               1                2   \n",
       "2       8        3              3          1               0                2   \n",
       "3       1        0              2          0               0                1   \n",
       "4       2        2              1          1               1                1   \n",
       "\n",
       "   Exited  \n",
       "0       1  \n",
       "1       0  \n",
       "2       1  \n",
       "3       0  \n",
       "4       0  "
      ]
     },
     "execution_count": 39,
     "metadata": {},
     "output_type": "execute_result"
    }
   ],
   "source": [
    "df = df.drop(['EstimatedSalaryBand'], axis=1)\n",
    "df.head()"
   ]
  },
  {
   "cell_type": "markdown",
   "id": "efc62993",
   "metadata": {
    "papermill": {
     "duration": 0.076393,
     "end_time": "2021-12-01T09:05:57.514986",
     "exception": false,
     "start_time": "2021-12-01T09:05:57.438593",
     "status": "completed"
    },
    "tags": []
   },
   "source": [
    ">#### Removing other columns with very little to no information. "
   ]
  },
  {
   "cell_type": "code",
   "execution_count": 40,
   "id": "0101382f",
   "metadata": {
    "execution": {
     "iopub.execute_input": "2021-12-01T09:05:57.675529Z",
     "iopub.status.busy": "2021-12-01T09:05:57.674766Z",
     "iopub.status.idle": "2021-12-01T09:05:57.677827Z",
     "shell.execute_reply": "2021-12-01T09:05:57.678253Z",
     "shell.execute_reply.started": "2021-12-01T07:51:49.266383Z"
    },
    "papermill": {
     "duration": 0.088968,
     "end_time": "2021-12-01T09:05:57.678456",
     "exception": false,
     "start_time": "2021-12-01T09:05:57.589488",
     "status": "completed"
    },
    "tags": []
   },
   "outputs": [
    {
     "data": {
      "text/html": [
       "<div>\n",
       "<style scoped>\n",
       "    .dataframe tbody tr th:only-of-type {\n",
       "        vertical-align: middle;\n",
       "    }\n",
       "\n",
       "    .dataframe tbody tr th {\n",
       "        vertical-align: top;\n",
       "    }\n",
       "\n",
       "    .dataframe thead th {\n",
       "        text-align: right;\n",
       "    }\n",
       "</style>\n",
       "<table border=\"1\" class=\"dataframe\">\n",
       "  <thead>\n",
       "    <tr style=\"text-align: right;\">\n",
       "      <th></th>\n",
       "      <th>CreditScore</th>\n",
       "      <th>Geography</th>\n",
       "      <th>Gender</th>\n",
       "      <th>Age</th>\n",
       "      <th>Tenure</th>\n",
       "      <th>Balance</th>\n",
       "      <th>NumOfProducts</th>\n",
       "      <th>HasCrCard</th>\n",
       "      <th>IsActiveMember</th>\n",
       "      <th>EstimatedSalary</th>\n",
       "    </tr>\n",
       "  </thead>\n",
       "  <tbody>\n",
       "    <tr>\n",
       "      <th>0</th>\n",
       "      <td>2</td>\n",
       "      <td>0</td>\n",
       "      <td>1</td>\n",
       "      <td>1</td>\n",
       "      <td>2</td>\n",
       "      <td>0</td>\n",
       "      <td>1</td>\n",
       "      <td>1</td>\n",
       "      <td>1</td>\n",
       "      <td>2</td>\n",
       "    </tr>\n",
       "    <tr>\n",
       "      <th>1</th>\n",
       "      <td>2</td>\n",
       "      <td>2</td>\n",
       "      <td>1</td>\n",
       "      <td>1</td>\n",
       "      <td>1</td>\n",
       "      <td>1</td>\n",
       "      <td>1</td>\n",
       "      <td>0</td>\n",
       "      <td>1</td>\n",
       "      <td>2</td>\n",
       "    </tr>\n",
       "    <tr>\n",
       "      <th>2</th>\n",
       "      <td>1</td>\n",
       "      <td>0</td>\n",
       "      <td>1</td>\n",
       "      <td>1</td>\n",
       "      <td>8</td>\n",
       "      <td>3</td>\n",
       "      <td>3</td>\n",
       "      <td>1</td>\n",
       "      <td>0</td>\n",
       "      <td>2</td>\n",
       "    </tr>\n",
       "    <tr>\n",
       "      <th>3</th>\n",
       "      <td>3</td>\n",
       "      <td>0</td>\n",
       "      <td>1</td>\n",
       "      <td>1</td>\n",
       "      <td>1</td>\n",
       "      <td>0</td>\n",
       "      <td>2</td>\n",
       "      <td>0</td>\n",
       "      <td>0</td>\n",
       "      <td>1</td>\n",
       "    </tr>\n",
       "    <tr>\n",
       "      <th>4</th>\n",
       "      <td>4</td>\n",
       "      <td>2</td>\n",
       "      <td>1</td>\n",
       "      <td>1</td>\n",
       "      <td>2</td>\n",
       "      <td>2</td>\n",
       "      <td>1</td>\n",
       "      <td>1</td>\n",
       "      <td>1</td>\n",
       "      <td>1</td>\n",
       "    </tr>\n",
       "  </tbody>\n",
       "</table>\n",
       "</div>"
      ],
      "text/plain": [
       "   CreditScore  Geography  Gender  Age  Tenure  Balance  NumOfProducts  \\\n",
       "0            2          0       1    1       2        0              1   \n",
       "1            2          2       1    1       1        1              1   \n",
       "2            1          0       1    1       8        3              3   \n",
       "3            3          0       1    1       1        0              2   \n",
       "4            4          2       1    1       2        2              1   \n",
       "\n",
       "   HasCrCard  IsActiveMember  EstimatedSalary  \n",
       "0          1               1                2  \n",
       "1          0               1                2  \n",
       "2          1               0                2  \n",
       "3          0               0                1  \n",
       "4          1               1                1  "
      ]
     },
     "execution_count": 40,
     "metadata": {},
     "output_type": "execute_result"
    }
   ],
   "source": [
    "df = df.drop(['RowNumber', 'CustomerId', 'Surname', 'Exited'], axis=1)\n",
    "df.head()"
   ]
  },
  {
   "cell_type": "markdown",
   "id": "9bbe0f81",
   "metadata": {
    "papermill": {
     "duration": 0.074169,
     "end_time": "2021-12-01T09:05:57.825930",
     "exception": false,
     "start_time": "2021-12-01T09:05:57.751761",
     "status": "completed"
    },
    "tags": []
   },
   "source": [
    "#### Here, we have a modified table with all the values converted into a format that our model can understand. Now, let's get it prepared to pass it into the model."
   ]
  },
  {
   "cell_type": "code",
   "execution_count": 41,
   "id": "11d849c5",
   "metadata": {
    "execution": {
     "iopub.execute_input": "2021-12-01T09:05:58.015755Z",
     "iopub.status.busy": "2021-12-01T09:05:58.014887Z",
     "iopub.status.idle": "2021-12-01T09:05:58.020051Z",
     "shell.execute_reply": "2021-12-01T09:05:58.019632Z",
     "shell.execute_reply.started": "2021-12-01T07:51:49.283448Z"
    },
    "papermill": {
     "duration": 0.084292,
     "end_time": "2021-12-01T09:05:58.020170",
     "exception": false,
     "start_time": "2021-12-01T09:05:57.935878",
     "status": "completed"
    },
    "tags": []
   },
   "outputs": [],
   "source": [
    "X_train, X_test, y_train, y_test = train_test_split(df, data['Exited'], test_size=0.15, random_state=seed)"
   ]
  },
  {
   "cell_type": "markdown",
   "id": "98567c8a",
   "metadata": {
    "papermill": {
     "duration": 0.134221,
     "end_time": "2021-12-01T09:05:58.242609",
     "exception": false,
     "start_time": "2021-12-01T09:05:58.108388",
     "status": "completed"
    },
    "tags": []
   },
   "source": [
    "# 3. <a id='modeltraining'>Model Training</a>\n",
    "## 3.1. <a id='lrmodel'>Treating a Logistic Regression model as a base model</a>"
   ]
  },
  {
   "cell_type": "code",
   "execution_count": 42,
   "id": "c488263a",
   "metadata": {
    "execution": {
     "iopub.execute_input": "2021-12-01T09:05:58.503899Z",
     "iopub.status.busy": "2021-12-01T09:05:58.502997Z",
     "iopub.status.idle": "2021-12-01T09:05:58.630151Z",
     "shell.execute_reply": "2021-12-01T09:05:58.631298Z",
     "shell.execute_reply.started": "2021-12-01T07:51:49.293139Z"
    },
    "papermill": {
     "duration": 0.262573,
     "end_time": "2021-12-01T09:05:58.631549",
     "exception": false,
     "start_time": "2021-12-01T09:05:58.368976",
     "status": "completed"
    },
    "tags": []
   },
   "outputs": [
    {
     "data": {
      "text/plain": [
       "LogisticRegression(random_state=46)"
      ]
     },
     "execution_count": 42,
     "metadata": {},
     "output_type": "execute_result"
    }
   ],
   "source": [
    "LR_model = LogisticRegression(random_state=seed)\n",
    "LR_model.fit(X_train, y_train)"
   ]
  },
  {
   "cell_type": "code",
   "execution_count": 43,
   "id": "e2a9dca1",
   "metadata": {
    "execution": {
     "iopub.execute_input": "2021-12-01T09:05:58.874405Z",
     "iopub.status.busy": "2021-12-01T09:05:58.873484Z",
     "iopub.status.idle": "2021-12-01T09:05:58.876061Z",
     "shell.execute_reply": "2021-12-01T09:05:58.876854Z",
     "shell.execute_reply.started": "2021-12-01T07:51:49.376141Z"
    },
    "papermill": {
     "duration": 0.08728,
     "end_time": "2021-12-01T09:05:58.877083",
     "exception": false,
     "start_time": "2021-12-01T09:05:58.789803",
     "status": "completed"
    },
    "tags": []
   },
   "outputs": [],
   "source": [
    "y_pred = LR_model.predict(X_test)"
   ]
  },
  {
   "cell_type": "code",
   "execution_count": 44,
   "id": "350965af",
   "metadata": {
    "execution": {
     "iopub.execute_input": "2021-12-01T09:05:59.106995Z",
     "iopub.status.busy": "2021-12-01T09:05:59.106108Z",
     "iopub.status.idle": "2021-12-01T09:05:59.446958Z",
     "shell.execute_reply": "2021-12-01T09:05:59.447423Z",
     "shell.execute_reply.started": "2021-12-01T08:11:23.430135Z"
    },
    "papermill": {
     "duration": 0.436139,
     "end_time": "2021-12-01T09:05:59.447593",
     "exception": false,
     "start_time": "2021-12-01T09:05:59.011454",
     "status": "completed"
    },
    "tags": []
   },
   "outputs": [
    {
     "data": {
      "text/plain": [
       "<sklearn.metrics._plot.precision_recall_curve.PrecisionRecallDisplay at 0x7f1817fcff10>"
      ]
     },
     "execution_count": 44,
     "metadata": {},
     "output_type": "execute_result"
    },
    {
     "data": {
      "image/png": "[encoded data removed]",
      "text/plain": [
       "<Figure size 864x360 with 2 Axes>"
      ]
     },
     "metadata": {
      "needs_background": "light"
     },
     "output_type": "display_data"
    }
   ],
   "source": [
    "fig, (ax1, ax2) = plt.subplots(ncols=2)\n",
    "ax1.plot([0, 1], [0, 1], linestyle=\"--\", lw=2, color=\"r\", label=\"Chance\", alpha=0.8)\n",
    "fig.set_figheight(5)\n",
    "fig.set_figwidth(12)\n",
    "ax1.set_title('ROC Curve')\n",
    "ax2.set_title('Precision Recall Curve')\n",
    "plot_roc_curve(LR_model, X_test, y_test, ax=ax1)\n",
    "plot_precision_recall_curve(LR_model, X_test, y_test, ax=ax2)"
   ]
  },
  {
   "cell_type": "code",
   "execution_count": 45,
   "id": "d4fe64d0",
   "metadata": {
    "execution": {
     "iopub.execute_input": "2021-12-01T09:05:59.608817Z",
     "iopub.status.busy": "2021-12-01T09:05:59.607967Z",
     "iopub.status.idle": "2021-12-01T09:05:59.616919Z",
     "shell.execute_reply": "2021-12-01T09:05:59.617986Z",
     "shell.execute_reply.started": "2021-12-01T07:51:49.626568Z"
    },
    "papermill": {
     "duration": 0.094923,
     "end_time": "2021-12-01T09:05:59.618168",
     "exception": false,
     "start_time": "2021-12-01T09:05:59.523245",
     "status": "completed"
    },
    "tags": []
   },
   "outputs": [
    {
     "name": "stdout",
     "output_type": "stream",
     "text": [
      "              precision    recall  f1-score   support\n",
      "\n",
      "           0       0.80      0.98      0.88      1178\n",
      "           1       0.59      0.13      0.21       322\n",
      "\n",
      "    accuracy                           0.79      1500\n",
      "   macro avg       0.70      0.55      0.55      1500\n",
      "weighted avg       0.76      0.79      0.74      1500\n",
      "\n"
     ]
    }
   ],
   "source": [
    "print(classification_report(y_test, y_pred))"
   ]
  },
  {
   "cell_type": "markdown",
   "id": "3a343c10",
   "metadata": {
    "papermill": {
     "duration": 0.07525,
     "end_time": "2021-12-01T09:05:59.768110",
     "exception": false,
     "start_time": "2021-12-01T09:05:59.692860",
     "status": "completed"
    },
    "tags": []
   },
   "source": [
    "## 3.2. <a id='xgboost'>Training on XG-Boost</a>\n",
    ">#### Calling the XG-Boost model object and setting `tree_method='gpu_hist'` to be able to train the model on the GPU which is much faster than training it normally on CPU."
   ]
  },
  {
   "cell_type": "code",
   "execution_count": 46,
   "id": "947e444d",
   "metadata": {
    "execution": {
     "iopub.execute_input": "2021-12-01T09:05:59.924478Z",
     "iopub.status.busy": "2021-12-01T09:05:59.923727Z",
     "iopub.status.idle": "2021-12-01T09:06:03.794702Z",
     "shell.execute_reply": "2021-12-01T09:06:03.795275Z",
     "shell.execute_reply.started": "2021-12-01T07:51:49.641204Z"
    },
    "papermill": {
     "duration": 3.952916,
     "end_time": "2021-12-01T09:06:03.795478",
     "exception": false,
     "start_time": "2021-12-01T09:05:59.842562",
     "status": "completed"
    },
    "tags": []
   },
   "outputs": [
    {
     "name": "stdout",
     "output_type": "stream",
     "text": [
      "[09:06:03] WARNING: ../src/learner.cc:1095: Starting in XGBoost 1.3.0, the default evaluation metric used with the objective 'binary:logistic' was changed from 'error' to 'logloss'. Explicitly set eval_metric if you'd like to restore the old behavior.\n",
      "Your model is trained!\n"
     ]
    }
   ],
   "source": [
    "XGB_model = XGBClassifier(tree_method='gpu_hist')\n",
    "XGB_model.fit(X_train, y_train)\n",
    "print('Your model is trained!')"
   ]
  },
  {
   "cell_type": "code",
   "execution_count": 47,
   "id": "0c41600e",
   "metadata": {
    "execution": {
     "iopub.execute_input": "2021-12-01T09:06:03.967302Z",
     "iopub.status.busy": "2021-12-01T09:06:03.959680Z",
     "iopub.status.idle": "2021-12-01T09:06:04.292681Z",
     "shell.execute_reply": "2021-12-01T09:06:04.292222Z",
     "shell.execute_reply.started": "2021-12-01T08:12:15.357266Z"
    },
    "papermill": {
     "duration": 0.417952,
     "end_time": "2021-12-01T09:06:04.292807",
     "exception": false,
     "start_time": "2021-12-01T09:06:03.874855",
     "status": "completed"
    },
    "tags": []
   },
   "outputs": [
    {
     "data": {
      "text/plain": [
       "<sklearn.metrics._plot.precision_recall_curve.PrecisionRecallDisplay at 0x7f17a41cda10>"
      ]
     },
     "execution_count": 47,
     "metadata": {},
     "output_type": "execute_result"
    },
    {
     "data": {
      "image/png": "[encoded data removed]",
      "text/plain": [
       "<Figure size 864x360 with 2 Axes>"
      ]
     },
     "metadata": {
      "needs_background": "light"
     },
     "output_type": "display_data"
    }
   ],
   "source": [
    "y_pred1 = XGB_model.predict(X_test)\n",
    "fig, (ax1, ax2) = plt.subplots(ncols=2)\n",
    "ax1.plot([0, 1], [0, 1], linestyle=\"--\", lw=2, color=\"r\", label=\"Chance\", alpha=0.8)\n",
    "fig.set_figheight(5)\n",
    "fig.set_figwidth(12)\n",
    "ax1.set_title('ROC Curve')\n",
    "ax2.set_title('Precision Recall Curve')\n",
    "plot_roc_curve(XGB_model, X_test, y_test, ax=ax1)\n",
    "plot_precision_recall_curve(XGB_model, X_test, y_test, ax=ax2)"
   ]
  },
  {
   "cell_type": "code",
   "execution_count": 48,
   "id": "a3009d14",
   "metadata": {
    "execution": {
     "iopub.execute_input": "2021-12-01T09:06:04.452443Z",
     "iopub.status.busy": "2021-12-01T09:06:04.451554Z",
     "iopub.status.idle": "2021-12-01T09:06:04.461212Z",
     "shell.execute_reply": "2021-12-01T09:06:04.461772Z",
     "shell.execute_reply.started": "2021-12-01T07:51:53.909749Z"
    },
    "papermill": {
     "duration": 0.091781,
     "end_time": "2021-12-01T09:06:04.461961",
     "exception": false,
     "start_time": "2021-12-01T09:06:04.370180",
     "status": "completed"
    },
    "tags": []
   },
   "outputs": [
    {
     "name": "stdout",
     "output_type": "stream",
     "text": [
      "              precision    recall  f1-score   support\n",
      "\n",
      "           0       0.86      0.94      0.90      1178\n",
      "           1       0.65      0.43      0.52       322\n",
      "\n",
      "    accuracy                           0.83      1500\n",
      "   macro avg       0.75      0.69      0.71      1500\n",
      "weighted avg       0.81      0.83      0.81      1500\n",
      "\n"
     ]
    }
   ],
   "source": [
    "print(classification_report(y_test, y_pred1))"
   ]
  },
  {
   "cell_type": "markdown",
   "id": "59a55296",
   "metadata": {
    "papermill": {
     "duration": 0.079363,
     "end_time": "2021-12-01T09:06:04.620647",
     "exception": false,
     "start_time": "2021-12-01T09:06:04.541284",
     "status": "completed"
    },
    "tags": []
   },
   "source": [
    "## 3.3. <a id='hyperparam'>HyperParameter Tuning</a>\n",
    "#### Determining the best hyperparameters using GridSearchCV"
   ]
  },
  {
   "cell_type": "markdown",
   "id": "3264e30e",
   "metadata": {
    "papermill": {
     "duration": 0.078503,
     "end_time": "2021-12-01T09:06:04.776128",
     "exception": false,
     "start_time": "2021-12-01T09:06:04.697625",
     "status": "completed"
    },
    "tags": []
   },
   "source": [
    ">`scale_pos_weight`: Control the balance of positive and negative weights, useful for unbalanced classes. A typical value to consider: sum(negative instances) / sum(positive instances) ==> already calculated over<a href=\"#imb\"> here.</a>  \n",
    "\n",
    ">`alpha`: L1 regularization term on weights. Increasing this value will make model more conservative.  \n",
    "\n",
    ">`max_depth`: Maximum depth of a tree. Increasing this value will make the model more complex and more likely to overfit.  \n",
    "\n",
    ">`gamma`: Minimum loss reduction required to make a further partition on a leaf node of the tree. The larger `gamma` is, the more conservative the algorithm will be. \n",
    "\n",
    ">`subsample`: Subsample ratio of the training instances. Setting it to 0.5 means that XGBoost would randomly sample half of the training data prior to growing trees. and this will prevent overfitting. \n",
    "\n",
    ">`learning_rate`: Step size shrinkage used in update to prevent overfitting. \n",
    "\n",
    ">`tree_method`: Basically to train XGBoost on cpu or gpu. Read more over in the <a href=\"https://xgboost.readthedocs.io/en/latest/gpu/index.html?highlight=tree_method\">documentation.</a>\n",
    "\n",
    ">`eval_metric`: Evaluation metrics for validation data, a default metric will be assigned according to objective. \n",
    "\n",
    ">`objective: 'binary:hinge'`: hinge loss for binary classification. This makes predictions of 0 or 1, rather than producing probabilities. *I tried using this but the score went below 72%.*  \n",
    "\n",
    ">`objective: 'binary:logistic'`: logistic regression for binary classification, output probability.\n",
    "\n"
   ]
  },
  {
   "cell_type": "code",
   "execution_count": 49,
   "id": "02d46588",
   "metadata": {
    "execution": {
     "iopub.execute_input": "2021-12-01T09:06:04.941216Z",
     "iopub.status.busy": "2021-12-01T09:06:04.940301Z",
     "iopub.status.idle": "2021-12-01T09:06:04.943324Z",
     "shell.execute_reply": "2021-12-01T09:06:04.942842Z",
     "shell.execute_reply.started": "2021-12-01T07:51:53.923954Z"
    },
    "papermill": {
     "duration": 0.088177,
     "end_time": "2021-12-01T09:06:04.943443",
     "exception": false,
     "start_time": "2021-12-01T09:06:04.855266",
     "status": "completed"
    },
    "tags": []
   },
   "outputs": [],
   "source": [
    "MAX_TREE_DEPTH = [4]#complex>>>\n",
    "TREE_METHOD = ['gpu_hist']\n",
    "SUBSAMPLE = [0.7]\n",
    "REGULARIZATION = [0.1, 0.01]\n",
    "GAMMA = [0.2, 0.3]\n",
    "POS_WEIGHT = [0.26]\n",
    "OBJ = ['binary:logistic']\n",
    "EVAL = ['auc']\n",
    "ETA = [0.11]\n",
    "\n",
    "param_grid = {'tree_method': TREE_METHOD, 'max_depth': MAX_TREE_DEPTH, 'alpha': REGULARIZATION,\n",
    "          'gamma': GAMMA, 'subsample': SUBSAMPLE, 'scale_pos_weight': POS_WEIGHT, 'learning_rate': ETA, \n",
    "          'objective': OBJ, 'eval_metric': EVAL}"
   ]
  },
  {
   "cell_type": "markdown",
   "id": "c43b9eca",
   "metadata": {
    "papermill": {
     "duration": 0.085627,
     "end_time": "2021-12-01T09:06:05.107257",
     "exception": false,
     "start_time": "2021-12-01T09:06:05.021630",
     "status": "completed"
    },
    "tags": []
   },
   "source": [
    ">#### The above parameters are what I found to give the greatest score (by trial and error)."
   ]
  },
  {
   "cell_type": "markdown",
   "id": "bfdaa6d1",
   "metadata": {
    "papermill": {
     "duration": 0.07911,
     "end_time": "2021-12-01T09:06:05.264482",
     "exception": false,
     "start_time": "2021-12-01T09:06:05.185372",
     "status": "completed"
    },
    "tags": []
   },
   "source": [
    "### Introducing Cross Validation:"
   ]
  },
  {
   "cell_type": "code",
   "execution_count": 50,
   "id": "64e14539",
   "metadata": {
    "execution": {
     "iopub.execute_input": "2021-12-01T09:06:05.428771Z",
     "iopub.status.busy": "2021-12-01T09:06:05.427828Z",
     "iopub.status.idle": "2021-12-01T09:06:05.430831Z",
     "shell.execute_reply": "2021-12-01T09:06:05.430412Z",
     "shell.execute_reply.started": "2021-12-01T07:51:53.931923Z"
    },
    "papermill": {
     "duration": 0.087917,
     "end_time": "2021-12-01T09:06:05.430946",
     "exception": false,
     "start_time": "2021-12-01T09:06:05.343029",
     "status": "completed"
    },
    "tags": []
   },
   "outputs": [],
   "source": [
    "cv = RepeatedStratifiedKFold(n_splits=10, n_repeats=3, random_state=seed)"
   ]
  },
  {
   "cell_type": "code",
   "execution_count": 51,
   "id": "3f48b3d2",
   "metadata": {
    "execution": {
     "iopub.execute_input": "2021-12-01T09:06:05.593715Z",
     "iopub.status.busy": "2021-12-01T09:06:05.592834Z",
     "iopub.status.idle": "2021-12-01T09:06:33.140724Z",
     "shell.execute_reply": "2021-12-01T09:06:33.141109Z",
     "shell.execute_reply.started": "2021-12-01T07:51:53.942609Z"
    },
    "papermill": {
     "duration": 27.63156,
     "end_time": "2021-12-01T09:06:33.141308",
     "exception": false,
     "start_time": "2021-12-01T09:06:05.509748",
     "status": "completed"
    },
    "tags": []
   },
   "outputs": [
    {
     "name": "stdout",
     "output_type": "stream",
     "text": [
      "CPU times: user 790 ms, sys: 101 ms, total: 891 ms\n",
      "Wall time: 27.5 s\n"
     ]
    }
   ],
   "source": [
    "%%time\n",
    "grid = GridSearchCV(estimator=XGB_model, param_grid=param_grid, scoring='roc_auc', cv=cv, n_jobs=-1)\n",
    "grid_fit = grid.fit(X_train,y_train)"
   ]
  },
  {
   "cell_type": "markdown",
   "id": "8af234d2",
   "metadata": {
    "papermill": {
     "duration": 0.076166,
     "end_time": "2021-12-01T09:06:33.294068",
     "exception": false,
     "start_time": "2021-12-01T09:06:33.217902",
     "status": "completed"
    },
    "tags": []
   },
   "source": [
    ">### The training process has been completed!!"
   ]
  },
  {
   "cell_type": "markdown",
   "id": "94d059a3",
   "metadata": {
    "papermill": {
     "duration": 0.076192,
     "end_time": "2021-12-01T09:06:33.446999",
     "exception": false,
     "start_time": "2021-12-01T09:06:33.370807",
     "status": "completed"
    },
    "tags": []
   },
   "source": [
    "# 4. <a id=\"results\">Results</a>\n",
    "### Thus, I have successfully trained the XG Boost model using cross validation and finally fine tuned the hyperparameters, with the best scores as shown below."
   ]
  },
  {
   "cell_type": "code",
   "execution_count": 52,
   "id": "ac927d93",
   "metadata": {
    "execution": {
     "iopub.execute_input": "2021-12-01T09:06:33.607533Z",
     "iopub.status.busy": "2021-12-01T09:06:33.606835Z",
     "iopub.status.idle": "2021-12-01T09:06:33.609921Z",
     "shell.execute_reply": "2021-12-01T09:06:33.610578Z",
     "shell.execute_reply.started": "2021-12-01T07:52:21.228398Z"
    },
    "papermill": {
     "duration": 0.086504,
     "end_time": "2021-12-01T09:06:33.610761",
     "exception": false,
     "start_time": "2021-12-01T09:06:33.524257",
     "status": "completed"
    },
    "tags": []
   },
   "outputs": [
    {
     "name": "stdout",
     "output_type": "stream",
     "text": [
      "Best Score: 85.42 % with these parameters: {'alpha': 0.1, 'eval_metric': 'auc', 'gamma': 0.3, 'learning_rate': 0.11, 'max_depth': 4, 'objective': 'binary:logistic', 'scale_pos_weight': 0.26, 'subsample': 0.7, 'tree_method': 'gpu_hist'})\n"
     ]
    }
   ],
   "source": [
    "best_score = grid_fit.best_score_\n",
    "best_params = grid_fit.best_params_\n",
    "\n",
    "print('Best Score: {:.2f} % with these parameters: {})'.format(best_score*100, best_params))"
   ]
  },
  {
   "cell_type": "markdown",
   "id": "71232e12",
   "metadata": {
    "papermill": {
     "duration": 0.079043,
     "end_time": "2021-12-01T09:06:33.768386",
     "exception": false,
     "start_time": "2021-12-01T09:06:33.689343",
     "status": "completed"
    },
    "tags": []
   },
   "source": [
    "### Other parameters which I tried:\n",
    "- Best Score: **85.40%** with these parameters: {'alpha': 0.01, 'eval_metric': 'auc', 'gamma': 0.2, 'learning_rate': 0.1, 'max_depth': 4, 'objective': 'binary:logistic', 'scale_pos_weight': 0.26, 'subsample': 0.5, 'tree_method': 'gpu_hist'}), \n",
    "- Best Score: **85.43%** with these parameters: {'alpha': 0.01, 'eval_metric': 'auc', 'gamma': 0.3, 'learning_rate': 0.1, 'max_depth': 4, 'objective': 'binary:logistic', 'scale_pos_weight': 0.26, 'subsample': 0.6, 'tree_method': 'gpu_hist'}),\n",
    "- Best Score: **85.44%** with these parameters: {'alpha': 0.01, 'eval_metric': 'auc', 'gamma': 0.2, 'learning_rate': 0.11, 'max_depth': 4, 'objective': 'binary:logistic', 'scale_pos_weight': 0.26, 'subsample': 0.7, 'tree_method': 'gpu_hist'}),  \n",
    "- Best Score: **85.44%** with these parameters: {'alpha': 0.1, 'eval_metric': 'auc', 'gamma': 0.3, 'learning_rate': 0.11, 'max_depth': 4, 'objective': 'binary:logistic', 'scale_pos_weight': 0.26, 'subsample': 0.7, 'tree_method': 'gpu_hist'})\n"
   ]
  },
  {
   "cell_type": "code",
   "execution_count": 53,
   "id": "976ce224",
   "metadata": {
    "execution": {
     "iopub.execute_input": "2021-12-01T09:06:33.937608Z",
     "iopub.status.busy": "2021-12-01T09:06:33.934252Z",
     "iopub.status.idle": "2021-12-01T09:06:33.939552Z",
     "shell.execute_reply": "2021-12-01T09:06:33.940555Z",
     "shell.execute_reply.started": "2021-12-01T07:52:21.235521Z"
    },
    "papermill": {
     "duration": 0.08967,
     "end_time": "2021-12-01T09:06:33.940712",
     "exception": false,
     "start_time": "2021-12-01T09:06:33.851042",
     "status": "completed"
    },
    "tags": []
   },
   "outputs": [],
   "source": [
    "#Passing our final model with the test data\n",
    "y_pred2 = grid_fit.predict(X_test)"
   ]
  },
  {
   "cell_type": "code",
   "execution_count": 54,
   "id": "cb8c96c4",
   "metadata": {
    "execution": {
     "iopub.execute_input": "2021-12-01T09:06:34.114702Z",
     "iopub.status.busy": "2021-12-01T09:06:34.113807Z",
     "iopub.status.idle": "2021-12-01T09:06:34.432615Z",
     "shell.execute_reply": "2021-12-01T09:06:34.432161Z",
     "shell.execute_reply.started": "2021-12-01T08:29:24.520886Z"
    },
    "papermill": {
     "duration": 0.413292,
     "end_time": "2021-12-01T09:06:34.432739",
     "exception": false,
     "start_time": "2021-12-01T09:06:34.019447",
     "status": "completed"
    },
    "tags": []
   },
   "outputs": [
    {
     "name": "stdout",
     "output_type": "stream",
     "text": [
      "Classification Report: \n",
      "               precision    recall  f1-score   support\n",
      "\n",
      "           0       0.83      0.99      0.90      1178\n",
      "           1       0.89      0.25      0.39       322\n",
      "\n",
      "    accuracy                           0.83      1500\n",
      "   macro avg       0.86      0.62      0.65      1500\n",
      "weighted avg       0.84      0.83      0.79      1500\n",
      "\n"
     ]
    },
    {
     "data": {
      "image/png": "[encoded data removed]",
      "text/plain": [
       "<Figure size 864x360 with 2 Axes>"
      ]
     },
     "metadata": {
      "needs_background": "light"
     },
     "output_type": "display_data"
    }
   ],
   "source": [
    "fig, (ax1, ax2) = plt.subplots(ncols=2)\n",
    "ax1.plot([0, 1], [0, 1], linestyle=\"--\", lw=2, color=\"r\", label=\"Chance\", alpha=0.8)\n",
    "fig.set_figheight(5)\n",
    "fig.set_figwidth(12)\n",
    "ax1.set_title('ROC Curve')\n",
    "ax2.set_title('Precision Recall Curve')\n",
    "plot_roc_curve(grid_fit, X_test, y_test, ax=ax1)\n",
    "plot_precision_recall_curve(grid_fit, X_test, y_test, ax=ax2)\n",
    "print('Classification Report: \\n', classification_report(y_test, y_pred2))"
   ]
  },
  {
   "cell_type": "code",
   "execution_count": 55,
   "id": "78f75471",
   "metadata": {
    "execution": {
     "iopub.execute_input": "2021-12-01T09:06:34.641801Z",
     "iopub.status.busy": "2021-12-01T09:06:34.640793Z",
     "iopub.status.idle": "2021-12-01T09:06:35.157800Z",
     "shell.execute_reply": "2021-12-01T09:06:35.157063Z",
     "shell.execute_reply.started": "2021-12-01T08:28:13.740544Z"
    },
    "papermill": {
     "duration": 0.646183,
     "end_time": "2021-12-01T09:06:35.157934",
     "exception": false,
     "start_time": "2021-12-01T09:06:34.511751",
     "status": "completed"
    },
    "tags": []
   },
   "outputs": [
    {
     "data": {
      "text/plain": [
       "<sklearn.metrics._plot.roc_curve.RocCurveDisplay at 0x7f17a0457210>"
      ]
     },
     "execution_count": 55,
     "metadata": {},
     "output_type": "execute_result"
    },
    {
     "data": {
      "image/png": "[encoded data removed]",
      "text/plain": [
       "<Figure size 1296x540 with 2 Axes>"
      ]
     },
     "metadata": {
      "needs_background": "light"
     },
     "output_type": "display_data"
    }
   ],
   "source": [
    "fig, (ax1, ax2) = plt.subplots(ncols=2)\n",
    "fig.set_figheight(7.5)\n",
    "fig.set_figwidth(18)\n",
    "fig.suptitle('ROC Curve for Different models')\n",
    "\n",
    "#ROC curves for Training set\n",
    "ax1.plot([0, 1], [0, 1], linestyle=\"--\", lw=2, color=\"r\", label=\"Chance\", alpha=0.6)\n",
    "ax1.set_title(\"Train Data Results\")\n",
    "plot_roc_curve(LR_model, X_train, y_train, ax=ax1)\n",
    "plot_roc_curve(XGB_model, X_train, y_train, ax=ax1)\n",
    "plot_roc_curve(grid_fit, X_train, y_train, ax=ax1)\n",
    "\n",
    "#ROC curves for Testing set\n",
    "ax2.plot([0, 1], [0, 1], linestyle=\"--\", lw=2, color=\"r\", label=\"Chance\", alpha=0.6)\n",
    "ax2.set_title(\"Test Data Results\")\n",
    "plot_roc_curve(LR_model, X_test, y_test, ax=ax2)\n",
    "plot_roc_curve(XGB_model, X_test, y_test, ax=ax2)\n",
    "plot_roc_curve(grid_fit, X_test, y_test, ax=ax2)"
   ]
  },
  {
   "cell_type": "markdown",
   "id": "e6dff557",
   "metadata": {
    "papermill": {
     "duration": 0.080228,
     "end_time": "2021-12-01T09:06:35.319591",
     "exception": false,
     "start_time": "2021-12-01T09:06:35.239363",
     "status": "completed"
    },
    "tags": []
   },
   "source": [
    "#### The above two plots give the ROC AUC curve for the training set and for the testing set. It can be observed that the curve for training set is more smooth as compared to the curves for the testing sets.\n",
    "#### For the XG-Boost model trained **without** cross validation and hyperparameter tuning, the training AUC score is **0.95** but while testing it falls to **0.81**, suggesting that the model must have overfit to the data. \n",
    "#### For the XG-Boost model which used cross validation during training and was hyper tuned, the training score was **0.88** and the testing score was **0.84**, suggesting that the model did not overfit to the training data and hence the testing score was the highest among all three models.\n",
    "#### Overall, the Hypertuned XG-Boost model performs the best among other models on testing set."
   ]
  },
  {
   "cell_type": "code",
   "execution_count": 56,
   "id": "d18b8b81",
   "metadata": {
    "execution": {
     "iopub.execute_input": "2021-12-01T09:06:35.504259Z",
     "iopub.status.busy": "2021-12-01T09:06:35.503517Z",
     "iopub.status.idle": "2021-12-01T09:06:36.025764Z",
     "shell.execute_reply": "2021-12-01T09:06:36.025135Z",
     "shell.execute_reply.started": "2021-12-01T08:26:57.105791Z"
    },
    "papermill": {
     "duration": 0.624743,
     "end_time": "2021-12-01T09:06:36.025900",
     "exception": false,
     "start_time": "2021-12-01T09:06:35.401157",
     "status": "completed"
    },
    "tags": []
   },
   "outputs": [
    {
     "data": {
      "text/plain": [
       "<sklearn.metrics._plot.precision_recall_curve.PrecisionRecallDisplay at 0x7f17a032e850>"
      ]
     },
     "execution_count": 56,
     "metadata": {},
     "output_type": "execute_result"
    },
    {
     "data": {
      "image/png": "[encoded data removed]",
      "text/plain": [
       "<Figure size 1296x540 with 2 Axes>"
      ]
     },
     "metadata": {
      "needs_background": "light"
     },
     "output_type": "display_data"
    }
   ],
   "source": [
    "fig, (ax1, ax2) = plt.subplots(ncols=2)\n",
    "fig.set_figheight(7.5)\n",
    "fig.set_figwidth(18)\n",
    "fig.suptitle('Precision Recall Curve for Different models')\n",
    "\n",
    "#ROC curves for Training set\n",
    "ax1.set_title(\"Train Data Results\")\n",
    "plot_precision_recall_curve(LR_model, X_train, y_train, ax=ax1)\n",
    "plot_precision_recall_curve(XGB_model, X_train, y_train, ax=ax1)\n",
    "plot_precision_recall_curve(grid_fit, X_train, y_train, ax=ax1)\n",
    "\n",
    "#ROC curves for Testing set\n",
    "ax2.set_title(\"Test Data Results\")\n",
    "plot_precision_recall_curve(LR_model, X_test, y_test, ax=ax2)\n",
    "plot_precision_recall_curve(XGB_model, X_test, y_test, ax=ax2)\n",
    "plot_precision_recall_curve(grid_fit, X_test, y_test, ax=ax2)"
   ]
  },
  {
   "cell_type": "markdown",
   "id": "91cbacfd",
   "metadata": {
    "papermill": {
     "duration": 0.086748,
     "end_time": "2021-12-01T09:06:36.197278",
     "exception": false,
     "start_time": "2021-12-01T09:06:36.110530",
     "status": "completed"
    },
    "tags": []
   },
   "source": [
    "#### An excerpt from [this](http://acutecaretesting.org/en/articles/precision-recall-curves-what-are-they-and-how-are-they-used) article referenced:  \n",
    ">#### The example presented above clearly shows that an imbalanced data set with a large fraction of persons without disease in the test population will make a ROC curve look better than it would in a balanced data set with fewer persons without disease.   \n",
    "\n",
    "#### This suggests that the ROC curves automatically shows better performance when the dataset is imbalanced as compared to when the dataset in not imbalanced. Hence, relying just on ROCs would not be good for understanding the model performance.  \n",
    "#### The above two figures show Precision Recall Curves for training and testing datasets on different models. The curve above the other curve has a better performance level.  \n",
    "#### First figure shows the XGBClassifier model as performing the best but it is clearly overfitting to the data as seen in the second figure where the GridSearchCV i.e. the hypertuned and cross-validated model comes on top."
   ]
  },
  {
   "cell_type": "code",
   "execution_count": 57,
   "id": "3643b9a1",
   "metadata": {
    "execution": {
     "iopub.execute_input": "2021-12-01T09:06:36.392337Z",
     "iopub.status.busy": "2021-12-01T09:06:36.391430Z",
     "iopub.status.idle": "2021-12-01T09:06:37.045851Z",
     "shell.execute_reply": "2021-12-01T09:06:37.045391Z",
     "shell.execute_reply.started": "2021-12-01T08:47:31.459577Z"
    },
    "papermill": {
     "duration": 0.764606,
     "end_time": "2021-12-01T09:06:37.045981",
     "exception": false,
     "start_time": "2021-12-01T09:06:36.281375",
     "status": "completed"
    },
    "tags": []
   },
   "outputs": [
    {
     "name": "stdout",
     "output_type": "stream",
     "text": [
      "Total no. of testing samples:  1500\n"
     ]
    },
    {
     "data": {
      "image/png": "[encoded data removed]",
      "text/plain": [
       "<Figure size 1440x360 with 6 Axes>"
      ]
     },
     "metadata": {
      "needs_background": "light"
     },
     "output_type": "display_data"
    }
   ],
   "source": [
    "\n",
    "fig, (ax1, ax2, ax3) = plt.subplots(ncols=3)\n",
    "fig.set_figheight(5)\n",
    "fig.set_figwidth(20)\n",
    "fig.suptitle('Confusion Matrices for Different models')\n",
    "\n",
    "ax1.set_title('Logistic Regression')\n",
    "LR_conf = confusion_matrix(y_test, y_pred)\n",
    "sns.heatmap(LR_conf, annot=True, fmt='d', ax=ax1, linewidths=3, linecolor='white')\n",
    "\n",
    "ax2.set_title('XG-Boost Model')\n",
    "XG_conf_1 = confusion_matrix(y_test, y_pred1)\n",
    "sns.heatmap(XG_conf_1, annot=True, fmt='d', ax=ax2, linewidths=3, linecolor='white')\n",
    "\n",
    "ax3.set_title('Hypertuned XG-Boost Model')\n",
    "XG_conf_2 = confusion_matrix(y_test, y_pred2)\n",
    "sns.heatmap(XG_conf_2, annot=True, fmt='d', ax=ax3, linewidths=3, linecolor='white')\n",
    "\n",
    "print('Total no. of testing samples: ', len(y_test))"
   ]
  },
  {
   "cell_type": "markdown",
   "id": "3708e43e",
   "metadata": {
    "papermill": {
     "duration": 0.084397,
     "end_time": "2021-12-01T09:06:37.215366",
     "exception": false,
     "start_time": "2021-12-01T09:06:37.130969",
     "status": "completed"
    },
    "tags": []
   },
   "source": [
    "### Thus, we can say after looking at the ROC and PRC charts that the performance improved substantially when XG-Boost was paired with fine tuning and cross validation. \n",
    "### Though the overall performance was not that great we can still improve it by using more advanced methods such as synthetic data creation to remove the imbalance in the dataset and see if the performance improves further."
   ]
  },
  {
   "cell_type": "markdown",
   "id": "6cf18da0",
   "metadata": {
    "papermill": {
     "duration": 0.085194,
     "end_time": "2021-12-01T09:06:37.384909",
     "exception": false,
     "start_time": "2021-12-01T09:06:37.299715",
     "status": "completed"
    },
    "tags": []
   },
   "source": [
    "# Referenced:\n",
    "[1] https://machinelearningmastery.com/xgboost-for-imbalanced-classification/  \n",
    "[2] https://xgboost.readthedocs.io/en/latest/parameter.html?highlight=learning%20rate#learning-task-parameters  \n",
    "[3] https://acutecaretesting.org/en/articles/precision-recall-curves-what-are-they-and-how-are-they-used"
   ]
  }
 ],
 "metadata": {
  "kernelspec": {
   "display_name": "Python 3",
   "language": "python",
   "name": "python3"
  },
  "language_info": {
   "codemirror_mode": {
    "name": "ipython",
    "version": 3
   },
   "file_extension": ".py",
   "mimetype": "text/x-python",
   "name": "python",
   "nbconvert_exporter": "python",
   "pygments_lexer": "ipython3",
   "version": "3.7.10"
  },
  "papermill": {
   "default_parameters": {},
   "duration": 61.810906,
   "end_time": "2021-12-01T09:06:39.512660",
   "environment_variables": {},
   "exception": null,
   "input_path": "__notebook__.ipynb",
   "output_path": "__notebook__.ipynb",
   "parameters": {},
   "start_time": "2021-12-01T09:05:37.701754",
   "version": "2.3.3"
  }
 },
 "nbformat": 4,
 "nbformat_minor": 5
}
