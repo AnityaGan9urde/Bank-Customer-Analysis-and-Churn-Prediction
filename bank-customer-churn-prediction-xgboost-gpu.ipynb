{
 "cells": [
  {
   "cell_type": "markdown",
   "id": "9dfb0ea5",
   "metadata": {
    "papermill": {
     "duration": 0.057635,
     "end_time": "2021-10-27T15:47:31.190095",
     "exception": false,
     "start_time": "2021-10-27T15:47:31.132460",
     "status": "completed"
    },
    "tags": []
   },
   "source": [
    "# **BANK CUSTOMER CHURN PREDICTION**\n",
    "![Photo by <a href=\"https://unsplash.com/@clemono?utm_source=unsplash&utm_medium=referral&utm_content=creditCopyText\">Clem Onojeghuo</a> on <a href=\"https://unsplash.com/s/photos/churn?utm_source=unsplash&utm_medium=referral&utm_content=creditCopyText\">Unsplash</a>\n",
    "  ](https://images.unsplash.com/photo-1465125159090-b104362936e1?ixlib=rb-1.2.1&ixid=MnwxMjA3fDB8MHxwaG90by1wYWdlfHx8fGVufDB8fHx8&auto=format&fit=crop&w=1190&q=80)\n",
    "> Image credits: Clem Onojeghuo from Unsplash\n",
    "\n",
    "Churn prediction models have become a very important asset in determining the customer behaviour for a company. The churn rate drives decision making and makes the company analyse itself and the way they provide its services to the customer. Churn prediction consists of detecting which customers are likely to cancel a subscription to a service based on how they use the service. As it is more costlier to get new customers than to keep the old ones, Churn models have become very necessary.\n",
    "<br/>\n",
    "For a bank, predicting the churn rate is to determine which customers are closing their bank accounts and what factors are leading to their decisions. A Churn Prediction Model might be useful in this case to predict way before a person might close their account. The factors leading to customer churn are also very important to analyse closely and make important decisions in changing or modifying the current workings of the company or a service provider."
   ]
  },
  {
   "cell_type": "markdown",
   "id": "25dab242",
   "metadata": {
    "papermill": {
     "duration": 0.051166,
     "end_time": "2021-10-27T15:47:31.292687",
     "exception": false,
     "start_time": "2021-10-27T15:47:31.241521",
     "status": "completed"
    },
    "tags": []
   },
   "source": [
    ">To create a churn model I have selected the `churn-modelling` dataset. The dataset consists of various information on the customers and a target column called `'Exited'` that tells whether they have closed their bank accounts. Let's start!"
   ]
  },
  {
   "cell_type": "markdown",
   "id": "573f62d2",
   "metadata": {
    "papermill": {
     "duration": 0.053895,
     "end_time": "2021-10-27T15:47:31.398597",
     "exception": false,
     "start_time": "2021-10-27T15:47:31.344702",
     "status": "completed"
    },
    "tags": []
   },
   "source": [
    "# Contents:\n",
    "1. <a href='#imports'>Imports</a>\n",
    "2. <a href='#dataanalysis'>Data Analysis</a>\n",
    "   1. <a href='#datareading'>Data Reading</a>\n",
    "   2. <a href='#datacleaning'>Data Cleaning</a>\n",
    "   3. <a href='#datawrangling'>Data Wrangling with EDA</a>\n",
    "3. <a href='#modeltraining'>Model Training</a>\n",
    "   1. <a href='#lrmodel'>Training a Logistic Regression model as a base model</a>\n",
    "   2. <a href='#xgboost'>Training on XG-Boost</a>\n",
    "   3. <a href='#hyperparam'>Hyperparameter tuning for XG-Boost</a>\n",
    "4. <a href='#results'>Results</a>"
   ]
  },
  {
   "cell_type": "markdown",
   "id": "a24adf37",
   "metadata": {
    "papermill": {
     "duration": 0.051478,
     "end_time": "2021-10-27T15:47:31.502320",
     "exception": false,
     "start_time": "2021-10-27T15:47:31.450842",
     "status": "completed"
    },
    "tags": []
   },
   "source": [
    "# 1. <a id='imports'>Imports</a>\n",
    "### Let us start by importing our usual libraries."
   ]
  },
  {
   "cell_type": "code",
   "execution_count": 1,
   "id": "5b3c3351",
   "metadata": {
    "_cell_guid": "b1076dfc-b9ad-4769-8c92-a6c4dae69d19",
    "_kg_hide-input": true,
    "_kg_hide-output": true,
    "_uuid": "8f2839f25d086af736a60e9eeb907d3b93b6e0e5",
    "execution": {
     "iopub.execute_input": "2021-10-27T15:47:31.617644Z",
     "iopub.status.busy": "2021-10-27T15:47:31.617144Z",
     "iopub.status.idle": "2021-10-27T15:47:31.630785Z",
     "shell.execute_reply": "2021-10-27T15:47:31.630117Z",
     "shell.execute_reply.started": "2021-10-27T14:52:33.805556Z"
    },
    "papermill": {
     "duration": 0.076868,
     "end_time": "2021-10-27T15:47:31.630954",
     "exception": false,
     "start_time": "2021-10-27T15:47:31.554086",
     "status": "completed"
    },
    "tags": []
   },
   "outputs": [
    {
     "name": "stdout",
     "output_type": "stream",
     "text": [
      "/kaggle/input/churn-modelling/Churn_Modelling.csv\n"
     ]
    }
   ],
   "source": [
    "import os\n",
    "for dirname, _, filenames in os.walk('/kaggle/input'):\n",
    "    for filename in filenames:\n",
    "        print(os.path.join(dirname, filename))"
   ]
  },
  {
   "cell_type": "code",
   "execution_count": 2,
   "id": "d7d3c300",
   "metadata": {
    "execution": {
     "iopub.execute_input": "2021-10-27T15:47:31.745468Z",
     "iopub.status.busy": "2021-10-27T15:47:31.744597Z",
     "iopub.status.idle": "2021-10-27T15:47:32.845404Z",
     "shell.execute_reply": "2021-10-27T15:47:32.844853Z",
     "shell.execute_reply.started": "2021-10-27T14:52:36.888159Z"
    },
    "papermill": {
     "duration": 1.161719,
     "end_time": "2021-10-27T15:47:32.845540",
     "exception": false,
     "start_time": "2021-10-27T15:47:31.683821",
     "status": "completed"
    },
    "tags": []
   },
   "outputs": [],
   "source": [
    "import numpy as np\n",
    "import pandas as pd\n",
    "import matplotlib.pyplot as plt\n",
    "import seaborn as sns\n",
    "\n",
    "from sklearn.model_selection import train_test_split\n",
    "from sklearn.metrics import roc_auc_score, confusion_matrix, plot_roc_curve\n",
    "from sklearn.model_selection import GridSearchCV, cross_val_score, RepeatedStratifiedKFold\n",
    "\n",
    "from sklearn.linear_model import LogisticRegression\n",
    "from xgboost import XGBClassifier\n",
    "\n",
    "from numpy import mean\n",
    "\n",
    "import warnings\n",
    "warnings.filterwarnings('ignore')\n",
    "\n",
    "seed = 46"
   ]
  },
  {
   "cell_type": "markdown",
   "id": "fb35928c",
   "metadata": {
    "papermill": {
     "duration": 0.061568,
     "end_time": "2021-10-27T15:47:32.960047",
     "exception": false,
     "start_time": "2021-10-27T15:47:32.898479",
     "status": "completed"
    },
    "tags": []
   },
   "source": [
    "# 2. <a id='dataanalysis'>Data Analysis</a>\n",
    "### We will start by analysing the data. First we will read the dataset and see for any missing values using pandas. Then we will go through the dataset and replace all the values which are not in the right format."
   ]
  },
  {
   "cell_type": "markdown",
   "id": "b965221f",
   "metadata": {
    "papermill": {
     "duration": 0.066339,
     "end_time": "2021-10-27T15:47:33.091892",
     "exception": false,
     "start_time": "2021-10-27T15:47:33.025553",
     "status": "completed"
    },
    "tags": []
   },
   "source": [
    "## 2.1. <a id='datareading'>Data Reading</a>"
   ]
  },
  {
   "cell_type": "code",
   "execution_count": 3,
   "id": "d9ab059a",
   "metadata": {
    "execution": {
     "iopub.execute_input": "2021-10-27T15:47:33.225050Z",
     "iopub.status.busy": "2021-10-27T15:47:33.224364Z",
     "iopub.status.idle": "2021-10-27T15:47:33.261168Z",
     "shell.execute_reply": "2021-10-27T15:47:33.261574Z",
     "shell.execute_reply.started": "2021-10-27T14:52:40.436311Z"
    },
    "papermill": {
     "duration": 0.103744,
     "end_time": "2021-10-27T15:47:33.261724",
     "exception": false,
     "start_time": "2021-10-27T15:47:33.157980",
     "status": "completed"
    },
    "tags": []
   },
   "outputs": [],
   "source": [
    "data = pd.read_csv('/kaggle/input/churn-modelling/Churn_Modelling.csv')"
   ]
  },
  {
   "cell_type": "code",
   "execution_count": 4,
   "id": "b57dfb4c",
   "metadata": {
    "execution": {
     "iopub.execute_input": "2021-10-27T15:47:33.373130Z",
     "iopub.status.busy": "2021-10-27T15:47:33.372313Z",
     "iopub.status.idle": "2021-10-27T15:47:33.375691Z",
     "shell.execute_reply": "2021-10-27T15:47:33.376110Z",
     "shell.execute_reply.started": "2021-10-27T14:52:41.617954Z"
    },
    "papermill": {
     "duration": 0.0616,
     "end_time": "2021-10-27T15:47:33.376246",
     "exception": false,
     "start_time": "2021-10-27T15:47:33.314646",
     "status": "completed"
    },
    "tags": []
   },
   "outputs": [
    {
     "data": {
      "text/plain": [
       "10000"
      ]
     },
     "execution_count": 4,
     "metadata": {},
     "output_type": "execute_result"
    }
   ],
   "source": [
    "len(data)"
   ]
  },
  {
   "cell_type": "code",
   "execution_count": 5,
   "id": "bfae86da",
   "metadata": {
    "execution": {
     "iopub.execute_input": "2021-10-27T15:47:33.494110Z",
     "iopub.status.busy": "2021-10-27T15:47:33.493314Z",
     "iopub.status.idle": "2021-10-27T15:47:33.514084Z",
     "shell.execute_reply": "2021-10-27T15:47:33.514590Z",
     "shell.execute_reply.started": "2021-10-27T14:52:43.572258Z"
    },
    "papermill": {
     "duration": 0.084724,
     "end_time": "2021-10-27T15:47:33.514736",
     "exception": false,
     "start_time": "2021-10-27T15:47:33.430012",
     "status": "completed"
    },
    "tags": []
   },
   "outputs": [
    {
     "data": {
      "text/html": [
       "<div>\n",
       "<style scoped>\n",
       "    .dataframe tbody tr th:only-of-type {\n",
       "        vertical-align: middle;\n",
       "    }\n",
       "\n",
       "    .dataframe tbody tr th {\n",
       "        vertical-align: top;\n",
       "    }\n",
       "\n",
       "    .dataframe thead th {\n",
       "        text-align: right;\n",
       "    }\n",
       "</style>\n",
       "<table border=\"1\" class=\"dataframe\">\n",
       "  <thead>\n",
       "    <tr style=\"text-align: right;\">\n",
       "      <th></th>\n",
       "      <th>RowNumber</th>\n",
       "      <th>CustomerId</th>\n",
       "      <th>Surname</th>\n",
       "      <th>CreditScore</th>\n",
       "      <th>Geography</th>\n",
       "      <th>Gender</th>\n",
       "      <th>Age</th>\n",
       "      <th>Tenure</th>\n",
       "      <th>Balance</th>\n",
       "      <th>NumOfProducts</th>\n",
       "      <th>HasCrCard</th>\n",
       "      <th>IsActiveMember</th>\n",
       "      <th>EstimatedSalary</th>\n",
       "      <th>Exited</th>\n",
       "    </tr>\n",
       "  </thead>\n",
       "  <tbody>\n",
       "    <tr>\n",
       "      <th>0</th>\n",
       "      <td>1</td>\n",
       "      <td>15634602</td>\n",
       "      <td>Hargrave</td>\n",
       "      <td>619</td>\n",
       "      <td>France</td>\n",
       "      <td>Female</td>\n",
       "      <td>42</td>\n",
       "      <td>2</td>\n",
       "      <td>0.00</td>\n",
       "      <td>1</td>\n",
       "      <td>1</td>\n",
       "      <td>1</td>\n",
       "      <td>101348.88</td>\n",
       "      <td>1</td>\n",
       "    </tr>\n",
       "    <tr>\n",
       "      <th>1</th>\n",
       "      <td>2</td>\n",
       "      <td>15647311</td>\n",
       "      <td>Hill</td>\n",
       "      <td>608</td>\n",
       "      <td>Spain</td>\n",
       "      <td>Female</td>\n",
       "      <td>41</td>\n",
       "      <td>1</td>\n",
       "      <td>83807.86</td>\n",
       "      <td>1</td>\n",
       "      <td>0</td>\n",
       "      <td>1</td>\n",
       "      <td>112542.58</td>\n",
       "      <td>0</td>\n",
       "    </tr>\n",
       "    <tr>\n",
       "      <th>2</th>\n",
       "      <td>3</td>\n",
       "      <td>15619304</td>\n",
       "      <td>Onio</td>\n",
       "      <td>502</td>\n",
       "      <td>France</td>\n",
       "      <td>Female</td>\n",
       "      <td>42</td>\n",
       "      <td>8</td>\n",
       "      <td>159660.80</td>\n",
       "      <td>3</td>\n",
       "      <td>1</td>\n",
       "      <td>0</td>\n",
       "      <td>113931.57</td>\n",
       "      <td>1</td>\n",
       "    </tr>\n",
       "    <tr>\n",
       "      <th>3</th>\n",
       "      <td>4</td>\n",
       "      <td>15701354</td>\n",
       "      <td>Boni</td>\n",
       "      <td>699</td>\n",
       "      <td>France</td>\n",
       "      <td>Female</td>\n",
       "      <td>39</td>\n",
       "      <td>1</td>\n",
       "      <td>0.00</td>\n",
       "      <td>2</td>\n",
       "      <td>0</td>\n",
       "      <td>0</td>\n",
       "      <td>93826.63</td>\n",
       "      <td>0</td>\n",
       "    </tr>\n",
       "    <tr>\n",
       "      <th>4</th>\n",
       "      <td>5</td>\n",
       "      <td>15737888</td>\n",
       "      <td>Mitchell</td>\n",
       "      <td>850</td>\n",
       "      <td>Spain</td>\n",
       "      <td>Female</td>\n",
       "      <td>43</td>\n",
       "      <td>2</td>\n",
       "      <td>125510.82</td>\n",
       "      <td>1</td>\n",
       "      <td>1</td>\n",
       "      <td>1</td>\n",
       "      <td>79084.10</td>\n",
       "      <td>0</td>\n",
       "    </tr>\n",
       "  </tbody>\n",
       "</table>\n",
       "</div>"
      ],
      "text/plain": [
       "   RowNumber  CustomerId   Surname  CreditScore Geography  Gender  Age  \\\n",
       "0          1    15634602  Hargrave          619    France  Female   42   \n",
       "1          2    15647311      Hill          608     Spain  Female   41   \n",
       "2          3    15619304      Onio          502    France  Female   42   \n",
       "3          4    15701354      Boni          699    France  Female   39   \n",
       "4          5    15737888  Mitchell          850     Spain  Female   43   \n",
       "\n",
       "   Tenure    Balance  NumOfProducts  HasCrCard  IsActiveMember  \\\n",
       "0       2       0.00              1          1               1   \n",
       "1       1   83807.86              1          0               1   \n",
       "2       8  159660.80              3          1               0   \n",
       "3       1       0.00              2          0               0   \n",
       "4       2  125510.82              1          1               1   \n",
       "\n",
       "   EstimatedSalary  Exited  \n",
       "0        101348.88       1  \n",
       "1        112542.58       0  \n",
       "2        113931.57       1  \n",
       "3         93826.63       0  \n",
       "4         79084.10       0  "
      ]
     },
     "execution_count": 5,
     "metadata": {},
     "output_type": "execute_result"
    }
   ],
   "source": [
    "data.head()"
   ]
  },
  {
   "cell_type": "code",
   "execution_count": 6,
   "id": "a9e76b21",
   "metadata": {
    "execution": {
     "iopub.execute_input": "2021-10-27T15:47:33.653596Z",
     "iopub.status.busy": "2021-10-27T15:47:33.652487Z",
     "iopub.status.idle": "2021-10-27T15:47:33.656494Z",
     "shell.execute_reply": "2021-10-27T15:47:33.656970Z",
     "shell.execute_reply.started": "2021-10-27T14:52:44.799355Z"
    },
    "papermill": {
     "duration": 0.081845,
     "end_time": "2021-10-27T15:47:33.657164",
     "exception": false,
     "start_time": "2021-10-27T15:47:33.575319",
     "status": "completed"
    },
    "tags": []
   },
   "outputs": [
    {
     "data": {
      "text/html": [
       "<div>\n",
       "<style scoped>\n",
       "    .dataframe tbody tr th:only-of-type {\n",
       "        vertical-align: middle;\n",
       "    }\n",
       "\n",
       "    .dataframe tbody tr th {\n",
       "        vertical-align: top;\n",
       "    }\n",
       "\n",
       "    .dataframe thead th {\n",
       "        text-align: right;\n",
       "    }\n",
       "</style>\n",
       "<table border=\"1\" class=\"dataframe\">\n",
       "  <thead>\n",
       "    <tr style=\"text-align: right;\">\n",
       "      <th></th>\n",
       "      <th>RowNumber</th>\n",
       "      <th>CustomerId</th>\n",
       "      <th>Surname</th>\n",
       "      <th>CreditScore</th>\n",
       "      <th>Geography</th>\n",
       "      <th>Gender</th>\n",
       "      <th>Age</th>\n",
       "      <th>Tenure</th>\n",
       "      <th>Balance</th>\n",
       "      <th>NumOfProducts</th>\n",
       "      <th>HasCrCard</th>\n",
       "      <th>IsActiveMember</th>\n",
       "      <th>EstimatedSalary</th>\n",
       "      <th>Exited</th>\n",
       "    </tr>\n",
       "  </thead>\n",
       "  <tbody>\n",
       "    <tr>\n",
       "      <th>9995</th>\n",
       "      <td>9996</td>\n",
       "      <td>15606229</td>\n",
       "      <td>Obijiaku</td>\n",
       "      <td>771</td>\n",
       "      <td>France</td>\n",
       "      <td>Male</td>\n",
       "      <td>39</td>\n",
       "      <td>5</td>\n",
       "      <td>0.00</td>\n",
       "      <td>2</td>\n",
       "      <td>1</td>\n",
       "      <td>0</td>\n",
       "      <td>96270.64</td>\n",
       "      <td>0</td>\n",
       "    </tr>\n",
       "    <tr>\n",
       "      <th>9996</th>\n",
       "      <td>9997</td>\n",
       "      <td>15569892</td>\n",
       "      <td>Johnstone</td>\n",
       "      <td>516</td>\n",
       "      <td>France</td>\n",
       "      <td>Male</td>\n",
       "      <td>35</td>\n",
       "      <td>10</td>\n",
       "      <td>57369.61</td>\n",
       "      <td>1</td>\n",
       "      <td>1</td>\n",
       "      <td>1</td>\n",
       "      <td>101699.77</td>\n",
       "      <td>0</td>\n",
       "    </tr>\n",
       "    <tr>\n",
       "      <th>9997</th>\n",
       "      <td>9998</td>\n",
       "      <td>15584532</td>\n",
       "      <td>Liu</td>\n",
       "      <td>709</td>\n",
       "      <td>France</td>\n",
       "      <td>Female</td>\n",
       "      <td>36</td>\n",
       "      <td>7</td>\n",
       "      <td>0.00</td>\n",
       "      <td>1</td>\n",
       "      <td>0</td>\n",
       "      <td>1</td>\n",
       "      <td>42085.58</td>\n",
       "      <td>1</td>\n",
       "    </tr>\n",
       "    <tr>\n",
       "      <th>9998</th>\n",
       "      <td>9999</td>\n",
       "      <td>15682355</td>\n",
       "      <td>Sabbatini</td>\n",
       "      <td>772</td>\n",
       "      <td>Germany</td>\n",
       "      <td>Male</td>\n",
       "      <td>42</td>\n",
       "      <td>3</td>\n",
       "      <td>75075.31</td>\n",
       "      <td>2</td>\n",
       "      <td>1</td>\n",
       "      <td>0</td>\n",
       "      <td>92888.52</td>\n",
       "      <td>1</td>\n",
       "    </tr>\n",
       "    <tr>\n",
       "      <th>9999</th>\n",
       "      <td>10000</td>\n",
       "      <td>15628319</td>\n",
       "      <td>Walker</td>\n",
       "      <td>792</td>\n",
       "      <td>France</td>\n",
       "      <td>Female</td>\n",
       "      <td>28</td>\n",
       "      <td>4</td>\n",
       "      <td>130142.79</td>\n",
       "      <td>1</td>\n",
       "      <td>1</td>\n",
       "      <td>0</td>\n",
       "      <td>38190.78</td>\n",
       "      <td>0</td>\n",
       "    </tr>\n",
       "  </tbody>\n",
       "</table>\n",
       "</div>"
      ],
      "text/plain": [
       "      RowNumber  CustomerId    Surname  CreditScore Geography  Gender  Age  \\\n",
       "9995       9996    15606229   Obijiaku          771    France    Male   39   \n",
       "9996       9997    15569892  Johnstone          516    France    Male   35   \n",
       "9997       9998    15584532        Liu          709    France  Female   36   \n",
       "9998       9999    15682355  Sabbatini          772   Germany    Male   42   \n",
       "9999      10000    15628319     Walker          792    France  Female   28   \n",
       "\n",
       "      Tenure    Balance  NumOfProducts  HasCrCard  IsActiveMember  \\\n",
       "9995       5       0.00              2          1               0   \n",
       "9996      10   57369.61              1          1               1   \n",
       "9997       7       0.00              1          0               1   \n",
       "9998       3   75075.31              2          1               0   \n",
       "9999       4  130142.79              1          1               0   \n",
       "\n",
       "      EstimatedSalary  Exited  \n",
       "9995         96270.64       0  \n",
       "9996        101699.77       0  \n",
       "9997         42085.58       1  \n",
       "9998         92888.52       1  \n",
       "9999         38190.78       0  "
      ]
     },
     "execution_count": 6,
     "metadata": {},
     "output_type": "execute_result"
    }
   ],
   "source": [
    "data.tail()"
   ]
  },
  {
   "cell_type": "markdown",
   "id": "86b369b1",
   "metadata": {
    "papermill": {
     "duration": 0.081816,
     "end_time": "2021-10-27T15:47:33.798749",
     "exception": false,
     "start_time": "2021-10-27T15:47:33.716933",
     "status": "completed"
    },
    "tags": []
   },
   "source": [
    ">#### Creating a copy so that we can revert back to the original dataset whenever necessary."
   ]
  },
  {
   "cell_type": "code",
   "execution_count": 7,
   "id": "2725d329",
   "metadata": {
    "execution": {
     "iopub.execute_input": "2021-10-27T15:47:34.018082Z",
     "iopub.status.busy": "2021-10-27T15:47:34.017340Z",
     "iopub.status.idle": "2021-10-27T15:47:34.020275Z",
     "shell.execute_reply": "2021-10-27T15:47:34.027727Z",
     "shell.execute_reply.started": "2021-10-27T14:52:47.973946Z"
    },
    "papermill": {
     "duration": 0.125786,
     "end_time": "2021-10-27T15:47:34.027917",
     "exception": false,
     "start_time": "2021-10-27T15:47:33.902131",
     "status": "completed"
    },
    "tags": []
   },
   "outputs": [],
   "source": [
    "df = data.copy()"
   ]
  },
  {
   "cell_type": "markdown",
   "id": "064cfd89",
   "metadata": {
    "papermill": {
     "duration": 0.092981,
     "end_time": "2021-10-27T15:47:34.210711",
     "exception": false,
     "start_time": "2021-10-27T15:47:34.117730",
     "status": "completed"
    },
    "tags": []
   },
   "source": [
    "## 2.2. <a id='datacleaning'>Data Cleaning</a>\n",
    "### Let's first see if the target classes have equal number of entries or not."
   ]
  },
  {
   "cell_type": "code",
   "execution_count": 8,
   "id": "6d6b1c6a",
   "metadata": {
    "execution": {
     "iopub.execute_input": "2021-10-27T15:47:34.419102Z",
     "iopub.status.busy": "2021-10-27T15:47:34.416586Z",
     "iopub.status.idle": "2021-10-27T15:47:34.423362Z",
     "shell.execute_reply": "2021-10-27T15:47:34.422851Z",
     "shell.execute_reply.started": "2021-10-27T14:52:54.758287Z"
    },
    "papermill": {
     "duration": 0.124209,
     "end_time": "2021-10-27T15:47:34.423499",
     "exception": false,
     "start_time": "2021-10-27T15:47:34.299290",
     "status": "completed"
    },
    "tags": []
   },
   "outputs": [
    {
     "data": {
      "text/plain": [
       "0    7963\n",
       "1    2037\n",
       "Name: Exited, dtype: int64"
      ]
     },
     "execution_count": 8,
     "metadata": {},
     "output_type": "execute_result"
    }
   ],
   "source": [
    "df['Exited'].value_counts()"
   ]
  },
  {
   "cell_type": "markdown",
   "id": "dc4288eb",
   "metadata": {
    "papermill": {
     "duration": 0.062154,
     "end_time": "2021-10-27T15:47:34.550428",
     "exception": false,
     "start_time": "2021-10-27T15:47:34.488274",
     "status": "completed"
    },
    "tags": []
   },
   "source": [
    "<a id=\"imb\"></a>"
   ]
  },
  {
   "cell_type": "code",
   "execution_count": 9,
   "id": "838ab31d",
   "metadata": {
    "execution": {
     "iopub.execute_input": "2021-10-27T15:47:34.678403Z",
     "iopub.status.busy": "2021-10-27T15:47:34.677626Z",
     "iopub.status.idle": "2021-10-27T15:47:34.700865Z",
     "shell.execute_reply": "2021-10-27T15:47:34.700263Z",
     "shell.execute_reply.started": "2021-10-27T14:54:36.489955Z"
    },
    "papermill": {
     "duration": 0.088891,
     "end_time": "2021-10-27T15:47:34.701014",
     "exception": false,
     "start_time": "2021-10-27T15:47:34.612123",
     "status": "completed"
    },
    "tags": []
   },
   "outputs": [
    {
     "name": "stdout",
     "output_type": "stream",
     "text": [
      "Class imbalance percentage: 25.580811252040686%\n"
     ]
    }
   ],
   "source": [
    "print('Class imbalance percentage: {}%'.format(len(df[df['Exited']==1])/(len(df[df['Exited']==0]))*100))"
   ]
  },
  {
   "cell_type": "markdown",
   "id": "50fd513f",
   "metadata": {
    "papermill": {
     "duration": 0.070179,
     "end_time": "2021-10-27T15:47:34.838810",
     "exception": false,
     "start_time": "2021-10-27T15:47:34.768631",
     "status": "completed"
    },
    "tags": []
   },
   "source": [
    "> #### The class 0 has around 6000 more values than the class 1 making this dataset skewed and the classes imbalanced."
   ]
  },
  {
   "cell_type": "code",
   "execution_count": 10,
   "id": "9f165554",
   "metadata": {
    "execution": {
     "iopub.execute_input": "2021-10-27T15:47:34.973525Z",
     "iopub.status.busy": "2021-10-27T15:47:34.972806Z",
     "iopub.status.idle": "2021-10-27T15:47:34.976966Z",
     "shell.execute_reply": "2021-10-27T15:47:34.977544Z",
     "shell.execute_reply.started": "2021-10-27T14:54:45.014060Z"
    },
    "papermill": {
     "duration": 0.074124,
     "end_time": "2021-10-27T15:47:34.977734",
     "exception": false,
     "start_time": "2021-10-27T15:47:34.903610",
     "status": "completed"
    },
    "tags": []
   },
   "outputs": [
    {
     "name": "stdout",
     "output_type": "stream",
     "text": [
      "Index(['RowNumber', 'CustomerId', 'Surname', 'CreditScore', 'Geography',\n",
      "       'Gender', 'Age', 'Tenure', 'Balance', 'NumOfProducts', 'HasCrCard',\n",
      "       'IsActiveMember', 'EstimatedSalary', 'Exited'],\n",
      "      dtype='object')\n"
     ]
    }
   ],
   "source": [
    "print(df.columns)"
   ]
  },
  {
   "cell_type": "code",
   "execution_count": 11,
   "id": "fa33ea28",
   "metadata": {
    "execution": {
     "iopub.execute_input": "2021-10-27T15:47:35.113066Z",
     "iopub.status.busy": "2021-10-27T15:47:35.108745Z",
     "iopub.status.idle": "2021-10-27T15:47:35.120313Z",
     "shell.execute_reply": "2021-10-27T15:47:35.119750Z",
     "shell.execute_reply.started": "2021-10-27T14:54:48.366565Z"
    },
    "papermill": {
     "duration": 0.080132,
     "end_time": "2021-10-27T15:47:35.120428",
     "exception": false,
     "start_time": "2021-10-27T15:47:35.040296",
     "status": "completed"
    },
    "tags": []
   },
   "outputs": [
    {
     "data": {
      "text/plain": [
       "RowNumber          0\n",
       "CustomerId         0\n",
       "Surname            0\n",
       "CreditScore        0\n",
       "Geography          0\n",
       "Gender             0\n",
       "Age                0\n",
       "Tenure             0\n",
       "Balance            0\n",
       "NumOfProducts      0\n",
       "HasCrCard          0\n",
       "IsActiveMember     0\n",
       "EstimatedSalary    0\n",
       "Exited             0\n",
       "dtype: int64"
      ]
     },
     "execution_count": 11,
     "metadata": {},
     "output_type": "execute_result"
    }
   ],
   "source": [
    "df.isnull().sum()"
   ]
  },
  {
   "cell_type": "markdown",
   "id": "831b2b9b",
   "metadata": {
    "papermill": {
     "duration": 0.062324,
     "end_time": "2021-10-27T15:47:35.248206",
     "exception": false,
     "start_time": "2021-10-27T15:47:35.185882",
     "status": "completed"
    },
    "tags": []
   },
   "source": [
    ">#### No missing values found so we move on to the next step."
   ]
  },
  {
   "cell_type": "markdown",
   "id": "7a40f63a",
   "metadata": {
    "papermill": {
     "duration": 0.06313,
     "end_time": "2021-10-27T15:47:35.375174",
     "exception": false,
     "start_time": "2021-10-27T15:47:35.312044",
     "status": "completed"
    },
    "tags": []
   },
   "source": [
    "## 2.3. <a id='datawrangling'>Data Wrangling with EDA</a>\n",
    "### Here, we will conduct some Exploratory Data Analysis to determine which features are necessary and which are just useless. We will also convert categorical features into numerical ones to make it easier for the model to understand our data."
   ]
  },
  {
   "cell_type": "markdown",
   "id": "8f9223f9",
   "metadata": {
    "papermill": {
     "duration": 0.061689,
     "end_time": "2021-10-27T15:47:35.505152",
     "exception": false,
     "start_time": "2021-10-27T15:47:35.443463",
     "status": "completed"
    },
    "tags": []
   },
   "source": [
    "> #### Features: CreditScore, Geography, Gender, Age, Tenure, Balance, NumOfProducts, HasCrCard, IsActiveMember, EstimatedSalary\n",
    "\n",
    "> #### Target: Exited"
   ]
  },
  {
   "cell_type": "markdown",
   "id": "1103596d",
   "metadata": {
    "papermill": {
     "duration": 0.066886,
     "end_time": "2021-10-27T15:47:35.633576",
     "exception": false,
     "start_time": "2021-10-27T15:47:35.566690",
     "status": "completed"
    },
    "tags": []
   },
   "source": [
    "#### Heatmap for our data:"
   ]
  },
  {
   "cell_type": "code",
   "execution_count": 12,
   "id": "f8f0916f",
   "metadata": {
    "execution": {
     "iopub.execute_input": "2021-10-27T15:47:35.768026Z",
     "iopub.status.busy": "2021-10-27T15:47:35.767389Z",
     "iopub.status.idle": "2021-10-27T15:47:36.644115Z",
     "shell.execute_reply": "2021-10-27T15:47:36.643032Z",
     "shell.execute_reply.started": "2021-10-27T14:56:06.704333Z"
    },
    "papermill": {
     "duration": 0.948338,
     "end_time": "2021-10-27T15:47:36.644271",
     "exception": false,
     "start_time": "2021-10-27T15:47:35.695933",
     "status": "completed"
    },
    "tags": []
   },
   "outputs": [
    {
     "data": {
      "text/plain": [
       "<AxesSubplot:>"
      ]
     },
     "execution_count": 12,
     "metadata": {},
     "output_type": "execute_result"
    },
    {
     "data": {
      "image/png": "[encoded data removed]",
      "text/plain": [
       "<Figure size 864x864 with 2 Axes>"
      ]
     },
     "metadata": {
      "needs_background": "light"
     },
     "output_type": "display_data"
    }
   ],
   "source": [
    "plt.figure(figsize=(12,12))\n",
    "churn_corr = df.corr()\n",
    "matrix = np.triu(churn_corr)\n",
    "churn_corr_top = churn_corr.index\n",
    "sns.heatmap(df[churn_corr_top].corr(), annot=True, vmin=1.0, vmax=-1.0, mask=matrix, cmap=\"cool\", alpha=0.55)"
   ]
  },
  {
   "cell_type": "markdown",
   "id": "e0cd1c5a",
   "metadata": {
    "papermill": {
     "duration": 0.062922,
     "end_time": "2021-10-27T15:47:36.772471",
     "exception": false,
     "start_time": "2021-10-27T15:47:36.709549",
     "status": "completed"
    },
    "tags": []
   },
   "source": [
    "#### Class Imbalance shown visually:"
   ]
  },
  {
   "cell_type": "code",
   "execution_count": 13,
   "id": "57e1755a",
   "metadata": {
    "execution": {
     "iopub.execute_input": "2021-10-27T15:47:36.900618Z",
     "iopub.status.busy": "2021-10-27T15:47:36.899859Z",
     "iopub.status.idle": "2021-10-27T15:47:37.033402Z",
     "shell.execute_reply": "2021-10-27T15:47:37.033852Z",
     "shell.execute_reply.started": "2021-10-27T14:56:17.014123Z"
    },
    "papermill": {
     "duration": 0.202689,
     "end_time": "2021-10-27T15:47:37.033998",
     "exception": false,
     "start_time": "2021-10-27T15:47:36.831309",
     "status": "completed"
    },
    "tags": []
   },
   "outputs": [
    {
     "data": {
      "text/plain": [
       "<AxesSubplot:xlabel='count', ylabel='Exited'>"
      ]
     },
     "execution_count": 13,
     "metadata": {},
     "output_type": "execute_result"
    },
    {
     "data": {
      "image/png": "[encoded data removed]",
      "text/plain": [
       "<Figure size 1080x216 with 1 Axes>"
      ]
     },
     "metadata": {
      "needs_background": "light"
     },
     "output_type": "display_data"
    }
   ],
   "source": [
    "plt.figure(figsize=(15, 3))\n",
    "sns.countplot(y=df['Exited'], data=df, palette=\"cool\", alpha=0.55, saturation=1)"
   ]
  },
  {
   "cell_type": "markdown",
   "id": "aa4aa6e7",
   "metadata": {
    "papermill": {
     "duration": 0.058894,
     "end_time": "2021-10-27T15:47:37.151460",
     "exception": false,
     "start_time": "2021-10-27T15:47:37.092566",
     "status": "completed"
    },
    "tags": []
   },
   "source": [
    "### `Credit Scores`:\n",
    "#### Distribution plot for credit scores:"
   ]
  },
  {
   "cell_type": "code",
   "execution_count": 14,
   "id": "015c73c5",
   "metadata": {
    "execution": {
     "iopub.execute_input": "2021-10-27T15:47:37.380608Z",
     "iopub.status.busy": "2021-10-27T15:47:37.379405Z",
     "iopub.status.idle": "2021-10-27T15:47:37.764874Z",
     "shell.execute_reply": "2021-10-27T15:47:37.765333Z",
     "shell.execute_reply.started": "2021-10-27T14:56:22.341464Z"
    },
    "papermill": {
     "duration": 0.55557,
     "end_time": "2021-10-27T15:47:37.765491",
     "exception": false,
     "start_time": "2021-10-27T15:47:37.209921",
     "status": "completed"
    },
    "tags": []
   },
   "outputs": [
    {
     "data": {
      "image/png": "[encoded data removed]",
      "text/plain": [
       "<Figure size 1080x360 with 1 Axes>"
      ]
     },
     "metadata": {
      "needs_background": "light"
     },
     "output_type": "display_data"
    }
   ],
   "source": [
    "plt.figure(figsize=(15,5))\n",
    "sns.distplot(x=data[\"CreditScore\"], color=\"violet\", axlabel=\"Credit Scores\")\n",
    "plt.show()"
   ]
  },
  {
   "cell_type": "markdown",
   "id": "d6bf790d",
   "metadata": {
    "papermill": {
     "duration": 0.061352,
     "end_time": "2021-10-27T15:47:37.884486",
     "exception": false,
     "start_time": "2021-10-27T15:47:37.823134",
     "status": "completed"
    },
    "tags": []
   },
   "source": [
    ">#### Here I have divided the Credit score column in 5 parts by using `pd.cut()`. The table below shows the 5 bands and the exiting value mean for those bands."
   ]
  },
  {
   "cell_type": "code",
   "execution_count": 15,
   "id": "7beb833c",
   "metadata": {
    "execution": {
     "iopub.execute_input": "2021-10-27T15:47:38.010678Z",
     "iopub.status.busy": "2021-10-27T15:47:38.009794Z",
     "iopub.status.idle": "2021-10-27T15:47:38.031038Z",
     "shell.execute_reply": "2021-10-27T15:47:38.031487Z",
     "shell.execute_reply.started": "2021-10-27T14:56:26.376508Z"
    },
    "papermill": {
     "duration": 0.086701,
     "end_time": "2021-10-27T15:47:38.031653",
     "exception": false,
     "start_time": "2021-10-27T15:47:37.944952",
     "status": "completed"
    },
    "tags": []
   },
   "outputs": [
    {
     "data": {
      "text/html": [
       "<div>\n",
       "<style scoped>\n",
       "    .dataframe tbody tr th:only-of-type {\n",
       "        vertical-align: middle;\n",
       "    }\n",
       "\n",
       "    .dataframe tbody tr th {\n",
       "        vertical-align: top;\n",
       "    }\n",
       "\n",
       "    .dataframe thead th {\n",
       "        text-align: right;\n",
       "    }\n",
       "</style>\n",
       "<table border=\"1\" class=\"dataframe\">\n",
       "  <thead>\n",
       "    <tr style=\"text-align: right;\">\n",
       "      <th></th>\n",
       "      <th>CreditScoreBand</th>\n",
       "      <th>Exited</th>\n",
       "    </tr>\n",
       "  </thead>\n",
       "  <tbody>\n",
       "    <tr>\n",
       "      <th>0</th>\n",
       "      <td>(349.5, 450.0]</td>\n",
       "      <td>0.322751</td>\n",
       "    </tr>\n",
       "    <tr>\n",
       "      <th>1</th>\n",
       "      <td>(450.0, 550.0]</td>\n",
       "      <td>0.214385</td>\n",
       "    </tr>\n",
       "    <tr>\n",
       "      <th>2</th>\n",
       "      <td>(550.0, 650.0]</td>\n",
       "      <td>0.207780</td>\n",
       "    </tr>\n",
       "    <tr>\n",
       "      <th>3</th>\n",
       "      <td>(650.0, 750.0]</td>\n",
       "      <td>0.192496</td>\n",
       "    </tr>\n",
       "    <tr>\n",
       "      <th>4</th>\n",
       "      <td>(750.0, 850.0]</td>\n",
       "      <td>0.195870</td>\n",
       "    </tr>\n",
       "  </tbody>\n",
       "</table>\n",
       "</div>"
      ],
      "text/plain": [
       "  CreditScoreBand    Exited\n",
       "0  (349.5, 450.0]  0.322751\n",
       "1  (450.0, 550.0]  0.214385\n",
       "2  (550.0, 650.0]  0.207780\n",
       "3  (650.0, 750.0]  0.192496\n",
       "4  (750.0, 850.0]  0.195870"
      ]
     },
     "execution_count": 15,
     "metadata": {},
     "output_type": "execute_result"
    }
   ],
   "source": [
    "df['CreditScoreBand'] = pd.cut(df['CreditScore'], 5)\n",
    "df[['CreditScoreBand', 'Exited']].groupby(['CreditScoreBand'], as_index=False).mean().sort_values(by='CreditScoreBand', ascending=True)"
   ]
  },
  {
   "cell_type": "code",
   "execution_count": 16,
   "id": "cda75e42",
   "metadata": {
    "execution": {
     "iopub.execute_input": "2021-10-27T15:47:38.156580Z",
     "iopub.status.busy": "2021-10-27T15:47:38.156052Z",
     "iopub.status.idle": "2021-10-27T15:47:38.159884Z",
     "shell.execute_reply": "2021-10-27T15:47:38.159464Z",
     "shell.execute_reply.started": "2021-10-27T14:56:28.237600Z"
    },
    "papermill": {
     "duration": 0.069106,
     "end_time": "2021-10-27T15:47:38.160006",
     "exception": false,
     "start_time": "2021-10-27T15:47:38.090900",
     "status": "completed"
    },
    "tags": []
   },
   "outputs": [],
   "source": [
    "df_ = [df] #making a list so that 'for loops' can be easily implemented"
   ]
  },
  {
   "cell_type": "markdown",
   "id": "159af800",
   "metadata": {
    "papermill": {
     "duration": 0.058018,
     "end_time": "2021-10-27T15:47:38.276328",
     "exception": false,
     "start_time": "2021-10-27T15:47:38.218310",
     "status": "completed"
    },
    "tags": []
   },
   "source": [
    ">#### Here what I have done is that I have replaced each Credit score band with a value (from 0 to 4) so that now only these values will be displayed instead of the actual credit scores in the table. "
   ]
  },
  {
   "cell_type": "code",
   "execution_count": 17,
   "id": "9afcd3a2",
   "metadata": {
    "execution": {
     "iopub.execute_input": "2021-10-27T15:47:38.407676Z",
     "iopub.status.busy": "2021-10-27T15:47:38.407132Z",
     "iopub.status.idle": "2021-10-27T15:47:38.428222Z",
     "shell.execute_reply": "2021-10-27T15:47:38.427379Z",
     "shell.execute_reply.started": "2021-10-27T14:57:50.636092Z"
    },
    "papermill": {
     "duration": 0.090948,
     "end_time": "2021-10-27T15:47:38.428363",
     "exception": false,
     "start_time": "2021-10-27T15:47:38.337415",
     "status": "completed"
    },
    "tags": []
   },
   "outputs": [
    {
     "data": {
      "text/html": [
       "<div>\n",
       "<style scoped>\n",
       "    .dataframe tbody tr th:only-of-type {\n",
       "        vertical-align: middle;\n",
       "    }\n",
       "\n",
       "    .dataframe tbody tr th {\n",
       "        vertical-align: top;\n",
       "    }\n",
       "\n",
       "    .dataframe thead th {\n",
       "        text-align: right;\n",
       "    }\n",
       "</style>\n",
       "<table border=\"1\" class=\"dataframe\">\n",
       "  <thead>\n",
       "    <tr style=\"text-align: right;\">\n",
       "      <th></th>\n",
       "      <th>RowNumber</th>\n",
       "      <th>CustomerId</th>\n",
       "      <th>Surname</th>\n",
       "      <th>CreditScore</th>\n",
       "      <th>Geography</th>\n",
       "      <th>Gender</th>\n",
       "      <th>Age</th>\n",
       "      <th>Tenure</th>\n",
       "      <th>Balance</th>\n",
       "      <th>NumOfProducts</th>\n",
       "      <th>HasCrCard</th>\n",
       "      <th>IsActiveMember</th>\n",
       "      <th>EstimatedSalary</th>\n",
       "      <th>Exited</th>\n",
       "      <th>CreditScoreBand</th>\n",
       "    </tr>\n",
       "  </thead>\n",
       "  <tbody>\n",
       "    <tr>\n",
       "      <th>0</th>\n",
       "      <td>1</td>\n",
       "      <td>15634602</td>\n",
       "      <td>Hargrave</td>\n",
       "      <td>2</td>\n",
       "      <td>France</td>\n",
       "      <td>Female</td>\n",
       "      <td>42</td>\n",
       "      <td>2</td>\n",
       "      <td>0.00</td>\n",
       "      <td>1</td>\n",
       "      <td>1</td>\n",
       "      <td>1</td>\n",
       "      <td>101348.88</td>\n",
       "      <td>1</td>\n",
       "      <td>(550.0, 650.0]</td>\n",
       "    </tr>\n",
       "    <tr>\n",
       "      <th>1</th>\n",
       "      <td>2</td>\n",
       "      <td>15647311</td>\n",
       "      <td>Hill</td>\n",
       "      <td>2</td>\n",
       "      <td>Spain</td>\n",
       "      <td>Female</td>\n",
       "      <td>41</td>\n",
       "      <td>1</td>\n",
       "      <td>83807.86</td>\n",
       "      <td>1</td>\n",
       "      <td>0</td>\n",
       "      <td>1</td>\n",
       "      <td>112542.58</td>\n",
       "      <td>0</td>\n",
       "      <td>(550.0, 650.0]</td>\n",
       "    </tr>\n",
       "    <tr>\n",
       "      <th>2</th>\n",
       "      <td>3</td>\n",
       "      <td>15619304</td>\n",
       "      <td>Onio</td>\n",
       "      <td>1</td>\n",
       "      <td>France</td>\n",
       "      <td>Female</td>\n",
       "      <td>42</td>\n",
       "      <td>8</td>\n",
       "      <td>159660.80</td>\n",
       "      <td>3</td>\n",
       "      <td>1</td>\n",
       "      <td>0</td>\n",
       "      <td>113931.57</td>\n",
       "      <td>1</td>\n",
       "      <td>(450.0, 550.0]</td>\n",
       "    </tr>\n",
       "    <tr>\n",
       "      <th>3</th>\n",
       "      <td>4</td>\n",
       "      <td>15701354</td>\n",
       "      <td>Boni</td>\n",
       "      <td>3</td>\n",
       "      <td>France</td>\n",
       "      <td>Female</td>\n",
       "      <td>39</td>\n",
       "      <td>1</td>\n",
       "      <td>0.00</td>\n",
       "      <td>2</td>\n",
       "      <td>0</td>\n",
       "      <td>0</td>\n",
       "      <td>93826.63</td>\n",
       "      <td>0</td>\n",
       "      <td>(650.0, 750.0]</td>\n",
       "    </tr>\n",
       "    <tr>\n",
       "      <th>4</th>\n",
       "      <td>5</td>\n",
       "      <td>15737888</td>\n",
       "      <td>Mitchell</td>\n",
       "      <td>4</td>\n",
       "      <td>Spain</td>\n",
       "      <td>Female</td>\n",
       "      <td>43</td>\n",
       "      <td>2</td>\n",
       "      <td>125510.82</td>\n",
       "      <td>1</td>\n",
       "      <td>1</td>\n",
       "      <td>1</td>\n",
       "      <td>79084.10</td>\n",
       "      <td>0</td>\n",
       "      <td>(750.0, 850.0]</td>\n",
       "    </tr>\n",
       "  </tbody>\n",
       "</table>\n",
       "</div>"
      ],
      "text/plain": [
       "   RowNumber  CustomerId   Surname  CreditScore Geography  Gender  Age  \\\n",
       "0          1    15634602  Hargrave            2    France  Female   42   \n",
       "1          2    15647311      Hill            2     Spain  Female   41   \n",
       "2          3    15619304      Onio            1    France  Female   42   \n",
       "3          4    15701354      Boni            3    France  Female   39   \n",
       "4          5    15737888  Mitchell            4     Spain  Female   43   \n",
       "\n",
       "   Tenure    Balance  NumOfProducts  HasCrCard  IsActiveMember  \\\n",
       "0       2       0.00              1          1               1   \n",
       "1       1   83807.86              1          0               1   \n",
       "2       8  159660.80              3          1               0   \n",
       "3       1       0.00              2          0               0   \n",
       "4       2  125510.82              1          1               1   \n",
       "\n",
       "   EstimatedSalary  Exited CreditScoreBand  \n",
       "0        101348.88       1  (550.0, 650.0]  \n",
       "1        112542.58       0  (550.0, 650.0]  \n",
       "2        113931.57       1  (450.0, 550.0]  \n",
       "3         93826.63       0  (650.0, 750.0]  \n",
       "4         79084.10       0  (750.0, 850.0]  "
      ]
     },
     "execution_count": 17,
     "metadata": {},
     "output_type": "execute_result"
    }
   ],
   "source": [
    "for dataset in df_:    \n",
    "    dataset.loc[(dataset['CreditScore'] > 349.5) & (dataset['CreditScore'] <= 450.0), 'CreditScore'] = 0\n",
    "    dataset.loc[(dataset['CreditScore'] > 450.0) & (dataset['CreditScore'] <= 550.0), 'CreditScore'] = 1\n",
    "    dataset.loc[(dataset['CreditScore'] > 550.0) & (dataset['CreditScore'] <= 650.0), 'CreditScore'] = 2\n",
    "    dataset.loc[(dataset['CreditScore'] > 650.0) & (dataset['CreditScore'] <= 750.0), 'CreditScore'] = 3\n",
    "    dataset.loc[(dataset['CreditScore'] > 750.0) & (dataset['CreditScore'] <= 850.0), 'CreditScore'] = 4\n",
    "df.head()"
   ]
  },
  {
   "cell_type": "markdown",
   "id": "b2d4c164",
   "metadata": {
    "papermill": {
     "duration": 0.061389,
     "end_time": "2021-10-27T15:47:38.555447",
     "exception": false,
     "start_time": "2021-10-27T15:47:38.494058",
     "status": "completed"
    },
    "tags": []
   },
   "source": [
    ">#### Now, let's drop the CreditScoreBand column which has now done its purpose."
   ]
  },
  {
   "cell_type": "code",
   "execution_count": 18,
   "id": "9bd10ec6",
   "metadata": {
    "execution": {
     "iopub.execute_input": "2021-10-27T15:47:38.687459Z",
     "iopub.status.busy": "2021-10-27T15:47:38.686557Z",
     "iopub.status.idle": "2021-10-27T15:47:38.689107Z",
     "shell.execute_reply": "2021-10-27T15:47:38.689504Z",
     "shell.execute_reply.started": "2021-10-27T14:58:45.319532Z"
    },
    "papermill": {
     "duration": 0.071896,
     "end_time": "2021-10-27T15:47:38.689648",
     "exception": false,
     "start_time": "2021-10-27T15:47:38.617752",
     "status": "completed"
    },
    "tags": []
   },
   "outputs": [],
   "source": [
    "df = df.drop(['CreditScoreBand'], axis=1)\n",
    "df_ = [df]"
   ]
  },
  {
   "cell_type": "markdown",
   "id": "12946755",
   "metadata": {
    "papermill": {
     "duration": 0.061698,
     "end_time": "2021-10-27T15:47:38.813664",
     "exception": false,
     "start_time": "2021-10-27T15:47:38.751966",
     "status": "completed"
    },
    "tags": []
   },
   "source": [
    "#### Thus, we have replaced the continuous distribution of the Credit scores into 5 discrete values. Similarly we will conduct such modifications on all the continuous features."
   ]
  },
  {
   "cell_type": "code",
   "execution_count": 19,
   "id": "54bc3d3d",
   "metadata": {
    "execution": {
     "iopub.execute_input": "2021-10-27T15:47:38.980539Z",
     "iopub.status.busy": "2021-10-27T15:47:38.979581Z",
     "iopub.status.idle": "2021-10-27T15:47:39.469801Z",
     "shell.execute_reply": "2021-10-27T15:47:39.470581Z",
     "shell.execute_reply.started": "2021-10-27T14:58:47.662249Z"
    },
    "papermill": {
     "duration": 0.593439,
     "end_time": "2021-10-27T15:47:39.470736",
     "exception": false,
     "start_time": "2021-10-27T15:47:38.877297",
     "status": "completed"
    },
    "tags": []
   },
   "outputs": [
    {
     "data": {
      "image/png": "[encoded data removed]",
      "text/plain": [
       "<Figure size 1080x360 with 2 Axes>"
      ]
     },
     "metadata": {
      "needs_background": "light"
     },
     "output_type": "display_data"
    }
   ],
   "source": [
    "fig, ax = plt.subplots(1, 2)\n",
    "sns.distplot(x=data[\"CreditScore\"], color=\"violet\", axlabel=\"Credit Scores\", ax=ax[0])\n",
    "sns.distplot(x=df[\"CreditScore\"], color=\"violet\", axlabel=\"Credit Scores\", ax=ax[1])\n",
    "fig.set_figheight(5)\n",
    "fig.set_figwidth(15)\n",
    "plt.show()"
   ]
  },
  {
   "cell_type": "markdown",
   "id": "c95ea069",
   "metadata": {
    "papermill": {
     "duration": 0.064691,
     "end_time": "2021-10-27T15:47:39.601964",
     "exception": false,
     "start_time": "2021-10-27T15:47:39.537273",
     "status": "completed"
    },
    "tags": []
   },
   "source": [
    "### `Geography`\n",
    "#### Plot for Geography with Exited:"
   ]
  },
  {
   "cell_type": "code",
   "execution_count": 20,
   "id": "6d721d8f",
   "metadata": {
    "execution": {
     "iopub.execute_input": "2021-10-27T15:47:39.743458Z",
     "iopub.status.busy": "2021-10-27T15:47:39.742646Z",
     "iopub.status.idle": "2021-10-27T15:47:39.913127Z",
     "shell.execute_reply": "2021-10-27T15:47:39.913536Z",
     "shell.execute_reply.started": "2021-10-27T14:59:00.522551Z"
    },
    "papermill": {
     "duration": 0.247456,
     "end_time": "2021-10-27T15:47:39.913689",
     "exception": false,
     "start_time": "2021-10-27T15:47:39.666233",
     "status": "completed"
    },
    "tags": []
   },
   "outputs": [
    {
     "data": {
      "image/png": "[encoded data removed]",
      "text/plain": [
       "<Figure size 1080x360 with 1 Axes>"
      ]
     },
     "metadata": {
      "needs_background": "light"
     },
     "output_type": "display_data"
    }
   ],
   "source": [
    "plt.figure(figsize=(15, 5))\n",
    "sns.countplot(y=\"Geography\", hue=\"Exited\", data=data, palette=\"cool\", alpha=0.55)\n",
    "plt.show()"
   ]
  },
  {
   "cell_type": "markdown",
   "id": "dda5097a",
   "metadata": {
    "papermill": {
     "duration": 0.06155,
     "end_time": "2021-10-27T15:47:40.039214",
     "exception": false,
     "start_time": "2021-10-27T15:47:39.977664",
     "status": "completed"
    },
    "tags": []
   },
   "source": [
    "#### Here, we can conduct One Hot Encoding and replace the categories: France, Germany and Spain into numbers. But, I went on a more raw approach."
   ]
  },
  {
   "cell_type": "code",
   "execution_count": 21,
   "id": "9d382181",
   "metadata": {
    "execution": {
     "iopub.execute_input": "2021-10-27T15:47:40.180203Z",
     "iopub.status.busy": "2021-10-27T15:47:40.167953Z",
     "iopub.status.idle": "2021-10-27T15:47:40.184135Z",
     "shell.execute_reply": "2021-10-27T15:47:40.183658Z",
     "shell.execute_reply.started": "2021-10-27T14:59:05.684780Z"
    },
    "papermill": {
     "duration": 0.084608,
     "end_time": "2021-10-27T15:47:40.184262",
     "exception": false,
     "start_time": "2021-10-27T15:47:40.099654",
     "status": "completed"
    },
    "tags": []
   },
   "outputs": [
    {
     "data": {
      "text/html": [
       "<div>\n",
       "<style scoped>\n",
       "    .dataframe tbody tr th:only-of-type {\n",
       "        vertical-align: middle;\n",
       "    }\n",
       "\n",
       "    .dataframe tbody tr th {\n",
       "        vertical-align: top;\n",
       "    }\n",
       "\n",
       "    .dataframe thead th {\n",
       "        text-align: right;\n",
       "    }\n",
       "</style>\n",
       "<table border=\"1\" class=\"dataframe\">\n",
       "  <thead>\n",
       "    <tr style=\"text-align: right;\">\n",
       "      <th></th>\n",
       "      <th>RowNumber</th>\n",
       "      <th>CustomerId</th>\n",
       "      <th>Surname</th>\n",
       "      <th>CreditScore</th>\n",
       "      <th>Geography</th>\n",
       "      <th>Gender</th>\n",
       "      <th>Age</th>\n",
       "      <th>Tenure</th>\n",
       "      <th>Balance</th>\n",
       "      <th>NumOfProducts</th>\n",
       "      <th>HasCrCard</th>\n",
       "      <th>IsActiveMember</th>\n",
       "      <th>EstimatedSalary</th>\n",
       "      <th>Exited</th>\n",
       "    </tr>\n",
       "  </thead>\n",
       "  <tbody>\n",
       "    <tr>\n",
       "      <th>0</th>\n",
       "      <td>1</td>\n",
       "      <td>15634602</td>\n",
       "      <td>Hargrave</td>\n",
       "      <td>2</td>\n",
       "      <td>0</td>\n",
       "      <td>Female</td>\n",
       "      <td>42</td>\n",
       "      <td>2</td>\n",
       "      <td>0.00</td>\n",
       "      <td>1</td>\n",
       "      <td>1</td>\n",
       "      <td>1</td>\n",
       "      <td>101348.88</td>\n",
       "      <td>1</td>\n",
       "    </tr>\n",
       "    <tr>\n",
       "      <th>1</th>\n",
       "      <td>2</td>\n",
       "      <td>15647311</td>\n",
       "      <td>Hill</td>\n",
       "      <td>2</td>\n",
       "      <td>2</td>\n",
       "      <td>Female</td>\n",
       "      <td>41</td>\n",
       "      <td>1</td>\n",
       "      <td>83807.86</td>\n",
       "      <td>1</td>\n",
       "      <td>0</td>\n",
       "      <td>1</td>\n",
       "      <td>112542.58</td>\n",
       "      <td>0</td>\n",
       "    </tr>\n",
       "    <tr>\n",
       "      <th>2</th>\n",
       "      <td>3</td>\n",
       "      <td>15619304</td>\n",
       "      <td>Onio</td>\n",
       "      <td>1</td>\n",
       "      <td>0</td>\n",
       "      <td>Female</td>\n",
       "      <td>42</td>\n",
       "      <td>8</td>\n",
       "      <td>159660.80</td>\n",
       "      <td>3</td>\n",
       "      <td>1</td>\n",
       "      <td>0</td>\n",
       "      <td>113931.57</td>\n",
       "      <td>1</td>\n",
       "    </tr>\n",
       "    <tr>\n",
       "      <th>3</th>\n",
       "      <td>4</td>\n",
       "      <td>15701354</td>\n",
       "      <td>Boni</td>\n",
       "      <td>3</td>\n",
       "      <td>0</td>\n",
       "      <td>Female</td>\n",
       "      <td>39</td>\n",
       "      <td>1</td>\n",
       "      <td>0.00</td>\n",
       "      <td>2</td>\n",
       "      <td>0</td>\n",
       "      <td>0</td>\n",
       "      <td>93826.63</td>\n",
       "      <td>0</td>\n",
       "    </tr>\n",
       "    <tr>\n",
       "      <th>4</th>\n",
       "      <td>5</td>\n",
       "      <td>15737888</td>\n",
       "      <td>Mitchell</td>\n",
       "      <td>4</td>\n",
       "      <td>2</td>\n",
       "      <td>Female</td>\n",
       "      <td>43</td>\n",
       "      <td>2</td>\n",
       "      <td>125510.82</td>\n",
       "      <td>1</td>\n",
       "      <td>1</td>\n",
       "      <td>1</td>\n",
       "      <td>79084.10</td>\n",
       "      <td>0</td>\n",
       "    </tr>\n",
       "  </tbody>\n",
       "</table>\n",
       "</div>"
      ],
      "text/plain": [
       "   RowNumber  CustomerId   Surname  CreditScore  Geography  Gender  Age  \\\n",
       "0          1    15634602  Hargrave            2          0  Female   42   \n",
       "1          2    15647311      Hill            2          2  Female   41   \n",
       "2          3    15619304      Onio            1          0  Female   42   \n",
       "3          4    15701354      Boni            3          0  Female   39   \n",
       "4          5    15737888  Mitchell            4          2  Female   43   \n",
       "\n",
       "   Tenure    Balance  NumOfProducts  HasCrCard  IsActiveMember  \\\n",
       "0       2       0.00              1          1               1   \n",
       "1       1   83807.86              1          0               1   \n",
       "2       8  159660.80              3          1               0   \n",
       "3       1       0.00              2          0               0   \n",
       "4       2  125510.82              1          1               1   \n",
       "\n",
       "   EstimatedSalary  Exited  \n",
       "0        101348.88       1  \n",
       "1        112542.58       0  \n",
       "2        113931.57       1  \n",
       "3         93826.63       0  \n",
       "4         79084.10       0  "
      ]
     },
     "execution_count": 21,
     "metadata": {},
     "output_type": "execute_result"
    }
   ],
   "source": [
    "for dataset in df_:\n",
    "    dataset['Geography'] = dataset['Geography'].map( {'France': 0, 'Germany': 1, 'Spain': 2} ).astype(int)\n",
    "\n",
    "df.head()"
   ]
  },
  {
   "cell_type": "markdown",
   "id": "634340c0",
   "metadata": {
    "papermill": {
     "duration": 0.06439,
     "end_time": "2021-10-27T15:47:40.320243",
     "exception": false,
     "start_time": "2021-10-27T15:47:40.255853",
     "status": "completed"
    },
    "tags": []
   },
   "source": [
    "### `Gender`:\n",
    "#### Plot for Gender:"
   ]
  },
  {
   "cell_type": "code",
   "execution_count": 22,
   "id": "fc5cb502",
   "metadata": {
    "execution": {
     "iopub.execute_input": "2021-10-27T15:47:40.467723Z",
     "iopub.status.busy": "2021-10-27T15:47:40.466887Z",
     "iopub.status.idle": "2021-10-27T15:47:40.571273Z",
     "shell.execute_reply": "2021-10-27T15:47:40.571749Z",
     "shell.execute_reply.started": "2021-10-27T14:59:09.166730Z"
    },
    "papermill": {
     "duration": 0.186387,
     "end_time": "2021-10-27T15:47:40.571906",
     "exception": false,
     "start_time": "2021-10-27T15:47:40.385519",
     "status": "completed"
    },
    "tags": []
   },
   "outputs": [
    {
     "data": {
      "image/png": "[encoded data removed]",
      "text/plain": [
       "<Figure size 1080x216 with 1 Axes>"
      ]
     },
     "metadata": {
      "needs_background": "light"
     },
     "output_type": "display_data"
    }
   ],
   "source": [
    "plt.figure(figsize=(15,3))\n",
    "sns.countplot(y=df['Gender'], orient=\"v\", data=df, palette=\"cool\", alpha=0.55)\n",
    "plt.show()"
   ]
  },
  {
   "cell_type": "markdown",
   "id": "9e3e6e21",
   "metadata": {
    "papermill": {
     "duration": 0.061083,
     "end_time": "2021-10-27T15:47:40.694919",
     "exception": false,
     "start_time": "2021-10-27T15:47:40.633836",
     "status": "completed"
    },
    "tags": []
   },
   "source": [
    "#### Exiting rate based on the gender:"
   ]
  },
  {
   "cell_type": "code",
   "execution_count": 23,
   "id": "5f9f39cf",
   "metadata": {
    "execution": {
     "iopub.execute_input": "2021-10-27T15:47:40.830679Z",
     "iopub.status.busy": "2021-10-27T15:47:40.829732Z",
     "iopub.status.idle": "2021-10-27T15:47:40.971352Z",
     "shell.execute_reply": "2021-10-27T15:47:40.971976Z",
     "shell.execute_reply.started": "2021-10-27T14:59:14.621715Z"
    },
    "papermill": {
     "duration": 0.214419,
     "end_time": "2021-10-27T15:47:40.972168",
     "exception": false,
     "start_time": "2021-10-27T15:47:40.757749",
     "status": "completed"
    },
    "tags": []
   },
   "outputs": [
    {
     "data": {
      "image/png": "[encoded data removed]",
      "text/plain": [
       "<Figure size 1080x360 with 1 Axes>"
      ]
     },
     "metadata": {
      "needs_background": "light"
     },
     "output_type": "display_data"
    }
   ],
   "source": [
    "plt.figure(figsize=(15,5))\n",
    "sns.countplot(y=\"Exited\", hue=\"Gender\", data=data, orient=\"v\", palette=\"cool\", alpha=0.55)\n",
    "plt.show()"
   ]
  },
  {
   "cell_type": "code",
   "execution_count": 24,
   "id": "4b5c31bd",
   "metadata": {
    "execution": {
     "iopub.execute_input": "2021-10-27T15:47:41.114094Z",
     "iopub.status.busy": "2021-10-27T15:47:41.113169Z",
     "iopub.status.idle": "2021-10-27T15:47:41.128643Z",
     "shell.execute_reply": "2021-10-27T15:47:41.128186Z",
     "shell.execute_reply.started": "2021-10-27T14:59:17.955417Z"
    },
    "papermill": {
     "duration": 0.088466,
     "end_time": "2021-10-27T15:47:41.128766",
     "exception": false,
     "start_time": "2021-10-27T15:47:41.040300",
     "status": "completed"
    },
    "tags": []
   },
   "outputs": [
    {
     "data": {
      "text/html": [
       "<div>\n",
       "<style scoped>\n",
       "    .dataframe tbody tr th:only-of-type {\n",
       "        vertical-align: middle;\n",
       "    }\n",
       "\n",
       "    .dataframe tbody tr th {\n",
       "        vertical-align: top;\n",
       "    }\n",
       "\n",
       "    .dataframe thead th {\n",
       "        text-align: right;\n",
       "    }\n",
       "</style>\n",
       "<table border=\"1\" class=\"dataframe\">\n",
       "  <thead>\n",
       "    <tr style=\"text-align: right;\">\n",
       "      <th></th>\n",
       "      <th>RowNumber</th>\n",
       "      <th>CustomerId</th>\n",
       "      <th>Surname</th>\n",
       "      <th>CreditScore</th>\n",
       "      <th>Geography</th>\n",
       "      <th>Gender</th>\n",
       "      <th>Age</th>\n",
       "      <th>Tenure</th>\n",
       "      <th>Balance</th>\n",
       "      <th>NumOfProducts</th>\n",
       "      <th>HasCrCard</th>\n",
       "      <th>IsActiveMember</th>\n",
       "      <th>EstimatedSalary</th>\n",
       "      <th>Exited</th>\n",
       "    </tr>\n",
       "  </thead>\n",
       "  <tbody>\n",
       "    <tr>\n",
       "      <th>0</th>\n",
       "      <td>1</td>\n",
       "      <td>15634602</td>\n",
       "      <td>Hargrave</td>\n",
       "      <td>2</td>\n",
       "      <td>0</td>\n",
       "      <td>1</td>\n",
       "      <td>42</td>\n",
       "      <td>2</td>\n",
       "      <td>0.00</td>\n",
       "      <td>1</td>\n",
       "      <td>1</td>\n",
       "      <td>1</td>\n",
       "      <td>101348.88</td>\n",
       "      <td>1</td>\n",
       "    </tr>\n",
       "    <tr>\n",
       "      <th>1</th>\n",
       "      <td>2</td>\n",
       "      <td>15647311</td>\n",
       "      <td>Hill</td>\n",
       "      <td>2</td>\n",
       "      <td>2</td>\n",
       "      <td>1</td>\n",
       "      <td>41</td>\n",
       "      <td>1</td>\n",
       "      <td>83807.86</td>\n",
       "      <td>1</td>\n",
       "      <td>0</td>\n",
       "      <td>1</td>\n",
       "      <td>112542.58</td>\n",
       "      <td>0</td>\n",
       "    </tr>\n",
       "    <tr>\n",
       "      <th>2</th>\n",
       "      <td>3</td>\n",
       "      <td>15619304</td>\n",
       "      <td>Onio</td>\n",
       "      <td>1</td>\n",
       "      <td>0</td>\n",
       "      <td>1</td>\n",
       "      <td>42</td>\n",
       "      <td>8</td>\n",
       "      <td>159660.80</td>\n",
       "      <td>3</td>\n",
       "      <td>1</td>\n",
       "      <td>0</td>\n",
       "      <td>113931.57</td>\n",
       "      <td>1</td>\n",
       "    </tr>\n",
       "    <tr>\n",
       "      <th>3</th>\n",
       "      <td>4</td>\n",
       "      <td>15701354</td>\n",
       "      <td>Boni</td>\n",
       "      <td>3</td>\n",
       "      <td>0</td>\n",
       "      <td>1</td>\n",
       "      <td>39</td>\n",
       "      <td>1</td>\n",
       "      <td>0.00</td>\n",
       "      <td>2</td>\n",
       "      <td>0</td>\n",
       "      <td>0</td>\n",
       "      <td>93826.63</td>\n",
       "      <td>0</td>\n",
       "    </tr>\n",
       "    <tr>\n",
       "      <th>4</th>\n",
       "      <td>5</td>\n",
       "      <td>15737888</td>\n",
       "      <td>Mitchell</td>\n",
       "      <td>4</td>\n",
       "      <td>2</td>\n",
       "      <td>1</td>\n",
       "      <td>43</td>\n",
       "      <td>2</td>\n",
       "      <td>125510.82</td>\n",
       "      <td>1</td>\n",
       "      <td>1</td>\n",
       "      <td>1</td>\n",
       "      <td>79084.10</td>\n",
       "      <td>0</td>\n",
       "    </tr>\n",
       "  </tbody>\n",
       "</table>\n",
       "</div>"
      ],
      "text/plain": [
       "   RowNumber  CustomerId   Surname  CreditScore  Geography  Gender  Age  \\\n",
       "0          1    15634602  Hargrave            2          0       1   42   \n",
       "1          2    15647311      Hill            2          2       1   41   \n",
       "2          3    15619304      Onio            1          0       1   42   \n",
       "3          4    15701354      Boni            3          0       1   39   \n",
       "4          5    15737888  Mitchell            4          2       1   43   \n",
       "\n",
       "   Tenure    Balance  NumOfProducts  HasCrCard  IsActiveMember  \\\n",
       "0       2       0.00              1          1               1   \n",
       "1       1   83807.86              1          0               1   \n",
       "2       8  159660.80              3          1               0   \n",
       "3       1       0.00              2          0               0   \n",
       "4       2  125510.82              1          1               1   \n",
       "\n",
       "   EstimatedSalary  Exited  \n",
       "0        101348.88       1  \n",
       "1        112542.58       0  \n",
       "2        113931.57       1  \n",
       "3         93826.63       0  \n",
       "4         79084.10       0  "
      ]
     },
     "execution_count": 24,
     "metadata": {},
     "output_type": "execute_result"
    }
   ],
   "source": [
    "for dataset in df_:\n",
    "    dataset['Gender'] = dataset['Gender'].map( {'Female': 1, 'Male': 0} ).astype(int)\n",
    "df.head()"
   ]
  },
  {
   "cell_type": "markdown",
   "id": "47adda39",
   "metadata": {
    "papermill": {
     "duration": 0.06422,
     "end_time": "2021-10-27T15:47:41.264921",
     "exception": false,
     "start_time": "2021-10-27T15:47:41.200701",
     "status": "completed"
    },
    "tags": []
   },
   "source": [
    "### `Age`:\n",
    "#### Distribution plot for age of the customers:"
   ]
  },
  {
   "cell_type": "code",
   "execution_count": 25,
   "id": "8812f30d",
   "metadata": {
    "execution": {
     "iopub.execute_input": "2021-10-27T15:47:41.411865Z",
     "iopub.status.busy": "2021-10-27T15:47:41.410909Z",
     "iopub.status.idle": "2021-10-27T15:47:41.629645Z",
     "shell.execute_reply": "2021-10-27T15:47:41.630074Z",
     "shell.execute_reply.started": "2021-10-27T14:59:24.693791Z"
    },
    "papermill": {
     "duration": 0.301714,
     "end_time": "2021-10-27T15:47:41.630235",
     "exception": false,
     "start_time": "2021-10-27T15:47:41.328521",
     "status": "completed"
    },
    "tags": []
   },
   "outputs": [
    {
     "data": {
      "image/png": "[encoded data removed]",
      "text/plain": [
       "<Figure size 864x576 with 1 Axes>"
      ]
     },
     "metadata": {
      "needs_background": "light"
     },
     "output_type": "display_data"
    }
   ],
   "source": [
    "plt.figure(figsize=(12,8))\n",
    "sns.distplot(x=data[\"Age\"], bins=30, axlabel=\"Age\", color='violet')\n",
    "plt.show()"
   ]
  },
  {
   "cell_type": "code",
   "execution_count": 26,
   "id": "17268418",
   "metadata": {
    "execution": {
     "iopub.execute_input": "2021-10-27T15:47:41.780241Z",
     "iopub.status.busy": "2021-10-27T15:47:41.778109Z",
     "iopub.status.idle": "2021-10-27T15:47:41.798720Z",
     "shell.execute_reply": "2021-10-27T15:47:41.798224Z",
     "shell.execute_reply.started": "2021-10-27T14:59:26.993306Z"
    },
    "papermill": {
     "duration": 0.101752,
     "end_time": "2021-10-27T15:47:41.798858",
     "exception": false,
     "start_time": "2021-10-27T15:47:41.697106",
     "status": "completed"
    },
    "tags": []
   },
   "outputs": [
    {
     "data": {
      "text/html": [
       "<div>\n",
       "<style scoped>\n",
       "    .dataframe tbody tr th:only-of-type {\n",
       "        vertical-align: middle;\n",
       "    }\n",
       "\n",
       "    .dataframe tbody tr th {\n",
       "        vertical-align: top;\n",
       "    }\n",
       "\n",
       "    .dataframe thead th {\n",
       "        text-align: right;\n",
       "    }\n",
       "</style>\n",
       "<table border=\"1\" class=\"dataframe\">\n",
       "  <thead>\n",
       "    <tr style=\"text-align: right;\">\n",
       "      <th></th>\n",
       "      <th>AgeBand</th>\n",
       "      <th>Exited</th>\n",
       "    </tr>\n",
       "  </thead>\n",
       "  <tbody>\n",
       "    <tr>\n",
       "      <th>0</th>\n",
       "      <td>(17.926, 32.8]</td>\n",
       "      <td>0.076344</td>\n",
       "    </tr>\n",
       "    <tr>\n",
       "      <th>1</th>\n",
       "      <td>(32.8, 47.6]</td>\n",
       "      <td>0.188182</td>\n",
       "    </tr>\n",
       "    <tr>\n",
       "      <th>2</th>\n",
       "      <td>(47.6, 62.4]</td>\n",
       "      <td>0.529978</td>\n",
       "    </tr>\n",
       "    <tr>\n",
       "      <th>3</th>\n",
       "      <td>(62.4, 77.2]</td>\n",
       "      <td>0.214925</td>\n",
       "    </tr>\n",
       "    <tr>\n",
       "      <th>4</th>\n",
       "      <td>(77.2, 92.0]</td>\n",
       "      <td>0.041667</td>\n",
       "    </tr>\n",
       "  </tbody>\n",
       "</table>\n",
       "</div>"
      ],
      "text/plain": [
       "          AgeBand    Exited\n",
       "0  (17.926, 32.8]  0.076344\n",
       "1    (32.8, 47.6]  0.188182\n",
       "2    (47.6, 62.4]  0.529978\n",
       "3    (62.4, 77.2]  0.214925\n",
       "4    (77.2, 92.0]  0.041667"
      ]
     },
     "execution_count": 26,
     "metadata": {},
     "output_type": "execute_result"
    }
   ],
   "source": [
    "df['AgeBand'] = pd.cut(df['Age'], 5)\n",
    "df[['AgeBand', 'Exited']].groupby(['AgeBand'], as_index=False).mean().sort_values(by='AgeBand', ascending=True)"
   ]
  },
  {
   "cell_type": "code",
   "execution_count": 27,
   "id": "4e8320a4",
   "metadata": {
    "execution": {
     "iopub.execute_input": "2021-10-27T15:47:41.940231Z",
     "iopub.status.busy": "2021-10-27T15:47:41.939233Z",
     "iopub.status.idle": "2021-10-27T15:47:41.959011Z",
     "shell.execute_reply": "2021-10-27T15:47:41.958556Z",
     "shell.execute_reply.started": "2021-10-27T14:59:30.450205Z"
    },
    "papermill": {
     "duration": 0.093611,
     "end_time": "2021-10-27T15:47:41.959153",
     "exception": false,
     "start_time": "2021-10-27T15:47:41.865542",
     "status": "completed"
    },
    "tags": []
   },
   "outputs": [
    {
     "data": {
      "text/html": [
       "<div>\n",
       "<style scoped>\n",
       "    .dataframe tbody tr th:only-of-type {\n",
       "        vertical-align: middle;\n",
       "    }\n",
       "\n",
       "    .dataframe tbody tr th {\n",
       "        vertical-align: top;\n",
       "    }\n",
       "\n",
       "    .dataframe thead th {\n",
       "        text-align: right;\n",
       "    }\n",
       "</style>\n",
       "<table border=\"1\" class=\"dataframe\">\n",
       "  <thead>\n",
       "    <tr style=\"text-align: right;\">\n",
       "      <th></th>\n",
       "      <th>RowNumber</th>\n",
       "      <th>CustomerId</th>\n",
       "      <th>Surname</th>\n",
       "      <th>CreditScore</th>\n",
       "      <th>Geography</th>\n",
       "      <th>Gender</th>\n",
       "      <th>Age</th>\n",
       "      <th>Tenure</th>\n",
       "      <th>Balance</th>\n",
       "      <th>NumOfProducts</th>\n",
       "      <th>HasCrCard</th>\n",
       "      <th>IsActiveMember</th>\n",
       "      <th>EstimatedSalary</th>\n",
       "      <th>Exited</th>\n",
       "      <th>AgeBand</th>\n",
       "    </tr>\n",
       "  </thead>\n",
       "  <tbody>\n",
       "    <tr>\n",
       "      <th>0</th>\n",
       "      <td>1</td>\n",
       "      <td>15634602</td>\n",
       "      <td>Hargrave</td>\n",
       "      <td>2</td>\n",
       "      <td>0</td>\n",
       "      <td>1</td>\n",
       "      <td>1</td>\n",
       "      <td>2</td>\n",
       "      <td>0.00</td>\n",
       "      <td>1</td>\n",
       "      <td>1</td>\n",
       "      <td>1</td>\n",
       "      <td>101348.88</td>\n",
       "      <td>1</td>\n",
       "      <td>(32.8, 47.6]</td>\n",
       "    </tr>\n",
       "    <tr>\n",
       "      <th>1</th>\n",
       "      <td>2</td>\n",
       "      <td>15647311</td>\n",
       "      <td>Hill</td>\n",
       "      <td>2</td>\n",
       "      <td>2</td>\n",
       "      <td>1</td>\n",
       "      <td>1</td>\n",
       "      <td>1</td>\n",
       "      <td>83807.86</td>\n",
       "      <td>1</td>\n",
       "      <td>0</td>\n",
       "      <td>1</td>\n",
       "      <td>112542.58</td>\n",
       "      <td>0</td>\n",
       "      <td>(32.8, 47.6]</td>\n",
       "    </tr>\n",
       "    <tr>\n",
       "      <th>2</th>\n",
       "      <td>3</td>\n",
       "      <td>15619304</td>\n",
       "      <td>Onio</td>\n",
       "      <td>1</td>\n",
       "      <td>0</td>\n",
       "      <td>1</td>\n",
       "      <td>1</td>\n",
       "      <td>8</td>\n",
       "      <td>159660.80</td>\n",
       "      <td>3</td>\n",
       "      <td>1</td>\n",
       "      <td>0</td>\n",
       "      <td>113931.57</td>\n",
       "      <td>1</td>\n",
       "      <td>(32.8, 47.6]</td>\n",
       "    </tr>\n",
       "    <tr>\n",
       "      <th>3</th>\n",
       "      <td>4</td>\n",
       "      <td>15701354</td>\n",
       "      <td>Boni</td>\n",
       "      <td>3</td>\n",
       "      <td>0</td>\n",
       "      <td>1</td>\n",
       "      <td>1</td>\n",
       "      <td>1</td>\n",
       "      <td>0.00</td>\n",
       "      <td>2</td>\n",
       "      <td>0</td>\n",
       "      <td>0</td>\n",
       "      <td>93826.63</td>\n",
       "      <td>0</td>\n",
       "      <td>(32.8, 47.6]</td>\n",
       "    </tr>\n",
       "    <tr>\n",
       "      <th>4</th>\n",
       "      <td>5</td>\n",
       "      <td>15737888</td>\n",
       "      <td>Mitchell</td>\n",
       "      <td>4</td>\n",
       "      <td>2</td>\n",
       "      <td>1</td>\n",
       "      <td>1</td>\n",
       "      <td>2</td>\n",
       "      <td>125510.82</td>\n",
       "      <td>1</td>\n",
       "      <td>1</td>\n",
       "      <td>1</td>\n",
       "      <td>79084.10</td>\n",
       "      <td>0</td>\n",
       "      <td>(32.8, 47.6]</td>\n",
       "    </tr>\n",
       "  </tbody>\n",
       "</table>\n",
       "</div>"
      ],
      "text/plain": [
       "   RowNumber  CustomerId   Surname  CreditScore  Geography  Gender  Age  \\\n",
       "0          1    15634602  Hargrave            2          0       1    1   \n",
       "1          2    15647311      Hill            2          2       1    1   \n",
       "2          3    15619304      Onio            1          0       1    1   \n",
       "3          4    15701354      Boni            3          0       1    1   \n",
       "4          5    15737888  Mitchell            4          2       1    1   \n",
       "\n",
       "   Tenure    Balance  NumOfProducts  HasCrCard  IsActiveMember  \\\n",
       "0       2       0.00              1          1               1   \n",
       "1       1   83807.86              1          0               1   \n",
       "2       8  159660.80              3          1               0   \n",
       "3       1       0.00              2          0               0   \n",
       "4       2  125510.82              1          1               1   \n",
       "\n",
       "   EstimatedSalary  Exited       AgeBand  \n",
       "0        101348.88       1  (32.8, 47.6]  \n",
       "1        112542.58       0  (32.8, 47.6]  \n",
       "2        113931.57       1  (32.8, 47.6]  \n",
       "3         93826.63       0  (32.8, 47.6]  \n",
       "4         79084.10       0  (32.8, 47.6]  "
      ]
     },
     "execution_count": 27,
     "metadata": {},
     "output_type": "execute_result"
    }
   ],
   "source": [
    "for dataset in df_:    \n",
    "    dataset.loc[(dataset['Age'] > 17.926) & (dataset['Age'] <= 32.8), 'Age'] = 0\n",
    "    dataset.loc[(dataset['Age'] > 32.8) & (dataset['Age'] <= 47.6), 'Age'] = 1\n",
    "    dataset.loc[(dataset['Age'] > 47.6) & (dataset['Age'] <= 62.4), 'Age'] = 2\n",
    "    dataset.loc[(dataset['Age'] > 62.4) & (dataset['Age'] <= 77.2), 'Age'] = 3\n",
    "    dataset.loc[ dataset['Age'] > 77.2, 'Age'] = 4\n",
    "df.head()"
   ]
  },
  {
   "cell_type": "code",
   "execution_count": 28,
   "id": "4108d23f",
   "metadata": {
    "execution": {
     "iopub.execute_input": "2021-10-27T15:47:42.119525Z",
     "iopub.status.busy": "2021-10-27T15:47:42.118428Z",
     "iopub.status.idle": "2021-10-27T15:47:42.122163Z",
     "shell.execute_reply": "2021-10-27T15:47:42.122642Z",
     "shell.execute_reply.started": "2021-10-27T14:59:32.491450Z"
    },
    "papermill": {
     "duration": 0.088191,
     "end_time": "2021-10-27T15:47:42.122796",
     "exception": false,
     "start_time": "2021-10-27T15:47:42.034605",
     "status": "completed"
    },
    "tags": []
   },
   "outputs": [
    {
     "data": {
      "text/html": [
       "<div>\n",
       "<style scoped>\n",
       "    .dataframe tbody tr th:only-of-type {\n",
       "        vertical-align: middle;\n",
       "    }\n",
       "\n",
       "    .dataframe tbody tr th {\n",
       "        vertical-align: top;\n",
       "    }\n",
       "\n",
       "    .dataframe thead th {\n",
       "        text-align: right;\n",
       "    }\n",
       "</style>\n",
       "<table border=\"1\" class=\"dataframe\">\n",
       "  <thead>\n",
       "    <tr style=\"text-align: right;\">\n",
       "      <th></th>\n",
       "      <th>RowNumber</th>\n",
       "      <th>CustomerId</th>\n",
       "      <th>Surname</th>\n",
       "      <th>CreditScore</th>\n",
       "      <th>Geography</th>\n",
       "      <th>Gender</th>\n",
       "      <th>Age</th>\n",
       "      <th>Tenure</th>\n",
       "      <th>Balance</th>\n",
       "      <th>NumOfProducts</th>\n",
       "      <th>HasCrCard</th>\n",
       "      <th>IsActiveMember</th>\n",
       "      <th>EstimatedSalary</th>\n",
       "      <th>Exited</th>\n",
       "    </tr>\n",
       "  </thead>\n",
       "  <tbody>\n",
       "    <tr>\n",
       "      <th>0</th>\n",
       "      <td>1</td>\n",
       "      <td>15634602</td>\n",
       "      <td>Hargrave</td>\n",
       "      <td>2</td>\n",
       "      <td>0</td>\n",
       "      <td>1</td>\n",
       "      <td>1</td>\n",
       "      <td>2</td>\n",
       "      <td>0.00</td>\n",
       "      <td>1</td>\n",
       "      <td>1</td>\n",
       "      <td>1</td>\n",
       "      <td>101348.88</td>\n",
       "      <td>1</td>\n",
       "    </tr>\n",
       "    <tr>\n",
       "      <th>1</th>\n",
       "      <td>2</td>\n",
       "      <td>15647311</td>\n",
       "      <td>Hill</td>\n",
       "      <td>2</td>\n",
       "      <td>2</td>\n",
       "      <td>1</td>\n",
       "      <td>1</td>\n",
       "      <td>1</td>\n",
       "      <td>83807.86</td>\n",
       "      <td>1</td>\n",
       "      <td>0</td>\n",
       "      <td>1</td>\n",
       "      <td>112542.58</td>\n",
       "      <td>0</td>\n",
       "    </tr>\n",
       "    <tr>\n",
       "      <th>2</th>\n",
       "      <td>3</td>\n",
       "      <td>15619304</td>\n",
       "      <td>Onio</td>\n",
       "      <td>1</td>\n",
       "      <td>0</td>\n",
       "      <td>1</td>\n",
       "      <td>1</td>\n",
       "      <td>8</td>\n",
       "      <td>159660.80</td>\n",
       "      <td>3</td>\n",
       "      <td>1</td>\n",
       "      <td>0</td>\n",
       "      <td>113931.57</td>\n",
       "      <td>1</td>\n",
       "    </tr>\n",
       "    <tr>\n",
       "      <th>3</th>\n",
       "      <td>4</td>\n",
       "      <td>15701354</td>\n",
       "      <td>Boni</td>\n",
       "      <td>3</td>\n",
       "      <td>0</td>\n",
       "      <td>1</td>\n",
       "      <td>1</td>\n",
       "      <td>1</td>\n",
       "      <td>0.00</td>\n",
       "      <td>2</td>\n",
       "      <td>0</td>\n",
       "      <td>0</td>\n",
       "      <td>93826.63</td>\n",
       "      <td>0</td>\n",
       "    </tr>\n",
       "    <tr>\n",
       "      <th>4</th>\n",
       "      <td>5</td>\n",
       "      <td>15737888</td>\n",
       "      <td>Mitchell</td>\n",
       "      <td>4</td>\n",
       "      <td>2</td>\n",
       "      <td>1</td>\n",
       "      <td>1</td>\n",
       "      <td>2</td>\n",
       "      <td>125510.82</td>\n",
       "      <td>1</td>\n",
       "      <td>1</td>\n",
       "      <td>1</td>\n",
       "      <td>79084.10</td>\n",
       "      <td>0</td>\n",
       "    </tr>\n",
       "  </tbody>\n",
       "</table>\n",
       "</div>"
      ],
      "text/plain": [
       "   RowNumber  CustomerId   Surname  CreditScore  Geography  Gender  Age  \\\n",
       "0          1    15634602  Hargrave            2          0       1    1   \n",
       "1          2    15647311      Hill            2          2       1    1   \n",
       "2          3    15619304      Onio            1          0       1    1   \n",
       "3          4    15701354      Boni            3          0       1    1   \n",
       "4          5    15737888  Mitchell            4          2       1    1   \n",
       "\n",
       "   Tenure    Balance  NumOfProducts  HasCrCard  IsActiveMember  \\\n",
       "0       2       0.00              1          1               1   \n",
       "1       1   83807.86              1          0               1   \n",
       "2       8  159660.80              3          1               0   \n",
       "3       1       0.00              2          0               0   \n",
       "4       2  125510.82              1          1               1   \n",
       "\n",
       "   EstimatedSalary  Exited  \n",
       "0        101348.88       1  \n",
       "1        112542.58       0  \n",
       "2        113931.57       1  \n",
       "3         93826.63       0  \n",
       "4         79084.10       0  "
      ]
     },
     "execution_count": 28,
     "metadata": {},
     "output_type": "execute_result"
    }
   ],
   "source": [
    "df = df.drop(['AgeBand'], axis=1)\n",
    "df.head()"
   ]
  },
  {
   "cell_type": "markdown",
   "id": "2996d904",
   "metadata": {
    "papermill": {
     "duration": 0.067905,
     "end_time": "2021-10-27T15:47:42.263742",
     "exception": false,
     "start_time": "2021-10-27T15:47:42.195837",
     "status": "completed"
    },
    "tags": []
   },
   "source": [
    "### `Tenure`:\n",
    ">#### Tenure has 11 unique values that are just number of years from 0 to 10. Hence, I kept it as it is."
   ]
  },
  {
   "cell_type": "code",
   "execution_count": 29,
   "id": "0eb4baa2",
   "metadata": {
    "execution": {
     "iopub.execute_input": "2021-10-27T15:47:42.406078Z",
     "iopub.status.busy": "2021-10-27T15:47:42.405240Z",
     "iopub.status.idle": "2021-10-27T15:47:42.410186Z",
     "shell.execute_reply": "2021-10-27T15:47:42.409713Z",
     "shell.execute_reply.started": "2021-10-27T15:02:03.558157Z"
    },
    "papermill": {
     "duration": 0.076956,
     "end_time": "2021-10-27T15:47:42.410299",
     "exception": false,
     "start_time": "2021-10-27T15:47:42.333343",
     "status": "completed"
    },
    "tags": []
   },
   "outputs": [
    {
     "data": {
      "text/plain": [
       "11"
      ]
     },
     "execution_count": 29,
     "metadata": {},
     "output_type": "execute_result"
    }
   ],
   "source": [
    "df['Tenure'].nunique()"
   ]
  },
  {
   "cell_type": "code",
   "execution_count": 30,
   "id": "379baa32",
   "metadata": {
    "execution": {
     "iopub.execute_input": "2021-10-27T15:47:42.549889Z",
     "iopub.status.busy": "2021-10-27T15:47:42.549161Z",
     "iopub.status.idle": "2021-10-27T15:47:42.552723Z",
     "shell.execute_reply": "2021-10-27T15:47:42.552295Z",
     "shell.execute_reply.started": "2021-10-27T15:02:04.474925Z"
    },
    "papermill": {
     "duration": 0.076256,
     "end_time": "2021-10-27T15:47:42.552830",
     "exception": false,
     "start_time": "2021-10-27T15:47:42.476574",
     "status": "completed"
    },
    "tags": []
   },
   "outputs": [
    {
     "data": {
      "text/plain": [
       "array([ 2,  1,  8,  7,  4,  6,  3, 10,  5,  9,  0])"
      ]
     },
     "execution_count": 30,
     "metadata": {},
     "output_type": "execute_result"
    }
   ],
   "source": [
    "df['Tenure'].unique()"
   ]
  },
  {
   "cell_type": "markdown",
   "id": "a335c4bc",
   "metadata": {
    "papermill": {
     "duration": 0.066511,
     "end_time": "2021-10-27T15:47:42.685440",
     "exception": false,
     "start_time": "2021-10-27T15:47:42.618929",
     "status": "completed"
    },
    "tags": []
   },
   "source": [
    "### `Bank Balance`:\n",
    "#### Distribution plot for customer bank balance:"
   ]
  },
  {
   "cell_type": "code",
   "execution_count": 31,
   "id": "2d8601b3",
   "metadata": {
    "execution": {
     "iopub.execute_input": "2021-10-27T15:47:42.845299Z",
     "iopub.status.busy": "2021-10-27T15:47:42.841508Z",
     "iopub.status.idle": "2021-10-27T15:47:43.059829Z",
     "shell.execute_reply": "2021-10-27T15:47:43.060464Z",
     "shell.execute_reply.started": "2021-10-27T15:02:27.868397Z"
    },
    "papermill": {
     "duration": 0.308863,
     "end_time": "2021-10-27T15:47:43.060637",
     "exception": false,
     "start_time": "2021-10-27T15:47:42.751774",
     "status": "completed"
    },
    "tags": []
   },
   "outputs": [
    {
     "data": {
      "image/png": "[encoded data removed]",
      "text/plain": [
       "<Figure size 864x576 with 1 Axes>"
      ]
     },
     "metadata": {
      "needs_background": "light"
     },
     "output_type": "display_data"
    }
   ],
   "source": [
    "plt.figure(figsize=(12, 8))\n",
    "sns.distplot(x=data[\"Balance\"], axlabel=\"Bank Balance\", color=\"violet\")\n",
    "plt.show()"
   ]
  },
  {
   "cell_type": "code",
   "execution_count": 32,
   "id": "2ee8bfef",
   "metadata": {
    "execution": {
     "iopub.execute_input": "2021-10-27T15:47:43.203774Z",
     "iopub.status.busy": "2021-10-27T15:47:43.202955Z",
     "iopub.status.idle": "2021-10-27T15:47:43.218270Z",
     "shell.execute_reply": "2021-10-27T15:47:43.218642Z",
     "shell.execute_reply.started": "2021-10-27T15:02:34.103360Z"
    },
    "papermill": {
     "duration": 0.090371,
     "end_time": "2021-10-27T15:47:43.218795",
     "exception": false,
     "start_time": "2021-10-27T15:47:43.128424",
     "status": "completed"
    },
    "tags": []
   },
   "outputs": [
    {
     "data": {
      "text/html": [
       "<div>\n",
       "<style scoped>\n",
       "    .dataframe tbody tr th:only-of-type {\n",
       "        vertical-align: middle;\n",
       "    }\n",
       "\n",
       "    .dataframe tbody tr th {\n",
       "        vertical-align: top;\n",
       "    }\n",
       "\n",
       "    .dataframe thead th {\n",
       "        text-align: right;\n",
       "    }\n",
       "</style>\n",
       "<table border=\"1\" class=\"dataframe\">\n",
       "  <thead>\n",
       "    <tr style=\"text-align: right;\">\n",
       "      <th></th>\n",
       "      <th>BalanceBand</th>\n",
       "      <th>Exited</th>\n",
       "    </tr>\n",
       "  </thead>\n",
       "  <tbody>\n",
       "    <tr>\n",
       "      <th>0</th>\n",
       "      <td>(-250.898, 50179.618]</td>\n",
       "      <td>0.142470</td>\n",
       "    </tr>\n",
       "    <tr>\n",
       "      <th>1</th>\n",
       "      <td>(50179.618, 100359.236]</td>\n",
       "      <td>0.199609</td>\n",
       "    </tr>\n",
       "    <tr>\n",
       "      <th>2</th>\n",
       "      <td>(100359.236, 150538.854]</td>\n",
       "      <td>0.257837</td>\n",
       "    </tr>\n",
       "    <tr>\n",
       "      <th>3</th>\n",
       "      <td>(150538.854, 200718.472]</td>\n",
       "      <td>0.217486</td>\n",
       "    </tr>\n",
       "    <tr>\n",
       "      <th>4</th>\n",
       "      <td>(200718.472, 250898.09]</td>\n",
       "      <td>0.593750</td>\n",
       "    </tr>\n",
       "  </tbody>\n",
       "</table>\n",
       "</div>"
      ],
      "text/plain": [
       "                BalanceBand    Exited\n",
       "0     (-250.898, 50179.618]  0.142470\n",
       "1   (50179.618, 100359.236]  0.199609\n",
       "2  (100359.236, 150538.854]  0.257837\n",
       "3  (150538.854, 200718.472]  0.217486\n",
       "4   (200718.472, 250898.09]  0.593750"
      ]
     },
     "execution_count": 32,
     "metadata": {},
     "output_type": "execute_result"
    }
   ],
   "source": [
    "df['BalanceBand'] = pd.cut(df['Balance'], 5)\n",
    "df[['BalanceBand', 'Exited']].groupby(['BalanceBand'], as_index=False).mean().sort_values(by='BalanceBand', ascending=True)"
   ]
  },
  {
   "cell_type": "code",
   "execution_count": 33,
   "id": "179599d5",
   "metadata": {
    "execution": {
     "iopub.execute_input": "2021-10-27T15:47:43.365537Z",
     "iopub.status.busy": "2021-10-27T15:47:43.364731Z",
     "iopub.status.idle": "2021-10-27T15:47:43.367734Z",
     "shell.execute_reply": "2021-10-27T15:47:43.367310Z",
     "shell.execute_reply.started": "2021-10-27T15:03:35.277530Z"
    },
    "papermill": {
     "duration": 0.075735,
     "end_time": "2021-10-27T15:47:43.367850",
     "exception": false,
     "start_time": "2021-10-27T15:47:43.292115",
     "status": "completed"
    },
    "tags": []
   },
   "outputs": [],
   "source": [
    "df_ = [df]"
   ]
  },
  {
   "cell_type": "code",
   "execution_count": 34,
   "id": "594c6907",
   "metadata": {
    "execution": {
     "iopub.execute_input": "2021-10-27T15:47:43.515945Z",
     "iopub.status.busy": "2021-10-27T15:47:43.515037Z",
     "iopub.status.idle": "2021-10-27T15:47:43.535891Z",
     "shell.execute_reply": "2021-10-27T15:47:43.535438Z",
     "shell.execute_reply.started": "2021-10-27T15:03:37.933356Z"
    },
    "papermill": {
     "duration": 0.098297,
     "end_time": "2021-10-27T15:47:43.536031",
     "exception": false,
     "start_time": "2021-10-27T15:47:43.437734",
     "status": "completed"
    },
    "tags": []
   },
   "outputs": [
    {
     "data": {
      "text/html": [
       "<div>\n",
       "<style scoped>\n",
       "    .dataframe tbody tr th:only-of-type {\n",
       "        vertical-align: middle;\n",
       "    }\n",
       "\n",
       "    .dataframe tbody tr th {\n",
       "        vertical-align: top;\n",
       "    }\n",
       "\n",
       "    .dataframe thead th {\n",
       "        text-align: right;\n",
       "    }\n",
       "</style>\n",
       "<table border=\"1\" class=\"dataframe\">\n",
       "  <thead>\n",
       "    <tr style=\"text-align: right;\">\n",
       "      <th></th>\n",
       "      <th>RowNumber</th>\n",
       "      <th>CustomerId</th>\n",
       "      <th>Surname</th>\n",
       "      <th>CreditScore</th>\n",
       "      <th>Geography</th>\n",
       "      <th>Gender</th>\n",
       "      <th>Age</th>\n",
       "      <th>Tenure</th>\n",
       "      <th>Balance</th>\n",
       "      <th>NumOfProducts</th>\n",
       "      <th>HasCrCard</th>\n",
       "      <th>IsActiveMember</th>\n",
       "      <th>EstimatedSalary</th>\n",
       "      <th>Exited</th>\n",
       "      <th>BalanceBand</th>\n",
       "    </tr>\n",
       "  </thead>\n",
       "  <tbody>\n",
       "    <tr>\n",
       "      <th>0</th>\n",
       "      <td>1</td>\n",
       "      <td>15634602</td>\n",
       "      <td>Hargrave</td>\n",
       "      <td>2</td>\n",
       "      <td>0</td>\n",
       "      <td>1</td>\n",
       "      <td>1</td>\n",
       "      <td>2</td>\n",
       "      <td>0</td>\n",
       "      <td>1</td>\n",
       "      <td>1</td>\n",
       "      <td>1</td>\n",
       "      <td>101348.88</td>\n",
       "      <td>1</td>\n",
       "      <td>(-250.898, 50179.618]</td>\n",
       "    </tr>\n",
       "    <tr>\n",
       "      <th>1</th>\n",
       "      <td>2</td>\n",
       "      <td>15647311</td>\n",
       "      <td>Hill</td>\n",
       "      <td>2</td>\n",
       "      <td>2</td>\n",
       "      <td>1</td>\n",
       "      <td>1</td>\n",
       "      <td>1</td>\n",
       "      <td>1</td>\n",
       "      <td>1</td>\n",
       "      <td>0</td>\n",
       "      <td>1</td>\n",
       "      <td>112542.58</td>\n",
       "      <td>0</td>\n",
       "      <td>(50179.618, 100359.236]</td>\n",
       "    </tr>\n",
       "    <tr>\n",
       "      <th>2</th>\n",
       "      <td>3</td>\n",
       "      <td>15619304</td>\n",
       "      <td>Onio</td>\n",
       "      <td>1</td>\n",
       "      <td>0</td>\n",
       "      <td>1</td>\n",
       "      <td>1</td>\n",
       "      <td>8</td>\n",
       "      <td>3</td>\n",
       "      <td>3</td>\n",
       "      <td>1</td>\n",
       "      <td>0</td>\n",
       "      <td>113931.57</td>\n",
       "      <td>1</td>\n",
       "      <td>(150538.854, 200718.472]</td>\n",
       "    </tr>\n",
       "    <tr>\n",
       "      <th>3</th>\n",
       "      <td>4</td>\n",
       "      <td>15701354</td>\n",
       "      <td>Boni</td>\n",
       "      <td>3</td>\n",
       "      <td>0</td>\n",
       "      <td>1</td>\n",
       "      <td>1</td>\n",
       "      <td>1</td>\n",
       "      <td>0</td>\n",
       "      <td>2</td>\n",
       "      <td>0</td>\n",
       "      <td>0</td>\n",
       "      <td>93826.63</td>\n",
       "      <td>0</td>\n",
       "      <td>(-250.898, 50179.618]</td>\n",
       "    </tr>\n",
       "    <tr>\n",
       "      <th>4</th>\n",
       "      <td>5</td>\n",
       "      <td>15737888</td>\n",
       "      <td>Mitchell</td>\n",
       "      <td>4</td>\n",
       "      <td>2</td>\n",
       "      <td>1</td>\n",
       "      <td>1</td>\n",
       "      <td>2</td>\n",
       "      <td>2</td>\n",
       "      <td>1</td>\n",
       "      <td>1</td>\n",
       "      <td>1</td>\n",
       "      <td>79084.10</td>\n",
       "      <td>0</td>\n",
       "      <td>(100359.236, 150538.854]</td>\n",
       "    </tr>\n",
       "  </tbody>\n",
       "</table>\n",
       "</div>"
      ],
      "text/plain": [
       "   RowNumber  CustomerId   Surname  CreditScore  Geography  Gender  Age  \\\n",
       "0          1    15634602  Hargrave            2          0       1    1   \n",
       "1          2    15647311      Hill            2          2       1    1   \n",
       "2          3    15619304      Onio            1          0       1    1   \n",
       "3          4    15701354      Boni            3          0       1    1   \n",
       "4          5    15737888  Mitchell            4          2       1    1   \n",
       "\n",
       "   Tenure  Balance  NumOfProducts  HasCrCard  IsActiveMember  EstimatedSalary  \\\n",
       "0       2        0              1          1               1        101348.88   \n",
       "1       1        1              1          0               1        112542.58   \n",
       "2       8        3              3          1               0        113931.57   \n",
       "3       1        0              2          0               0         93826.63   \n",
       "4       2        2              1          1               1         79084.10   \n",
       "\n",
       "   Exited               BalanceBand  \n",
       "0       1     (-250.898, 50179.618]  \n",
       "1       0   (50179.618, 100359.236]  \n",
       "2       1  (150538.854, 200718.472]  \n",
       "3       0     (-250.898, 50179.618]  \n",
       "4       0  (100359.236, 150538.854]  "
      ]
     },
     "execution_count": 34,
     "metadata": {},
     "output_type": "execute_result"
    }
   ],
   "source": [
    "for dataset in df_:    \n",
    "    dataset.loc[dataset['Balance'] <= 50179.618, 'Balance'] = 0\n",
    "    dataset.loc[(dataset['Balance'] > 50179.618) & (dataset['Balance'] <= 100359.236), 'Balance'] = 1\n",
    "    dataset.loc[(dataset['Balance'] > 100359.236) & (dataset['Balance'] <= 150538.854), 'Balance'] = 2\n",
    "    dataset.loc[(dataset['Balance'] > 150538.854) & (dataset['Balance'] <= 200718.472), 'Balance'] = 3\n",
    "    dataset.loc[(dataset['Balance'] > 200718.472) & (dataset['Balance'] <=  250898.09), 'Balance'] = 4\n",
    "    df['Balance'] = df['Balance'].astype(int)\n",
    "df.head()"
   ]
  },
  {
   "cell_type": "code",
   "execution_count": 35,
   "id": "af9c6e93",
   "metadata": {
    "execution": {
     "iopub.execute_input": "2021-10-27T15:47:43.685683Z",
     "iopub.status.busy": "2021-10-27T15:47:43.684787Z",
     "iopub.status.idle": "2021-10-27T15:47:43.689329Z",
     "shell.execute_reply": "2021-10-27T15:47:43.688875Z",
     "shell.execute_reply.started": "2021-10-27T15:03:40.948224Z"
    },
    "papermill": {
     "duration": 0.079319,
     "end_time": "2021-10-27T15:47:43.689444",
     "exception": false,
     "start_time": "2021-10-27T15:47:43.610125",
     "status": "completed"
    },
    "tags": []
   },
   "outputs": [],
   "source": [
    "df = df.drop(['BalanceBand'], axis=1)\n",
    "df_ = [df]"
   ]
  },
  {
   "cell_type": "markdown",
   "id": "02641b9e",
   "metadata": {
    "papermill": {
     "duration": 0.070694,
     "end_time": "2021-10-27T15:47:43.833040",
     "exception": false,
     "start_time": "2021-10-27T15:47:43.762346",
     "status": "completed"
    },
    "tags": []
   },
   "source": [
    "### `Estimated Salary`:\n",
    "#### Distribution plot for customer salary:"
   ]
  },
  {
   "cell_type": "code",
   "execution_count": 36,
   "id": "089af7d4",
   "metadata": {
    "execution": {
     "iopub.execute_input": "2021-10-27T15:47:43.997834Z",
     "iopub.status.busy": "2021-10-27T15:47:43.996535Z",
     "iopub.status.idle": "2021-10-27T15:47:44.194606Z",
     "shell.execute_reply": "2021-10-27T15:47:44.194147Z",
     "shell.execute_reply.started": "2021-10-27T15:04:00.510532Z"
    },
    "papermill": {
     "duration": 0.292636,
     "end_time": "2021-10-27T15:47:44.194735",
     "exception": false,
     "start_time": "2021-10-27T15:47:43.902099",
     "status": "completed"
    },
    "tags": []
   },
   "outputs": [
    {
     "data": {
      "image/png": "[encoded data removed]",
      "text/plain": [
       "<Figure size 864x360 with 1 Axes>"
      ]
     },
     "metadata": {
      "needs_background": "light"
     },
     "output_type": "display_data"
    }
   ],
   "source": [
    "plt.figure(figsize=(12, 5))\n",
    "sns.distplot(x=data[\"EstimatedSalary\"], color=\"violet\")\n",
    "plt.show()"
   ]
  },
  {
   "cell_type": "code",
   "execution_count": 37,
   "id": "e6be59f3",
   "metadata": {
    "execution": {
     "iopub.execute_input": "2021-10-27T15:47:44.342722Z",
     "iopub.status.busy": "2021-10-27T15:47:44.341897Z",
     "iopub.status.idle": "2021-10-27T15:47:44.357286Z",
     "shell.execute_reply": "2021-10-27T15:47:44.357702Z",
     "shell.execute_reply.started": "2021-10-27T15:04:05.016832Z"
    },
    "papermill": {
     "duration": 0.090511,
     "end_time": "2021-10-27T15:47:44.357852",
     "exception": false,
     "start_time": "2021-10-27T15:47:44.267341",
     "status": "completed"
    },
    "tags": []
   },
   "outputs": [
    {
     "data": {
      "text/html": [
       "<div>\n",
       "<style scoped>\n",
       "    .dataframe tbody tr th:only-of-type {\n",
       "        vertical-align: middle;\n",
       "    }\n",
       "\n",
       "    .dataframe tbody tr th {\n",
       "        vertical-align: top;\n",
       "    }\n",
       "\n",
       "    .dataframe thead th {\n",
       "        text-align: right;\n",
       "    }\n",
       "</style>\n",
       "<table border=\"1\" class=\"dataframe\">\n",
       "  <thead>\n",
       "    <tr style=\"text-align: right;\">\n",
       "      <th></th>\n",
       "      <th>EstimatedSalaryBand</th>\n",
       "      <th>Exited</th>\n",
       "    </tr>\n",
       "  </thead>\n",
       "  <tbody>\n",
       "    <tr>\n",
       "      <th>0</th>\n",
       "      <td>(-188.401, 50006.805]</td>\n",
       "      <td>0.199348</td>\n",
       "    </tr>\n",
       "    <tr>\n",
       "      <th>1</th>\n",
       "      <td>(50006.805, 100002.03]</td>\n",
       "      <td>0.198660</td>\n",
       "    </tr>\n",
       "    <tr>\n",
       "      <th>2</th>\n",
       "      <td>(100002.03, 149997.255]</td>\n",
       "      <td>0.202348</td>\n",
       "    </tr>\n",
       "    <tr>\n",
       "      <th>3</th>\n",
       "      <td>(149997.255, 199992.48]</td>\n",
       "      <td>0.214664</td>\n",
       "    </tr>\n",
       "  </tbody>\n",
       "</table>\n",
       "</div>"
      ],
      "text/plain": [
       "       EstimatedSalaryBand    Exited\n",
       "0    (-188.401, 50006.805]  0.199348\n",
       "1   (50006.805, 100002.03]  0.198660\n",
       "2  (100002.03, 149997.255]  0.202348\n",
       "3  (149997.255, 199992.48]  0.214664"
      ]
     },
     "execution_count": 37,
     "metadata": {},
     "output_type": "execute_result"
    }
   ],
   "source": [
    "df['EstimatedSalaryBand'] = pd.cut(df['EstimatedSalary'], 4)\n",
    "df[['EstimatedSalaryBand', 'Exited']].groupby(['EstimatedSalaryBand'], as_index=False).mean().sort_values(by='EstimatedSalaryBand', ascending=True)"
   ]
  },
  {
   "cell_type": "code",
   "execution_count": 38,
   "id": "d770d24a",
   "metadata": {
    "execution": {
     "iopub.execute_input": "2021-10-27T15:47:44.511042Z",
     "iopub.status.busy": "2021-10-27T15:47:44.510162Z",
     "iopub.status.idle": "2021-10-27T15:47:44.527307Z",
     "shell.execute_reply": "2021-10-27T15:47:44.527722Z",
     "shell.execute_reply.started": "2021-10-27T15:04:06.908033Z"
    },
    "papermill": {
     "duration": 0.095412,
     "end_time": "2021-10-27T15:47:44.527861",
     "exception": false,
     "start_time": "2021-10-27T15:47:44.432449",
     "status": "completed"
    },
    "tags": []
   },
   "outputs": [
    {
     "data": {
      "text/html": [
       "<div>\n",
       "<style scoped>\n",
       "    .dataframe tbody tr th:only-of-type {\n",
       "        vertical-align: middle;\n",
       "    }\n",
       "\n",
       "    .dataframe tbody tr th {\n",
       "        vertical-align: top;\n",
       "    }\n",
       "\n",
       "    .dataframe thead th {\n",
       "        text-align: right;\n",
       "    }\n",
       "</style>\n",
       "<table border=\"1\" class=\"dataframe\">\n",
       "  <thead>\n",
       "    <tr style=\"text-align: right;\">\n",
       "      <th></th>\n",
       "      <th>RowNumber</th>\n",
       "      <th>CustomerId</th>\n",
       "      <th>Surname</th>\n",
       "      <th>CreditScore</th>\n",
       "      <th>Geography</th>\n",
       "      <th>Gender</th>\n",
       "      <th>Age</th>\n",
       "      <th>Tenure</th>\n",
       "      <th>Balance</th>\n",
       "      <th>NumOfProducts</th>\n",
       "      <th>HasCrCard</th>\n",
       "      <th>IsActiveMember</th>\n",
       "      <th>EstimatedSalary</th>\n",
       "      <th>Exited</th>\n",
       "      <th>EstimatedSalaryBand</th>\n",
       "    </tr>\n",
       "  </thead>\n",
       "  <tbody>\n",
       "    <tr>\n",
       "      <th>0</th>\n",
       "      <td>1</td>\n",
       "      <td>15634602</td>\n",
       "      <td>Hargrave</td>\n",
       "      <td>2</td>\n",
       "      <td>0</td>\n",
       "      <td>1</td>\n",
       "      <td>1</td>\n",
       "      <td>2</td>\n",
       "      <td>0</td>\n",
       "      <td>1</td>\n",
       "      <td>1</td>\n",
       "      <td>1</td>\n",
       "      <td>2</td>\n",
       "      <td>1</td>\n",
       "      <td>(100002.03, 149997.255]</td>\n",
       "    </tr>\n",
       "    <tr>\n",
       "      <th>1</th>\n",
       "      <td>2</td>\n",
       "      <td>15647311</td>\n",
       "      <td>Hill</td>\n",
       "      <td>2</td>\n",
       "      <td>2</td>\n",
       "      <td>1</td>\n",
       "      <td>1</td>\n",
       "      <td>1</td>\n",
       "      <td>1</td>\n",
       "      <td>1</td>\n",
       "      <td>0</td>\n",
       "      <td>1</td>\n",
       "      <td>2</td>\n",
       "      <td>0</td>\n",
       "      <td>(100002.03, 149997.255]</td>\n",
       "    </tr>\n",
       "    <tr>\n",
       "      <th>2</th>\n",
       "      <td>3</td>\n",
       "      <td>15619304</td>\n",
       "      <td>Onio</td>\n",
       "      <td>1</td>\n",
       "      <td>0</td>\n",
       "      <td>1</td>\n",
       "      <td>1</td>\n",
       "      <td>8</td>\n",
       "      <td>3</td>\n",
       "      <td>3</td>\n",
       "      <td>1</td>\n",
       "      <td>0</td>\n",
       "      <td>2</td>\n",
       "      <td>1</td>\n",
       "      <td>(100002.03, 149997.255]</td>\n",
       "    </tr>\n",
       "    <tr>\n",
       "      <th>3</th>\n",
       "      <td>4</td>\n",
       "      <td>15701354</td>\n",
       "      <td>Boni</td>\n",
       "      <td>3</td>\n",
       "      <td>0</td>\n",
       "      <td>1</td>\n",
       "      <td>1</td>\n",
       "      <td>1</td>\n",
       "      <td>0</td>\n",
       "      <td>2</td>\n",
       "      <td>0</td>\n",
       "      <td>0</td>\n",
       "      <td>1</td>\n",
       "      <td>0</td>\n",
       "      <td>(50006.805, 100002.03]</td>\n",
       "    </tr>\n",
       "    <tr>\n",
       "      <th>4</th>\n",
       "      <td>5</td>\n",
       "      <td>15737888</td>\n",
       "      <td>Mitchell</td>\n",
       "      <td>4</td>\n",
       "      <td>2</td>\n",
       "      <td>1</td>\n",
       "      <td>1</td>\n",
       "      <td>2</td>\n",
       "      <td>2</td>\n",
       "      <td>1</td>\n",
       "      <td>1</td>\n",
       "      <td>1</td>\n",
       "      <td>1</td>\n",
       "      <td>0</td>\n",
       "      <td>(50006.805, 100002.03]</td>\n",
       "    </tr>\n",
       "  </tbody>\n",
       "</table>\n",
       "</div>"
      ],
      "text/plain": [
       "   RowNumber  CustomerId   Surname  CreditScore  Geography  Gender  Age  \\\n",
       "0          1    15634602  Hargrave            2          0       1    1   \n",
       "1          2    15647311      Hill            2          2       1    1   \n",
       "2          3    15619304      Onio            1          0       1    1   \n",
       "3          4    15701354      Boni            3          0       1    1   \n",
       "4          5    15737888  Mitchell            4          2       1    1   \n",
       "\n",
       "   Tenure  Balance  NumOfProducts  HasCrCard  IsActiveMember  EstimatedSalary  \\\n",
       "0       2        0              1          1               1                2   \n",
       "1       1        1              1          0               1                2   \n",
       "2       8        3              3          1               0                2   \n",
       "3       1        0              2          0               0                1   \n",
       "4       2        2              1          1               1                1   \n",
       "\n",
       "   Exited      EstimatedSalaryBand  \n",
       "0       1  (100002.03, 149997.255]  \n",
       "1       0  (100002.03, 149997.255]  \n",
       "2       1  (100002.03, 149997.255]  \n",
       "3       0   (50006.805, 100002.03]  \n",
       "4       0   (50006.805, 100002.03]  "
      ]
     },
     "execution_count": 38,
     "metadata": {},
     "output_type": "execute_result"
    }
   ],
   "source": [
    "for dataset in df_:    \n",
    "    dataset.loc[(dataset['EstimatedSalary'] > -188.401) & (dataset['EstimatedSalary'] <= 50006.805), 'EstimatedSalary'] = 0\n",
    "    dataset.loc[(dataset['EstimatedSalary'] > 50006.805) & (dataset['EstimatedSalary'] <= 100002.03), 'EstimatedSalary'] = 1\n",
    "    dataset.loc[(dataset['EstimatedSalary'] > 100002.03) & (dataset['EstimatedSalary'] <= 149997.255), 'EstimatedSalary'] = 2\n",
    "    dataset.loc[(dataset['EstimatedSalary'] > 149997.255) & (dataset['EstimatedSalary'] <= 199992.48), 'EstimatedSalary'] = 3\n",
    "    df['EstimatedSalary'] = df['EstimatedSalary'].astype(int)\n",
    "df.head()"
   ]
  },
  {
   "cell_type": "code",
   "execution_count": 39,
   "id": "e440648c",
   "metadata": {
    "execution": {
     "iopub.execute_input": "2021-10-27T15:47:44.674759Z",
     "iopub.status.busy": "2021-10-27T15:47:44.673889Z",
     "iopub.status.idle": "2021-10-27T15:47:44.687075Z",
     "shell.execute_reply": "2021-10-27T15:47:44.686582Z",
     "shell.execute_reply.started": "2021-10-27T15:04:09.891168Z"
    },
    "papermill": {
     "duration": 0.088009,
     "end_time": "2021-10-27T15:47:44.687193",
     "exception": false,
     "start_time": "2021-10-27T15:47:44.599184",
     "status": "completed"
    },
    "tags": []
   },
   "outputs": [
    {
     "data": {
      "text/html": [
       "<div>\n",
       "<style scoped>\n",
       "    .dataframe tbody tr th:only-of-type {\n",
       "        vertical-align: middle;\n",
       "    }\n",
       "\n",
       "    .dataframe tbody tr th {\n",
       "        vertical-align: top;\n",
       "    }\n",
       "\n",
       "    .dataframe thead th {\n",
       "        text-align: right;\n",
       "    }\n",
       "</style>\n",
       "<table border=\"1\" class=\"dataframe\">\n",
       "  <thead>\n",
       "    <tr style=\"text-align: right;\">\n",
       "      <th></th>\n",
       "      <th>RowNumber</th>\n",
       "      <th>CustomerId</th>\n",
       "      <th>Surname</th>\n",
       "      <th>CreditScore</th>\n",
       "      <th>Geography</th>\n",
       "      <th>Gender</th>\n",
       "      <th>Age</th>\n",
       "      <th>Tenure</th>\n",
       "      <th>Balance</th>\n",
       "      <th>NumOfProducts</th>\n",
       "      <th>HasCrCard</th>\n",
       "      <th>IsActiveMember</th>\n",
       "      <th>EstimatedSalary</th>\n",
       "      <th>Exited</th>\n",
       "    </tr>\n",
       "  </thead>\n",
       "  <tbody>\n",
       "    <tr>\n",
       "      <th>0</th>\n",
       "      <td>1</td>\n",
       "      <td>15634602</td>\n",
       "      <td>Hargrave</td>\n",
       "      <td>2</td>\n",
       "      <td>0</td>\n",
       "      <td>1</td>\n",
       "      <td>1</td>\n",
       "      <td>2</td>\n",
       "      <td>0</td>\n",
       "      <td>1</td>\n",
       "      <td>1</td>\n",
       "      <td>1</td>\n",
       "      <td>2</td>\n",
       "      <td>1</td>\n",
       "    </tr>\n",
       "    <tr>\n",
       "      <th>1</th>\n",
       "      <td>2</td>\n",
       "      <td>15647311</td>\n",
       "      <td>Hill</td>\n",
       "      <td>2</td>\n",
       "      <td>2</td>\n",
       "      <td>1</td>\n",
       "      <td>1</td>\n",
       "      <td>1</td>\n",
       "      <td>1</td>\n",
       "      <td>1</td>\n",
       "      <td>0</td>\n",
       "      <td>1</td>\n",
       "      <td>2</td>\n",
       "      <td>0</td>\n",
       "    </tr>\n",
       "    <tr>\n",
       "      <th>2</th>\n",
       "      <td>3</td>\n",
       "      <td>15619304</td>\n",
       "      <td>Onio</td>\n",
       "      <td>1</td>\n",
       "      <td>0</td>\n",
       "      <td>1</td>\n",
       "      <td>1</td>\n",
       "      <td>8</td>\n",
       "      <td>3</td>\n",
       "      <td>3</td>\n",
       "      <td>1</td>\n",
       "      <td>0</td>\n",
       "      <td>2</td>\n",
       "      <td>1</td>\n",
       "    </tr>\n",
       "    <tr>\n",
       "      <th>3</th>\n",
       "      <td>4</td>\n",
       "      <td>15701354</td>\n",
       "      <td>Boni</td>\n",
       "      <td>3</td>\n",
       "      <td>0</td>\n",
       "      <td>1</td>\n",
       "      <td>1</td>\n",
       "      <td>1</td>\n",
       "      <td>0</td>\n",
       "      <td>2</td>\n",
       "      <td>0</td>\n",
       "      <td>0</td>\n",
       "      <td>1</td>\n",
       "      <td>0</td>\n",
       "    </tr>\n",
       "    <tr>\n",
       "      <th>4</th>\n",
       "      <td>5</td>\n",
       "      <td>15737888</td>\n",
       "      <td>Mitchell</td>\n",
       "      <td>4</td>\n",
       "      <td>2</td>\n",
       "      <td>1</td>\n",
       "      <td>1</td>\n",
       "      <td>2</td>\n",
       "      <td>2</td>\n",
       "      <td>1</td>\n",
       "      <td>1</td>\n",
       "      <td>1</td>\n",
       "      <td>1</td>\n",
       "      <td>0</td>\n",
       "    </tr>\n",
       "  </tbody>\n",
       "</table>\n",
       "</div>"
      ],
      "text/plain": [
       "   RowNumber  CustomerId   Surname  CreditScore  Geography  Gender  Age  \\\n",
       "0          1    15634602  Hargrave            2          0       1    1   \n",
       "1          2    15647311      Hill            2          2       1    1   \n",
       "2          3    15619304      Onio            1          0       1    1   \n",
       "3          4    15701354      Boni            3          0       1    1   \n",
       "4          5    15737888  Mitchell            4          2       1    1   \n",
       "\n",
       "   Tenure  Balance  NumOfProducts  HasCrCard  IsActiveMember  EstimatedSalary  \\\n",
       "0       2        0              1          1               1                2   \n",
       "1       1        1              1          0               1                2   \n",
       "2       8        3              3          1               0                2   \n",
       "3       1        0              2          0               0                1   \n",
       "4       2        2              1          1               1                1   \n",
       "\n",
       "   Exited  \n",
       "0       1  \n",
       "1       0  \n",
       "2       1  \n",
       "3       0  \n",
       "4       0  "
      ]
     },
     "execution_count": 39,
     "metadata": {},
     "output_type": "execute_result"
    }
   ],
   "source": [
    "df = df.drop(['EstimatedSalaryBand'], axis=1)\n",
    "df.head()"
   ]
  },
  {
   "cell_type": "markdown",
   "id": "daab7cfa",
   "metadata": {
    "papermill": {
     "duration": 0.135781,
     "end_time": "2021-10-27T15:47:44.905896",
     "exception": false,
     "start_time": "2021-10-27T15:47:44.770115",
     "status": "completed"
    },
    "tags": []
   },
   "source": [
    ">#### Removing other columns with very little to no information. "
   ]
  },
  {
   "cell_type": "code",
   "execution_count": 40,
   "id": "cd9c0007",
   "metadata": {
    "execution": {
     "iopub.execute_input": "2021-10-27T15:47:45.155139Z",
     "iopub.status.busy": "2021-10-27T15:47:45.154310Z",
     "iopub.status.idle": "2021-10-27T15:47:45.168798Z",
     "shell.execute_reply": "2021-10-27T15:47:45.169591Z",
     "shell.execute_reply.started": "2021-10-27T15:04:40.400908Z"
    },
    "papermill": {
     "duration": 0.139141,
     "end_time": "2021-10-27T15:47:45.169801",
     "exception": false,
     "start_time": "2021-10-27T15:47:45.030660",
     "status": "completed"
    },
    "tags": []
   },
   "outputs": [
    {
     "data": {
      "text/html": [
       "<div>\n",
       "<style scoped>\n",
       "    .dataframe tbody tr th:only-of-type {\n",
       "        vertical-align: middle;\n",
       "    }\n",
       "\n",
       "    .dataframe tbody tr th {\n",
       "        vertical-align: top;\n",
       "    }\n",
       "\n",
       "    .dataframe thead th {\n",
       "        text-align: right;\n",
       "    }\n",
       "</style>\n",
       "<table border=\"1\" class=\"dataframe\">\n",
       "  <thead>\n",
       "    <tr style=\"text-align: right;\">\n",
       "      <th></th>\n",
       "      <th>CreditScore</th>\n",
       "      <th>Geography</th>\n",
       "      <th>Gender</th>\n",
       "      <th>Age</th>\n",
       "      <th>Tenure</th>\n",
       "      <th>Balance</th>\n",
       "      <th>NumOfProducts</th>\n",
       "      <th>HasCrCard</th>\n",
       "      <th>IsActiveMember</th>\n",
       "      <th>EstimatedSalary</th>\n",
       "    </tr>\n",
       "  </thead>\n",
       "  <tbody>\n",
       "    <tr>\n",
       "      <th>0</th>\n",
       "      <td>2</td>\n",
       "      <td>0</td>\n",
       "      <td>1</td>\n",
       "      <td>1</td>\n",
       "      <td>2</td>\n",
       "      <td>0</td>\n",
       "      <td>1</td>\n",
       "      <td>1</td>\n",
       "      <td>1</td>\n",
       "      <td>2</td>\n",
       "    </tr>\n",
       "    <tr>\n",
       "      <th>1</th>\n",
       "      <td>2</td>\n",
       "      <td>2</td>\n",
       "      <td>1</td>\n",
       "      <td>1</td>\n",
       "      <td>1</td>\n",
       "      <td>1</td>\n",
       "      <td>1</td>\n",
       "      <td>0</td>\n",
       "      <td>1</td>\n",
       "      <td>2</td>\n",
       "    </tr>\n",
       "    <tr>\n",
       "      <th>2</th>\n",
       "      <td>1</td>\n",
       "      <td>0</td>\n",
       "      <td>1</td>\n",
       "      <td>1</td>\n",
       "      <td>8</td>\n",
       "      <td>3</td>\n",
       "      <td>3</td>\n",
       "      <td>1</td>\n",
       "      <td>0</td>\n",
       "      <td>2</td>\n",
       "    </tr>\n",
       "    <tr>\n",
       "      <th>3</th>\n",
       "      <td>3</td>\n",
       "      <td>0</td>\n",
       "      <td>1</td>\n",
       "      <td>1</td>\n",
       "      <td>1</td>\n",
       "      <td>0</td>\n",
       "      <td>2</td>\n",
       "      <td>0</td>\n",
       "      <td>0</td>\n",
       "      <td>1</td>\n",
       "    </tr>\n",
       "    <tr>\n",
       "      <th>4</th>\n",
       "      <td>4</td>\n",
       "      <td>2</td>\n",
       "      <td>1</td>\n",
       "      <td>1</td>\n",
       "      <td>2</td>\n",
       "      <td>2</td>\n",
       "      <td>1</td>\n",
       "      <td>1</td>\n",
       "      <td>1</td>\n",
       "      <td>1</td>\n",
       "    </tr>\n",
       "  </tbody>\n",
       "</table>\n",
       "</div>"
      ],
      "text/plain": [
       "   CreditScore  Geography  Gender  Age  Tenure  Balance  NumOfProducts  \\\n",
       "0            2          0       1    1       2        0              1   \n",
       "1            2          2       1    1       1        1              1   \n",
       "2            1          0       1    1       8        3              3   \n",
       "3            3          0       1    1       1        0              2   \n",
       "4            4          2       1    1       2        2              1   \n",
       "\n",
       "   HasCrCard  IsActiveMember  EstimatedSalary  \n",
       "0          1               1                2  \n",
       "1          0               1                2  \n",
       "2          1               0                2  \n",
       "3          0               0                1  \n",
       "4          1               1                1  "
      ]
     },
     "execution_count": 40,
     "metadata": {},
     "output_type": "execute_result"
    }
   ],
   "source": [
    "df = df.drop(['RowNumber', 'CustomerId', 'Surname', 'Exited'], axis=1)\n",
    "df.head()"
   ]
  },
  {
   "cell_type": "markdown",
   "id": "2d944f59",
   "metadata": {
    "papermill": {
     "duration": 0.110557,
     "end_time": "2021-10-27T15:47:45.398108",
     "exception": false,
     "start_time": "2021-10-27T15:47:45.287551",
     "status": "completed"
    },
    "tags": []
   },
   "source": [
    "#### Here, we have a modified table with all the values converted into a format that our model can understand. Now, let's get it prepared to pass it into the model."
   ]
  },
  {
   "cell_type": "code",
   "execution_count": 41,
   "id": "49a6b4a6",
   "metadata": {
    "execution": {
     "iopub.execute_input": "2021-10-27T15:47:45.550871Z",
     "iopub.status.busy": "2021-10-27T15:47:45.550038Z",
     "iopub.status.idle": "2021-10-27T15:47:45.555430Z",
     "shell.execute_reply": "2021-10-27T15:47:45.554901Z",
     "shell.execute_reply.started": "2021-10-27T15:05:50.227594Z"
    },
    "papermill": {
     "duration": 0.085454,
     "end_time": "2021-10-27T15:47:45.555564",
     "exception": false,
     "start_time": "2021-10-27T15:47:45.470110",
     "status": "completed"
    },
    "tags": []
   },
   "outputs": [],
   "source": [
    "X_train, X_test, y_train, y_test = train_test_split(df, data['Exited'], test_size=0.15, random_state=seed)"
   ]
  },
  {
   "cell_type": "markdown",
   "id": "fd4236dc",
   "metadata": {
    "papermill": {
     "duration": 0.07288,
     "end_time": "2021-10-27T15:47:45.707339",
     "exception": false,
     "start_time": "2021-10-27T15:47:45.634459",
     "status": "completed"
    },
    "tags": []
   },
   "source": [
    "# 3. <a id='modeltraining'>Model Training</a>\n",
    "## 3.1. <a id='lrmodel'>Treating a Logistic Regression model as a base model</a>"
   ]
  },
  {
   "cell_type": "code",
   "execution_count": 42,
   "id": "37bb9e2d",
   "metadata": {
    "execution": {
     "iopub.execute_input": "2021-10-27T15:47:45.860231Z",
     "iopub.status.busy": "2021-10-27T15:47:45.859274Z",
     "iopub.status.idle": "2021-10-27T15:47:45.939512Z",
     "shell.execute_reply": "2021-10-27T15:47:45.940390Z",
     "shell.execute_reply.started": "2021-10-27T15:05:56.668902Z"
    },
    "papermill": {
     "duration": 0.159567,
     "end_time": "2021-10-27T15:47:45.940630",
     "exception": false,
     "start_time": "2021-10-27T15:47:45.781063",
     "status": "completed"
    },
    "tags": []
   },
   "outputs": [
    {
     "data": {
      "text/plain": [
       "LogisticRegression(random_state=46)"
      ]
     },
     "execution_count": 42,
     "metadata": {},
     "output_type": "execute_result"
    }
   ],
   "source": [
    "LR_model = LogisticRegression(random_state=seed)\n",
    "LR_model.fit(X_train, y_train)"
   ]
  },
  {
   "cell_type": "code",
   "execution_count": 43,
   "id": "e64397eb",
   "metadata": {
    "execution": {
     "iopub.execute_input": "2021-10-27T15:47:46.150014Z",
     "iopub.status.busy": "2021-10-27T15:47:46.149028Z",
     "iopub.status.idle": "2021-10-27T15:47:46.153943Z",
     "shell.execute_reply": "2021-10-27T15:47:46.154860Z",
     "shell.execute_reply.started": "2021-10-27T15:05:59.992657Z"
    },
    "papermill": {
     "duration": 0.083451,
     "end_time": "2021-10-27T15:47:46.155108",
     "exception": false,
     "start_time": "2021-10-27T15:47:46.071657",
     "status": "completed"
    },
    "tags": []
   },
   "outputs": [],
   "source": [
    "y_pred = LR_model.predict(X_test)"
   ]
  },
  {
   "cell_type": "code",
   "execution_count": 44,
   "id": "25131644",
   "metadata": {
    "execution": {
     "iopub.execute_input": "2021-10-27T15:47:46.396940Z",
     "iopub.status.busy": "2021-10-27T15:47:46.395953Z",
     "iopub.status.idle": "2021-10-27T15:47:46.608656Z",
     "shell.execute_reply": "2021-10-27T15:47:46.609606Z",
     "shell.execute_reply.started": "2021-10-27T15:06:01.828342Z"
    },
    "papermill": {
     "duration": 0.315195,
     "end_time": "2021-10-27T15:47:46.609771",
     "exception": false,
     "start_time": "2021-10-27T15:47:46.294576",
     "status": "completed"
    },
    "tags": []
   },
   "outputs": [
    {
     "data": {
      "text/plain": [
       "<sklearn.metrics._plot.roc_curve.RocCurveDisplay at 0x7fce06c759d0>"
      ]
     },
     "execution_count": 44,
     "metadata": {},
     "output_type": "execute_result"
    },
    {
     "data": {
      "image/png": "[encoded data removed]",
      "text/plain": [
       "<Figure size 432x432 with 1 Axes>"
      ]
     },
     "metadata": {
      "needs_background": "light"
     },
     "output_type": "display_data"
    }
   ],
   "source": [
    "fig, ax = plt.subplots()\n",
    "ax.plot([0, 1], [0, 1], linestyle=\"--\", lw=2, color=\"r\", label=\"Chance\", alpha=0.8)\n",
    "fig.set_figheight(6)\n",
    "fig.set_figwidth(6)\n",
    "plot_roc_curve(LR_model, X_test, y_test, ax=ax)"
   ]
  },
  {
   "cell_type": "markdown",
   "id": "12a8974f",
   "metadata": {
    "papermill": {
     "duration": 0.108832,
     "end_time": "2021-10-27T15:47:46.791238",
     "exception": false,
     "start_time": "2021-10-27T15:47:46.682406",
     "status": "completed"
    },
    "tags": []
   },
   "source": [
    "## 3.2. <a id='xgboost'>Training on XG-Boost</a>\n",
    ">#### Calling the XG-Boost model object and setting `tree_method='gpu_hist'` to be able to train the model on the GPU which is much faster than training it normally on CPU."
   ]
  },
  {
   "cell_type": "code",
   "execution_count": 45,
   "id": "147b9b50",
   "metadata": {
    "execution": {
     "iopub.execute_input": "2021-10-27T15:47:46.951905Z",
     "iopub.status.busy": "2021-10-27T15:47:46.951294Z",
     "iopub.status.idle": "2021-10-27T15:47:50.832984Z",
     "shell.execute_reply": "2021-10-27T15:47:50.833677Z",
     "shell.execute_reply.started": "2021-10-27T15:06:09.173099Z"
    },
    "papermill": {
     "duration": 3.963227,
     "end_time": "2021-10-27T15:47:50.833888",
     "exception": false,
     "start_time": "2021-10-27T15:47:46.870661",
     "status": "completed"
    },
    "tags": []
   },
   "outputs": [
    {
     "name": "stdout",
     "output_type": "stream",
     "text": [
      "[15:47:50] WARNING: ../src/learner.cc:1095: Starting in XGBoost 1.3.0, the default evaluation metric used with the objective 'binary:logistic' was changed from 'error' to 'logloss'. Explicitly set eval_metric if you'd like to restore the old behavior.\n",
      "Your model is trained!\n"
     ]
    }
   ],
   "source": [
    "XGB_model = XGBClassifier(tree_method='gpu_hist')\n",
    "XGB_model.fit(X_train, y_train)\n",
    "print('Your model is trained!')"
   ]
  },
  {
   "cell_type": "code",
   "execution_count": 46,
   "id": "9928e976",
   "metadata": {
    "execution": {
     "iopub.execute_input": "2021-10-27T15:47:50.998619Z",
     "iopub.status.busy": "2021-10-27T15:47:50.991850Z",
     "iopub.status.idle": "2021-10-27T15:47:51.185221Z",
     "shell.execute_reply": "2021-10-27T15:47:51.185870Z",
     "shell.execute_reply.started": "2021-10-27T15:06:22.112771Z"
    },
    "papermill": {
     "duration": 0.275401,
     "end_time": "2021-10-27T15:47:51.186124",
     "exception": false,
     "start_time": "2021-10-27T15:47:50.910723",
     "status": "completed"
    },
    "tags": []
   },
   "outputs": [
    {
     "name": "stdout",
     "output_type": "stream",
     "text": [
      "Confusion Matrix: \n",
      " [[1102   76]\n",
      " [ 182  140]]\n"
     ]
    },
    {
     "data": {
      "text/plain": [
       "<sklearn.metrics._plot.roc_curve.RocCurveDisplay at 0x7fcd9406b4d0>"
      ]
     },
     "execution_count": 46,
     "metadata": {},
     "output_type": "execute_result"
    },
    {
     "data": {
      "image/png": "[encoded data removed]",
      "text/plain": [
       "<Figure size 432x432 with 1 Axes>"
      ]
     },
     "metadata": {
      "needs_background": "light"
     },
     "output_type": "display_data"
    }
   ],
   "source": [
    "y_pred1 = XGB_model.predict(X_test)\n",
    "print(\"Confusion Matrix: \\n\",confusion_matrix(y_test, y_pred1))\n",
    "fig, ax = plt.subplots()\n",
    "ax.plot([0, 1], [0, 1], linestyle=\"--\", lw=2, color=\"r\", label=\"Chance\", alpha=0.8)\n",
    "fig.set_figheight(6)\n",
    "fig.set_figwidth(6)\n",
    "plot_roc_curve(XGB_model, X_test, y_test, ax=ax)"
   ]
  },
  {
   "cell_type": "markdown",
   "id": "3304f832",
   "metadata": {
    "papermill": {
     "duration": 0.080194,
     "end_time": "2021-10-27T15:47:51.344327",
     "exception": false,
     "start_time": "2021-10-27T15:47:51.264133",
     "status": "completed"
    },
    "tags": []
   },
   "source": [
    "## 3.3. <a id='hyperparam'>HyperParameter Tuning</a>\n",
    "#### Determining the best hyperparameters using GridSearchCV"
   ]
  },
  {
   "cell_type": "markdown",
   "id": "a7f24cc3",
   "metadata": {
    "papermill": {
     "duration": 0.074728,
     "end_time": "2021-10-27T15:47:51.493623",
     "exception": false,
     "start_time": "2021-10-27T15:47:51.418895",
     "status": "completed"
    },
    "tags": []
   },
   "source": [
    ">`scale_pos_weight`: Control the balance of positive and negative weights, useful for unbalanced classes. A typical value to consider: sum(negative instances) / sum(positive instances) ==> already calculated over<a href=\"#imb\"> here.</a>  \n",
    "\n",
    ">`alpha`: L1 regularization term on weights. Increasing this value will make model more conservative.  \n",
    "\n",
    ">`max_depth`: Maximum depth of a tree. Increasing this value will make the model more complex and more likely to overfit.  \n",
    "\n",
    ">`gamma`: Minimum loss reduction required to make a further partition on a leaf node of the tree. The larger `gamma` is, the more conservative the algorithm will be. \n",
    "\n",
    ">`subsample`: Subsample ratio of the training instances. Setting it to 0.5 means that XGBoost would randomly sample half of the training data prior to growing trees. and this will prevent overfitting. \n",
    "\n",
    ">`learning_rate`: Step size shrinkage used in update to prevent overfitting. \n",
    "\n",
    ">`tree_method`: Basically to train XGBoost on cpu or gpu. Read more over in the <a href=\"https://xgboost.readthedocs.io/en/latest/gpu/index.html?highlight=tree_method\">documentation.</a>\n",
    "\n",
    ">`eval_metric`: Evaluation metrics for validation data, a default metric will be assigned according to objective. \n",
    "\n",
    ">`objective: 'binary:hinge'`: hinge loss for binary classification. This makes predictions of 0 or 1, rather than producing probabilities. *I tried using this but the score went below 72%.*  \n",
    "\n",
    ">`objective: 'binary:logistic'`: logistic regression for binary classification, output probability.\n",
    "\n"
   ]
  },
  {
   "cell_type": "code",
   "execution_count": 47,
   "id": "14edbf6d",
   "metadata": {
    "execution": {
     "iopub.execute_input": "2021-10-27T15:47:51.652357Z",
     "iopub.status.busy": "2021-10-27T15:47:51.651673Z",
     "iopub.status.idle": "2021-10-27T15:47:51.655445Z",
     "shell.execute_reply": "2021-10-27T15:47:51.654974Z",
     "shell.execute_reply.started": "2021-10-27T15:22:43.615471Z"
    },
    "papermill": {
     "duration": 0.086686,
     "end_time": "2021-10-27T15:47:51.655563",
     "exception": false,
     "start_time": "2021-10-27T15:47:51.568877",
     "status": "completed"
    },
    "tags": []
   },
   "outputs": [],
   "source": [
    "MAX_TREE_DEPTH = [4]#complex>>>\n",
    "TREE_METHOD = ['gpu_hist']\n",
    "SUBSAMPLE = [0.7]\n",
    "REGULARIZATION = [0.1, 0.01]\n",
    "GAMMA = [0.2, 0.3]\n",
    "POS_WEIGHT = [0.26]\n",
    "OBJ = ['binary:logistic']\n",
    "EVAL = ['auc']\n",
    "ETA = [0.11]\n",
    "\n",
    "param_grid = {'tree_method': TREE_METHOD, 'max_depth': MAX_TREE_DEPTH, 'alpha': REGULARIZATION,\n",
    "          'gamma': GAMMA, 'subsample': SUBSAMPLE, 'scale_pos_weight': POS_WEIGHT, 'learning_rate': ETA, \n",
    "          'objective': OBJ, 'eval_metric': EVAL}"
   ]
  },
  {
   "cell_type": "markdown",
   "id": "2a722649",
   "metadata": {
    "papermill": {
     "duration": 0.085246,
     "end_time": "2021-10-27T15:47:51.817554",
     "exception": false,
     "start_time": "2021-10-27T15:47:51.732308",
     "status": "completed"
    },
    "tags": []
   },
   "source": [
    ">#### The above parameters are what I found to give the greatest score (by trial and error)."
   ]
  },
  {
   "cell_type": "markdown",
   "id": "3ef06b5c",
   "metadata": {
    "papermill": {
     "duration": 0.075712,
     "end_time": "2021-10-27T15:47:51.982319",
     "exception": false,
     "start_time": "2021-10-27T15:47:51.906607",
     "status": "completed"
    },
    "tags": []
   },
   "source": [
    "### Introducing Cross Validation:"
   ]
  },
  {
   "cell_type": "code",
   "execution_count": 48,
   "id": "b0de4653",
   "metadata": {
    "execution": {
     "iopub.execute_input": "2021-10-27T15:47:52.137187Z",
     "iopub.status.busy": "2021-10-27T15:47:52.136359Z",
     "iopub.status.idle": "2021-10-27T15:47:52.138952Z",
     "shell.execute_reply": "2021-10-27T15:47:52.138543Z",
     "shell.execute_reply.started": "2021-10-27T15:22:48.147884Z"
    },
    "papermill": {
     "duration": 0.080576,
     "end_time": "2021-10-27T15:47:52.139091",
     "exception": false,
     "start_time": "2021-10-27T15:47:52.058515",
     "status": "completed"
    },
    "tags": []
   },
   "outputs": [],
   "source": [
    "cv = RepeatedStratifiedKFold(n_splits=10, n_repeats=3, random_state=seed)"
   ]
  },
  {
   "cell_type": "code",
   "execution_count": 49,
   "id": "b3889613",
   "metadata": {
    "execution": {
     "iopub.execute_input": "2021-10-27T15:47:52.293705Z",
     "iopub.status.busy": "2021-10-27T15:47:52.292806Z",
     "iopub.status.idle": "2021-10-27T15:48:18.647752Z",
     "shell.execute_reply": "2021-10-27T15:48:18.648407Z",
     "shell.execute_reply.started": "2021-10-27T15:22:49.329517Z"
    },
    "papermill": {
     "duration": 26.435535,
     "end_time": "2021-10-27T15:48:18.648628",
     "exception": false,
     "start_time": "2021-10-27T15:47:52.213093",
     "status": "completed"
    },
    "tags": []
   },
   "outputs": [
    {
     "name": "stdout",
     "output_type": "stream",
     "text": [
      "CPU times: user 852 ms, sys: 104 ms, total: 956 ms\n",
      "Wall time: 26.4 s\n"
     ]
    }
   ],
   "source": [
    "%%time\n",
    "grid = GridSearchCV(estimator=XGB_model, param_grid=param_grid, scoring='roc_auc', cv=cv, n_jobs=-1)\n",
    "grid_fit = grid.fit(X_train,y_train)"
   ]
  },
  {
   "cell_type": "markdown",
   "id": "73023445",
   "metadata": {
    "papermill": {
     "duration": 0.072526,
     "end_time": "2021-10-27T15:48:18.803183",
     "exception": false,
     "start_time": "2021-10-27T15:48:18.730657",
     "status": "completed"
    },
    "tags": []
   },
   "source": [
    ">### The training process has been completed!!"
   ]
  },
  {
   "cell_type": "markdown",
   "id": "e077ae4c",
   "metadata": {
    "papermill": {
     "duration": 0.07357,
     "end_time": "2021-10-27T15:48:18.950212",
     "exception": false,
     "start_time": "2021-10-27T15:48:18.876642",
     "status": "completed"
    },
    "tags": []
   },
   "source": [
    "# 4. <a id=\"results\">Results</a>\n",
    "### Thus, I have successfully trained the XG Boost model using cross validation and finally fine tuned the hyperparameters, with the best scores as shown below."
   ]
  },
  {
   "cell_type": "code",
   "execution_count": 50,
   "id": "c805435a",
   "metadata": {
    "execution": {
     "iopub.execute_input": "2021-10-27T15:48:19.104757Z",
     "iopub.status.busy": "2021-10-27T15:48:19.104178Z",
     "iopub.status.idle": "2021-10-27T15:48:19.106926Z",
     "shell.execute_reply": "2021-10-27T15:48:19.107666Z",
     "shell.execute_reply.started": "2021-10-27T15:23:19.434918Z"
    },
    "papermill": {
     "duration": 0.082278,
     "end_time": "2021-10-27T15:48:19.107843",
     "exception": false,
     "start_time": "2021-10-27T15:48:19.025565",
     "status": "completed"
    },
    "tags": []
   },
   "outputs": [
    {
     "name": "stdout",
     "output_type": "stream",
     "text": [
      "Best Score: 85.42 % with these parameters: {'alpha': 0.1, 'eval_metric': 'auc', 'gamma': 0.3, 'learning_rate': 0.11, 'max_depth': 4, 'objective': 'binary:logistic', 'scale_pos_weight': 0.26, 'subsample': 0.7, 'tree_method': 'gpu_hist'})\n"
     ]
    }
   ],
   "source": [
    "best_score = grid_fit.best_score_\n",
    "best_params = grid_fit.best_params_\n",
    "\n",
    "print('Best Score: {:.2f} % with these parameters: {})'.format(best_score*100, best_params))"
   ]
  },
  {
   "cell_type": "markdown",
   "id": "e592bd1e",
   "metadata": {
    "papermill": {
     "duration": 0.073674,
     "end_time": "2021-10-27T15:48:19.257207",
     "exception": false,
     "start_time": "2021-10-27T15:48:19.183533",
     "status": "completed"
    },
    "tags": []
   },
   "source": [
    "### Other parameters which I tried:\n",
    "- Best Score: **85.40%** with these parameters: {'alpha': 0.01, 'eval_metric': 'auc', 'gamma': 0.2, 'learning_rate': 0.1, 'max_depth': 4, 'objective': 'binary:logistic', 'scale_pos_weight': 0.26, 'subsample': 0.5, 'tree_method': 'gpu_hist'}), \n",
    "- Best Score: **85.43%** with these parameters: {'alpha': 0.01, 'eval_metric': 'auc', 'gamma': 0.3, 'learning_rate': 0.1, 'max_depth': 4, 'objective': 'binary:logistic', 'scale_pos_weight': 0.26, 'subsample': 0.6, 'tree_method': 'gpu_hist'}),\n",
    "- Best Score: **85.44%** with these parameters: {'alpha': 0.01, 'eval_metric': 'auc', 'gamma': 0.2, 'learning_rate': 0.11, 'max_depth': 4, 'objective': 'binary:logistic', 'scale_pos_weight': 0.26, 'subsample': 0.7, 'tree_method': 'gpu_hist'}),  \n",
    "- Best Score: **85.44%** with these parameters: {'alpha': 0.1, 'eval_metric': 'auc', 'gamma': 0.3, 'learning_rate': 0.11, 'max_depth': 4, 'objective': 'binary:logistic', 'scale_pos_weight': 0.26, 'subsample': 0.7, 'tree_method': 'gpu_hist'})\n"
   ]
  },
  {
   "cell_type": "code",
   "execution_count": 51,
   "id": "adfa8a78",
   "metadata": {
    "execution": {
     "iopub.execute_input": "2021-10-27T15:48:19.411385Z",
     "iopub.status.busy": "2021-10-27T15:48:19.407923Z",
     "iopub.status.idle": "2021-10-27T15:48:19.413411Z",
     "shell.execute_reply": "2021-10-27T15:48:19.414403Z",
     "shell.execute_reply.started": "2021-10-27T15:23:32.923990Z"
    },
    "papermill": {
     "duration": 0.084378,
     "end_time": "2021-10-27T15:48:19.414556",
     "exception": false,
     "start_time": "2021-10-27T15:48:19.330178",
     "status": "completed"
    },
    "tags": []
   },
   "outputs": [],
   "source": [
    "#Passing our final model with the test data\n",
    "y_pred2 = grid_fit.predict(X_test)"
   ]
  },
  {
   "cell_type": "code",
   "execution_count": 52,
   "id": "c69f96b8",
   "metadata": {
    "execution": {
     "iopub.execute_input": "2021-10-27T15:48:19.569070Z",
     "iopub.status.busy": "2021-10-27T15:48:19.568292Z",
     "iopub.status.idle": "2021-10-27T15:48:19.738390Z",
     "shell.execute_reply": "2021-10-27T15:48:19.738776Z",
     "shell.execute_reply.started": "2021-10-27T15:25:07.136949Z"
    },
    "papermill": {
     "duration": 0.24868,
     "end_time": "2021-10-27T15:48:19.738924",
     "exception": false,
     "start_time": "2021-10-27T15:48:19.490244",
     "status": "completed"
    },
    "tags": []
   },
   "outputs": [
    {
     "name": "stdout",
     "output_type": "stream",
     "text": [
      "Confusion Matrix: \n",
      " [[1168   10]\n",
      " [ 242   80]]\n"
     ]
    },
    {
     "data": {
      "text/plain": [
       "<sklearn.metrics._plot.roc_curve.RocCurveDisplay at 0x7fcd68077f90>"
      ]
     },
     "execution_count": 52,
     "metadata": {},
     "output_type": "execute_result"
    },
    {
     "data": {
      "image/png": "[encoded data removed]",
      "text/plain": [
       "<Figure size 432x432 with 1 Axes>"
      ]
     },
     "metadata": {
      "needs_background": "light"
     },
     "output_type": "display_data"
    }
   ],
   "source": [
    "print(\"Confusion Matrix: \\n\",confusion_matrix(y_test, y_pred2))\n",
    "fig, ax = plt.subplots()\n",
    "ax.plot([0, 1], [0, 1], linestyle=\"--\", lw=2, color=\"r\", label=\"Chance\", alpha=0.8)\n",
    "fig.set_figheight(6)\n",
    "fig.set_figwidth(6)\n",
    "plot_roc_curve(grid_fit, X_test, y_test, ax=ax)"
   ]
  },
  {
   "cell_type": "code",
   "execution_count": 53,
   "id": "81605757",
   "metadata": {
    "execution": {
     "iopub.execute_input": "2021-10-27T15:48:19.918899Z",
     "iopub.status.busy": "2021-10-27T15:48:19.905034Z",
     "iopub.status.idle": "2021-10-27T15:48:21.010493Z",
     "shell.execute_reply": "2021-10-27T15:48:21.010949Z",
     "shell.execute_reply.started": "2021-10-27T15:33:18.261647Z"
    },
    "papermill": {
     "duration": 1.192907,
     "end_time": "2021-10-27T15:48:21.011123",
     "exception": false,
     "start_time": "2021-10-27T15:48:19.818216",
     "status": "completed"
    },
    "tags": []
   },
   "outputs": [
    {
     "name": "stdout",
     "output_type": "stream",
     "text": [
      "ROCs for comparison: Above Training set, Below Testing set\n"
     ]
    },
    {
     "data": {
      "text/plain": [
       "<sklearn.metrics._plot.roc_curve.RocCurveDisplay at 0x7fcd61283a10>"
      ]
     },
     "execution_count": 53,
     "metadata": {},
     "output_type": "execute_result"
    },
    {
     "data": {
      "image/png": "[encoded data removed]",
      "text/plain": [
       "<Figure size 1440x864 with 6 Axes>"
      ]
     },
     "metadata": {
      "needs_background": "light"
     },
     "output_type": "display_data"
    }
   ],
   "source": [
    "print('ROCs for comparison: Above Training set, Below Testing set')\n",
    "fig, ((ax1, ax2, ax3), (ax4, ax5, ax6)) = plt.subplots(nrows=2, ncols=3)\n",
    "fig.set_figheight(12)\n",
    "fig.set_figwidth(20)\n",
    "\n",
    "#ROC curves for Training set\n",
    "\n",
    "ax1.plot([0, 1], [0, 1], linestyle=\"--\", lw=2, color=\"r\", label=\"Chance\", alpha=0.8)\n",
    "ax1.set_title(\"ROC for Logistic Regression\")\n",
    "plot_roc_curve(LR_model, X_train, y_train, ax=ax1)\n",
    "\n",
    "ax2.plot([0, 1], [0, 1], linestyle=\"--\", lw=2, color=\"r\", label=\"Chance\", alpha=0.8)\n",
    "ax2.set_title(\"ROC for XG-Boost\")\n",
    "plot_roc_curve(XGB_model, X_train, y_train, ax=ax2)\n",
    "\n",
    "ax3.plot([0, 1], [0, 1], linestyle=\"--\", lw=2, color=\"r\", label=\"Chance\", alpha=0.8)\n",
    "ax3.set_title(\"ROC for XG-Boost after Tuning\")\n",
    "plot_roc_curve(grid_fit, X_train, y_train, ax=ax3)\n",
    "\n",
    "#ROC curves for Testing set\n",
    "\n",
    "ax4.plot([0, 1], [0, 1], linestyle=\"--\", lw=2, color=\"r\", label=\"Chance\", alpha=0.8)\n",
    "ax4.set_title(\"ROC for Logistic Regression\")\n",
    "plot_roc_curve(LR_model, X_test, y_test, ax=ax4)\n",
    "\n",
    "ax5.plot([0, 1], [0, 1], linestyle=\"--\", lw=2, color=\"r\", label=\"Chance\", alpha=0.8)\n",
    "ax5.set_title(\"ROC for XG-Boost\")\n",
    "plot_roc_curve(XGB_model, X_test, y_test, ax=ax5)\n",
    "\n",
    "ax6.plot([0, 1], [0, 1], linestyle=\"--\", lw=2, color=\"r\", label=\"Chance\", alpha=0.8)\n",
    "ax6.set_title(\"ROC for XG-Boost after Tuning\")\n",
    "plot_roc_curve(grid_fit, X_test, y_test, ax=ax6)"
   ]
  },
  {
   "cell_type": "markdown",
   "id": "670d6197",
   "metadata": {
    "papermill": {
     "duration": 0.07773,
     "end_time": "2021-10-27T15:48:21.168860",
     "exception": false,
     "start_time": "2021-10-27T15:48:21.091130",
     "status": "completed"
    },
    "tags": []
   },
   "source": [
    "#### The above three plots give the ROC AUC curve for the training sets and the below three plots for the testing sets. It can be observed that the curve for training set is more smooth as compared to the curves for the testing sets.\n",
    "#### For the XG-Boost model trained **without** cross validation and hyperparameter tuning, the training AUC score is 0.95 but while testing it falls to 0.81, suggesting that the model must have overfit to the data. \n",
    "#### In the third column, the XG-Boost model which used cross validation during training and was hyper tuned, the training score was 0.88 and the testing score was 0.84, suggesting that the model did not overfit to the training data and hence the testing score was the highest among all three models."
   ]
  },
  {
   "cell_type": "markdown",
   "id": "0fc08514",
   "metadata": {
    "papermill": {
     "duration": 0.078164,
     "end_time": "2021-10-27T15:48:21.326111",
     "exception": false,
     "start_time": "2021-10-27T15:48:21.247947",
     "status": "completed"
    },
    "tags": []
   },
   "source": [
    "### Thus, we can observe that the AUC score improved substantially due to XG-Boost paired with the fine tuning and cross validation."
   ]
  },
  {
   "cell_type": "markdown",
   "id": "73058649",
   "metadata": {
    "papermill": {
     "duration": 0.077715,
     "end_time": "2021-10-27T15:48:21.482695",
     "exception": false,
     "start_time": "2021-10-27T15:48:21.404980",
     "status": "completed"
    },
    "tags": []
   },
   "source": [
    "# Referenced:\n",
    "[1] https://machinelearningmastery.com/xgboost-for-imbalanced-classification/  \n",
    "[2] https://xgboost.readthedocs.io/en/latest/parameter.html?highlight=learning%20rate#learning-task-parameters"
   ]
  }
 ],
 "metadata": {
  "kernelspec": {
   "display_name": "Python 3",
   "language": "python",
   "name": "python3"
  },
  "language_info": {
   "codemirror_mode": {
    "name": "ipython",
    "version": 3
   },
   "file_extension": ".py",
   "mimetype": "text/x-python",
   "name": "python",
   "nbconvert_exporter": "python",
   "pygments_lexer": "ipython3",
   "version": "3.7.10"
  },
  "papermill": {
   "default_parameters": {},
   "duration": 58.781546,
   "end_time": "2021-10-27T15:48:23.223768",
   "environment_variables": {},
   "exception": null,
   "input_path": "__notebook__.ipynb",
   "output_path": "__notebook__.ipynb",
   "parameters": {},
   "start_time": "2021-10-27T15:47:24.442222",
   "version": "2.3.3"
  }
 },
 "nbformat": 4,
 "nbformat_minor": 5
}
